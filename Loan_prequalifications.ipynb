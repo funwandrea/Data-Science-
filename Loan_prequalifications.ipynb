{
 "cells": [
  {
   "cell_type": "markdown",
   "metadata": {},
   "source": [
    "# Business Question/Understanding\n",
    "A financial institution is interested in finding what questions should they be asking a prospect to determined if the loan will be repaid.\n",
    "## step 1\n",
    "import libraries and data"
   ]
  },
  {
   "cell_type": "code",
   "execution_count": 1,
   "metadata": {},
   "outputs": [
    {
     "data": {
      "text/html": [
       "<div>\n",
       "<style scoped>\n",
       "    .dataframe tbody tr th:only-of-type {\n",
       "        vertical-align: middle;\n",
       "    }\n",
       "\n",
       "    .dataframe tbody tr th {\n",
       "        vertical-align: top;\n",
       "    }\n",
       "\n",
       "    .dataframe thead th {\n",
       "        text-align: right;\n",
       "    }\n",
       "</style>\n",
       "<table border=\"1\" class=\"dataframe\">\n",
       "  <thead>\n",
       "    <tr style=\"text-align: right;\">\n",
       "      <th></th>\n",
       "      <th>Loan ID</th>\n",
       "      <th>Customer ID</th>\n",
       "      <th>Loan Status</th>\n",
       "      <th>Current Loan Amount</th>\n",
       "      <th>Term</th>\n",
       "      <th>Credit Score</th>\n",
       "      <th>Years in current job</th>\n",
       "      <th>Home Ownership</th>\n",
       "      <th>Annual Income</th>\n",
       "      <th>Purpose</th>\n",
       "      <th>Monthly Debt</th>\n",
       "      <th>Years of Credit History</th>\n",
       "      <th>Months since last delinquent</th>\n",
       "      <th>Number of Open Accounts</th>\n",
       "      <th>Number of Credit Problems</th>\n",
       "      <th>Current Credit Balance</th>\n",
       "      <th>Maximum Open Credit</th>\n",
       "      <th>Bankruptcies</th>\n",
       "      <th>Tax Liens</th>\n",
       "    </tr>\n",
       "  </thead>\n",
       "  <tbody>\n",
       "    <tr>\n",
       "      <th>0</th>\n",
       "      <td>000025bb-5694-4cff-b17d-192b1a98ba44</td>\n",
       "      <td>5ebc8bb1-5eb9-4404-b11b-a6eebc401a19</td>\n",
       "      <td>Fully Paid</td>\n",
       "      <td>11520</td>\n",
       "      <td>Short Term</td>\n",
       "      <td>741.0</td>\n",
       "      <td>10+ years</td>\n",
       "      <td>Home Mortgage</td>\n",
       "      <td>33694.0</td>\n",
       "      <td>Debt Consolidation</td>\n",
       "      <td>$584.03</td>\n",
       "      <td>12.3</td>\n",
       "      <td>41.0</td>\n",
       "      <td>10</td>\n",
       "      <td>0</td>\n",
       "      <td>6760</td>\n",
       "      <td>16056</td>\n",
       "      <td>0.0</td>\n",
       "      <td>0.0</td>\n",
       "    </tr>\n",
       "    <tr>\n",
       "      <th>1</th>\n",
       "      <td>00002c49-3a29-4bd4-8f67-c8f8fbc1048c</td>\n",
       "      <td>927b388d-2e01-423f-a8dc-f7e42d668f46</td>\n",
       "      <td>Fully Paid</td>\n",
       "      <td>3441</td>\n",
       "      <td>Short Term</td>\n",
       "      <td>734.0</td>\n",
       "      <td>4 years</td>\n",
       "      <td>Home Mortgage</td>\n",
       "      <td>42269.0</td>\n",
       "      <td>other</td>\n",
       "      <td>$1,106.04</td>\n",
       "      <td>26.3</td>\n",
       "      <td>NaN</td>\n",
       "      <td>17</td>\n",
       "      <td>0</td>\n",
       "      <td>6262</td>\n",
       "      <td>19149</td>\n",
       "      <td>0.0</td>\n",
       "      <td>0.0</td>\n",
       "    </tr>\n",
       "    <tr>\n",
       "      <th>2</th>\n",
       "      <td>00002d89-27f3-409b-aa76-90834f359a65</td>\n",
       "      <td>defce609-c631-447d-aad6-1270615e89c4</td>\n",
       "      <td>Fully Paid</td>\n",
       "      <td>21029</td>\n",
       "      <td>Short Term</td>\n",
       "      <td>747.0</td>\n",
       "      <td>10+ years</td>\n",
       "      <td>Home Mortgage</td>\n",
       "      <td>90126.0</td>\n",
       "      <td>Debt Consolidation</td>\n",
       "      <td>$1,321.85</td>\n",
       "      <td>28.8</td>\n",
       "      <td>NaN</td>\n",
       "      <td>5</td>\n",
       "      <td>0</td>\n",
       "      <td>20967</td>\n",
       "      <td>28335</td>\n",
       "      <td>0.0</td>\n",
       "      <td>0.0</td>\n",
       "    </tr>\n",
       "    <tr>\n",
       "      <th>3</th>\n",
       "      <td>00005222-b4d8-45a4-ad8c-186057e24233</td>\n",
       "      <td>070bcecb-aae7-4485-a26a-e0403e7bb6c5</td>\n",
       "      <td>Fully Paid</td>\n",
       "      <td>18743</td>\n",
       "      <td>Short Term</td>\n",
       "      <td>747.0</td>\n",
       "      <td>10+ years</td>\n",
       "      <td>Own Home</td>\n",
       "      <td>38072.0</td>\n",
       "      <td>Debt Consolidation</td>\n",
       "      <td>$751.92</td>\n",
       "      <td>26.2</td>\n",
       "      <td>NaN</td>\n",
       "      <td>9</td>\n",
       "      <td>0</td>\n",
       "      <td>22529</td>\n",
       "      <td>43915</td>\n",
       "      <td>0.0</td>\n",
       "      <td>0.0</td>\n",
       "    </tr>\n",
       "    <tr>\n",
       "      <th>4</th>\n",
       "      <td>0000757f-a121-41ed-b17b-162e76647c1f</td>\n",
       "      <td>dde79588-12f0-4811-bab0-e2b07f633fcd</td>\n",
       "      <td>Fully Paid</td>\n",
       "      <td>11731</td>\n",
       "      <td>Short Term</td>\n",
       "      <td>746.0</td>\n",
       "      <td>4 years</td>\n",
       "      <td>Rent</td>\n",
       "      <td>50025.0</td>\n",
       "      <td>Debt Consolidation</td>\n",
       "      <td>$355.18</td>\n",
       "      <td>11.5</td>\n",
       "      <td>NaN</td>\n",
       "      <td>12</td>\n",
       "      <td>0</td>\n",
       "      <td>17391</td>\n",
       "      <td>37081</td>\n",
       "      <td>0.0</td>\n",
       "      <td>0.0</td>\n",
       "    </tr>\n",
       "  </tbody>\n",
       "</table>\n",
       "</div>"
      ],
      "text/plain": [
       "                                Loan ID                           Customer ID  \\\n",
       "0  000025bb-5694-4cff-b17d-192b1a98ba44  5ebc8bb1-5eb9-4404-b11b-a6eebc401a19   \n",
       "1  00002c49-3a29-4bd4-8f67-c8f8fbc1048c  927b388d-2e01-423f-a8dc-f7e42d668f46   \n",
       "2  00002d89-27f3-409b-aa76-90834f359a65  defce609-c631-447d-aad6-1270615e89c4   \n",
       "3  00005222-b4d8-45a4-ad8c-186057e24233  070bcecb-aae7-4485-a26a-e0403e7bb6c5   \n",
       "4  0000757f-a121-41ed-b17b-162e76647c1f  dde79588-12f0-4811-bab0-e2b07f633fcd   \n",
       "\n",
       "  Loan Status  Current Loan Amount        Term  Credit Score  \\\n",
       "0  Fully Paid                11520  Short Term         741.0   \n",
       "1  Fully Paid                 3441  Short Term         734.0   \n",
       "2  Fully Paid                21029  Short Term         747.0   \n",
       "3  Fully Paid                18743  Short Term         747.0   \n",
       "4  Fully Paid                11731  Short Term         746.0   \n",
       "\n",
       "  Years in current job Home Ownership  Annual Income             Purpose  \\\n",
       "0            10+ years  Home Mortgage        33694.0  Debt Consolidation   \n",
       "1              4 years  Home Mortgage        42269.0               other   \n",
       "2            10+ years  Home Mortgage        90126.0  Debt Consolidation   \n",
       "3            10+ years       Own Home        38072.0  Debt Consolidation   \n",
       "4              4 years           Rent        50025.0  Debt Consolidation   \n",
       "\n",
       "  Monthly Debt  Years of Credit History  Months since last delinquent  \\\n",
       "0      $584.03                     12.3                          41.0   \n",
       "1   $1,106.04                      26.3                           NaN   \n",
       "2   $1,321.85                      28.8                           NaN   \n",
       "3      $751.92                     26.2                           NaN   \n",
       "4      $355.18                     11.5                           NaN   \n",
       "\n",
       "   Number of Open Accounts  Number of Credit Problems  Current Credit Balance  \\\n",
       "0                       10                          0                    6760   \n",
       "1                       17                          0                    6262   \n",
       "2                        5                          0                   20967   \n",
       "3                        9                          0                   22529   \n",
       "4                       12                          0                   17391   \n",
       "\n",
       "  Maximum Open Credit  Bankruptcies  Tax Liens  \n",
       "0               16056           0.0        0.0  \n",
       "1               19149           0.0        0.0  \n",
       "2               28335           0.0        0.0  \n",
       "3               43915           0.0        0.0  \n",
       "4               37081           0.0        0.0  "
      ]
     },
     "execution_count": 1,
     "metadata": {},
     "output_type": "execute_result"
    }
   ],
   "source": [
    "import warnings\n",
    "warnings. filterwarnings(\"ignore\")\n",
    "from scipy import stats\n",
    "import numpy as np\n",
    "import pandas as pd\n",
    "import matplotlib.pyplot as plt\n",
    "%matplotlib inline\n",
    "df=pd.read_csv('LoansTrainingSet.csv')\n",
    "df.head()"
   ]
  },
  {
   "cell_type": "markdown",
   "metadata": {},
   "source": [
    "## step 2 data exploration"
   ]
  },
  {
   "cell_type": "code",
   "execution_count": 2,
   "metadata": {
    "scrolled": true
   },
   "outputs": [
    {
     "name": "stdout",
     "output_type": "stream",
     "text": [
      "<class 'pandas.core.frame.DataFrame'>\n",
      "RangeIndex: 256984 entries, 0 to 256983\n",
      "Data columns (total 19 columns):\n",
      "Loan ID                         256984 non-null object\n",
      "Customer ID                     256984 non-null object\n",
      "Loan Status                     256984 non-null object\n",
      "Current Loan Amount             256984 non-null int64\n",
      "Term                            256984 non-null object\n",
      "Credit Score                    195308 non-null float64\n",
      "Years in current job            245508 non-null object\n",
      "Home Ownership                  256984 non-null object\n",
      "Annual Income                   195308 non-null float64\n",
      "Purpose                         256984 non-null object\n",
      "Monthly Debt                    256984 non-null object\n",
      "Years of Credit History         256984 non-null float64\n",
      "Months since last delinquent    116601 non-null float64\n",
      "Number of Open Accounts         256984 non-null int64\n",
      "Number of Credit Problems       256984 non-null int64\n",
      "Current Credit Balance          256984 non-null int64\n",
      "Maximum Open Credit             256984 non-null object\n",
      "Bankruptcies                    256455 non-null float64\n",
      "Tax Liens                       256961 non-null float64\n",
      "dtypes: float64(6), int64(4), object(9)\n",
      "memory usage: 37.3+ MB\n"
     ]
    }
   ],
   "source": [
    "df.info()"
   ]
  },
  {
   "cell_type": "markdown",
   "metadata": {},
   "source": [
    "look at the totall missing values for each column"
   ]
  },
  {
   "cell_type": "code",
   "execution_count": 3,
   "metadata": {},
   "outputs": [
    {
     "data": {
      "text/plain": [
       "Loan ID                              0\n",
       "Customer ID                          0\n",
       "Loan Status                          0\n",
       "Current Loan Amount                  0\n",
       "Term                                 0\n",
       "Credit Score                     61676\n",
       "Years in current job             11476\n",
       "Home Ownership                       0\n",
       "Annual Income                    61676\n",
       "Purpose                              0\n",
       "Monthly Debt                         0\n",
       "Years of Credit History              0\n",
       "Months since last delinquent    140383\n",
       "Number of Open Accounts              0\n",
       "Number of Credit Problems            0\n",
       "Current Credit Balance               0\n",
       "Maximum Open Credit                  0\n",
       "Bankruptcies                       529\n",
       "Tax Liens                           23\n",
       "dtype: int64"
      ]
     },
     "execution_count": 3,
     "metadata": {},
     "output_type": "execute_result"
    }
   ],
   "source": [
    "df.isnull().sum()"
   ]
  },
  {
   "cell_type": "code",
   "execution_count": 4,
   "metadata": {},
   "outputs": [
    {
     "data": {
      "text/html": [
       "<div>\n",
       "<style scoped>\n",
       "    .dataframe tbody tr th:only-of-type {\n",
       "        vertical-align: middle;\n",
       "    }\n",
       "\n",
       "    .dataframe tbody tr th {\n",
       "        vertical-align: top;\n",
       "    }\n",
       "\n",
       "    .dataframe thead th {\n",
       "        text-align: right;\n",
       "    }\n",
       "</style>\n",
       "<table border=\"1\" class=\"dataframe\">\n",
       "  <thead>\n",
       "    <tr style=\"text-align: right;\">\n",
       "      <th></th>\n",
       "      <th>Current Loan Amount</th>\n",
       "      <th>Credit Score</th>\n",
       "      <th>Annual Income</th>\n",
       "      <th>Years of Credit History</th>\n",
       "      <th>Months since last delinquent</th>\n",
       "      <th>Number of Open Accounts</th>\n",
       "      <th>Number of Credit Problems</th>\n",
       "      <th>Current Credit Balance</th>\n",
       "      <th>Bankruptcies</th>\n",
       "      <th>Tax Liens</th>\n",
       "    </tr>\n",
       "  </thead>\n",
       "  <tbody>\n",
       "    <tr>\n",
       "      <th>count</th>\n",
       "      <td>2.569840e+05</td>\n",
       "      <td>195308.000000</td>\n",
       "      <td>1.953080e+05</td>\n",
       "      <td>256984.000000</td>\n",
       "      <td>116601.000000</td>\n",
       "      <td>256984.000000</td>\n",
       "      <td>256984.000000</td>\n",
       "      <td>2.569840e+05</td>\n",
       "      <td>256455.000000</td>\n",
       "      <td>256961.000000</td>\n",
       "    </tr>\n",
       "    <tr>\n",
       "      <th>mean</th>\n",
       "      <td>1.371331e+07</td>\n",
       "      <td>1251.116099</td>\n",
       "      <td>7.195272e+04</td>\n",
       "      <td>18.290195</td>\n",
       "      <td>34.881450</td>\n",
       "      <td>11.106267</td>\n",
       "      <td>0.156628</td>\n",
       "      <td>1.540656e+04</td>\n",
       "      <td>0.110316</td>\n",
       "      <td>0.027203</td>\n",
       "    </tr>\n",
       "    <tr>\n",
       "      <th>std</th>\n",
       "      <td>3.438131e+07</td>\n",
       "      <td>1762.016848</td>\n",
       "      <td>5.887757e+04</td>\n",
       "      <td>7.075747</td>\n",
       "      <td>21.854165</td>\n",
       "      <td>4.982982</td>\n",
       "      <td>0.460731</td>\n",
       "      <td>1.966506e+04</td>\n",
       "      <td>0.336229</td>\n",
       "      <td>0.245950</td>\n",
       "    </tr>\n",
       "    <tr>\n",
       "      <th>min</th>\n",
       "      <td>5.050000e+02</td>\n",
       "      <td>585.000000</td>\n",
       "      <td>0.000000e+00</td>\n",
       "      <td>3.400000</td>\n",
       "      <td>0.000000</td>\n",
       "      <td>0.000000</td>\n",
       "      <td>0.000000</td>\n",
       "      <td>0.000000e+00</td>\n",
       "      <td>0.000000</td>\n",
       "      <td>0.000000</td>\n",
       "    </tr>\n",
       "    <tr>\n",
       "      <th>25%</th>\n",
       "      <td>8.299000e+03</td>\n",
       "      <td>714.000000</td>\n",
       "      <td>4.432100e+04</td>\n",
       "      <td>13.500000</td>\n",
       "      <td>16.000000</td>\n",
       "      <td>8.000000</td>\n",
       "      <td>0.000000</td>\n",
       "      <td>5.974000e+03</td>\n",
       "      <td>0.000000</td>\n",
       "      <td>0.000000</td>\n",
       "    </tr>\n",
       "    <tr>\n",
       "      <th>50%</th>\n",
       "      <td>1.429800e+04</td>\n",
       "      <td>733.000000</td>\n",
       "      <td>6.124200e+04</td>\n",
       "      <td>17.000000</td>\n",
       "      <td>32.000000</td>\n",
       "      <td>10.000000</td>\n",
       "      <td>0.000000</td>\n",
       "      <td>1.107800e+04</td>\n",
       "      <td>0.000000</td>\n",
       "      <td>0.000000</td>\n",
       "    </tr>\n",
       "    <tr>\n",
       "      <th>75%</th>\n",
       "      <td>2.436700e+04</td>\n",
       "      <td>744.000000</td>\n",
       "      <td>8.646200e+04</td>\n",
       "      <td>21.700000</td>\n",
       "      <td>51.000000</td>\n",
       "      <td>14.000000</td>\n",
       "      <td>0.000000</td>\n",
       "      <td>1.931900e+04</td>\n",
       "      <td>0.000000</td>\n",
       "      <td>0.000000</td>\n",
       "    </tr>\n",
       "    <tr>\n",
       "      <th>max</th>\n",
       "      <td>1.000000e+08</td>\n",
       "      <td>7510.000000</td>\n",
       "      <td>8.713547e+06</td>\n",
       "      <td>70.500000</td>\n",
       "      <td>176.000000</td>\n",
       "      <td>76.000000</td>\n",
       "      <td>11.000000</td>\n",
       "      <td>1.731412e+06</td>\n",
       "      <td>7.000000</td>\n",
       "      <td>11.000000</td>\n",
       "    </tr>\n",
       "  </tbody>\n",
       "</table>\n",
       "</div>"
      ],
      "text/plain": [
       "       Current Loan Amount   Credit Score  Annual Income  \\\n",
       "count         2.569840e+05  195308.000000   1.953080e+05   \n",
       "mean          1.371331e+07    1251.116099   7.195272e+04   \n",
       "std           3.438131e+07    1762.016848   5.887757e+04   \n",
       "min           5.050000e+02     585.000000   0.000000e+00   \n",
       "25%           8.299000e+03     714.000000   4.432100e+04   \n",
       "50%           1.429800e+04     733.000000   6.124200e+04   \n",
       "75%           2.436700e+04     744.000000   8.646200e+04   \n",
       "max           1.000000e+08    7510.000000   8.713547e+06   \n",
       "\n",
       "       Years of Credit History  Months since last delinquent  \\\n",
       "count            256984.000000                 116601.000000   \n",
       "mean                 18.290195                     34.881450   \n",
       "std                   7.075747                     21.854165   \n",
       "min                   3.400000                      0.000000   \n",
       "25%                  13.500000                     16.000000   \n",
       "50%                  17.000000                     32.000000   \n",
       "75%                  21.700000                     51.000000   \n",
       "max                  70.500000                    176.000000   \n",
       "\n",
       "       Number of Open Accounts  Number of Credit Problems  \\\n",
       "count            256984.000000              256984.000000   \n",
       "mean                 11.106267                   0.156628   \n",
       "std                   4.982982                   0.460731   \n",
       "min                   0.000000                   0.000000   \n",
       "25%                   8.000000                   0.000000   \n",
       "50%                  10.000000                   0.000000   \n",
       "75%                  14.000000                   0.000000   \n",
       "max                  76.000000                  11.000000   \n",
       "\n",
       "       Current Credit Balance   Bankruptcies      Tax Liens  \n",
       "count            2.569840e+05  256455.000000  256961.000000  \n",
       "mean             1.540656e+04       0.110316       0.027203  \n",
       "std              1.966506e+04       0.336229       0.245950  \n",
       "min              0.000000e+00       0.000000       0.000000  \n",
       "25%              5.974000e+03       0.000000       0.000000  \n",
       "50%              1.107800e+04       0.000000       0.000000  \n",
       "75%              1.931900e+04       0.000000       0.000000  \n",
       "max              1.731412e+06       7.000000      11.000000  "
      ]
     },
     "execution_count": 4,
     "metadata": {},
     "output_type": "execute_result"
    }
   ],
   "source": [
    "df.describe()"
   ]
  },
  {
   "cell_type": "code",
   "execution_count": 5,
   "metadata": {},
   "outputs": [
    {
     "data": {
      "text/plain": [
       "215700"
      ]
     },
     "execution_count": 5,
     "metadata": {},
     "output_type": "execute_result"
    }
   ],
   "source": [
    "df['Loan ID'].nunique()"
   ]
  },
  {
   "cell_type": "code",
   "execution_count": 6,
   "metadata": {},
   "outputs": [
    {
     "data": {
      "text/plain": [
       "6a6c1a55-ffdd-4d83-a1fc-c3172f1269bc    4\n",
       "7fb3764b-41d1-490a-ae20-519f52f57ec6    4\n",
       "c63a3856-d3f2-4688-a453-68fea77c7485    4\n",
       "203116c4-2d56-410b-8bb4-759385a5d5b9    4\n",
       "f6b73804-d743-4157-9318-1f734add3c60    4\n",
       "e769377c-5231-4798-bee9-bb3d40858577    4\n",
       "8ec1ceab-5b04-44b5-9104-6883640dd112    4\n",
       "fb111476-b40f-4c5d-957d-e19bea1cf4d6    4\n",
       "094314ab-0d40-4128-abb6-c2202834fb38    4\n",
       "15b3c02a-76a3-48cf-b0ec-9809043f1c3a    4\n",
       "6b5e6c87-50b8-4062-bebd-0d90b2522c0f    4\n",
       "a75b8c35-a38e-4c3e-927d-97a5ebc6decf    4\n",
       "0c15c9d6-2162-454c-9c06-27497f676dbe    4\n",
       "1573869c-f52f-434e-94f1-e231bfeb0e3a    4\n",
       "56cf7eae-96dd-4864-b686-4a12a46e77a3    4\n",
       "bbf7a3d6-c415-417e-b6a1-5095a6a5fcca    4\n",
       "c0a34486-61a2-4d15-97f3-a713ac0c7b3e    4\n",
       "35eb54cf-f061-4345-866c-0165701e3590    4\n",
       "afd80564-9b2e-4796-915c-ab0331813cad    4\n",
       "99a45dc4-95be-493c-9702-307e80c6cc47    4\n",
       "f1f504ad-28de-4642-8001-d4501ddfb124    4\n",
       "a4290839-de66-4452-9304-d90a08ccfa9e    4\n",
       "d2232084-e9a8-4a66-865c-29a035959f3c    4\n",
       "505d297d-90ba-41da-a490-ae465c9dc836    4\n",
       "b4d07db5-bc2f-45ef-af19-e73b3e52e706    4\n",
       "a54926b5-2bbd-4b27-9757-03160dcf549c    4\n",
       "f91e3311-d644-4c87-8f42-b036aadb47ab    4\n",
       "373f6d49-b000-4fd1-9dbb-c965388ee0d9    4\n",
       "deab27c3-ebd0-45f9-be33-15d2b5ab05ca    4\n",
       "fe052871-6cfb-4e14-84a1-2e7ab999ab9e    4\n",
       "                                       ..\n",
       "4dff82ff-4efb-4ffb-8f0e-6bbef91ad22a    1\n",
       "cbd1a190-0d99-4cac-b98b-06f7c545100f    1\n",
       "a9e9f694-c3b5-49fe-b5a0-0b2be199ee00    1\n",
       "6c7b3a39-2f21-4424-8314-014df06e0bd9    1\n",
       "71d77ad3-eb90-46aa-9e8e-336b612a8efe    1\n",
       "4652fa1d-b611-4208-9ea1-ccd5621769a9    1\n",
       "1de445fe-8f90-4953-9dbf-d2bfc5c1e6bf    1\n",
       "71c6e079-194b-43fa-8ca9-6cab812f4052    1\n",
       "4d819c37-c460-46a9-8a24-0c4428d63fcf    1\n",
       "c5cb952d-d529-4385-ad3d-209c7d09da0c    1\n",
       "dbb87aee-b386-4677-93ef-f9ab904f0820    1\n",
       "dbb062c2-776a-4b98-ae6b-22af23569168    1\n",
       "3921d40c-aa57-4930-a1dd-1601dcd46d81    1\n",
       "834a5731-bea2-41e5-8633-d7288dfb0d86    1\n",
       "9c634e81-71d1-44cb-a785-9dba93c8b8d3    1\n",
       "2e53e56c-93a2-4e5a-8ba6-9b184cdca2d3    1\n",
       "5a144f52-ba3b-4289-83f7-0d88ec399109    1\n",
       "4c998d9b-dc81-46c1-9da9-121b56159e3a    1\n",
       "af6db906-4503-43e0-a8b1-c62bd6d0700c    1\n",
       "85ca5164-69bb-4b65-b8e7-7e88ec7d015a    1\n",
       "914a7758-49df-4eab-8cdc-4fc5bc6b725b    1\n",
       "6d791ed7-9164-4cdd-91d1-8b7adf177088    1\n",
       "ef1f193b-2bfa-4ee1-9385-df756eb68ad5    1\n",
       "39456ee2-ba76-49ec-ae3a-f80b7ac7a494    1\n",
       "36fad1f6-8b2e-452f-a016-5f15cf492a8a    1\n",
       "287e3473-6acd-4bf0-8d9a-39d8b7afff6b    1\n",
       "c2ab21f5-d47b-47fa-ab9d-e2a81766345e    1\n",
       "67ca1584-5261-4d24-b808-3eed3e8bd2f3    1\n",
       "2d1ef1e5-800a-4860-bba9-a91dec8379fc    1\n",
       "3eeb98bd-3da0-4411-a50b-64b159a1bfc0    1\n",
       "Name: Loan ID, Length: 215700, dtype: int64"
      ]
     },
     "execution_count": 6,
     "metadata": {},
     "output_type": "execute_result"
    }
   ],
   "source": [
    "df['Loan ID'].value_counts()"
   ]
  },
  {
   "cell_type": "code",
   "execution_count": 7,
   "metadata": {
    "scrolled": true
   },
   "outputs": [
    {
     "data": {
      "text/plain": [
       "Loan ID                              0\n",
       "Customer ID                          0\n",
       "Loan Status                          0\n",
       "Current Loan Amount                  0\n",
       "Term                                 0\n",
       "Credit Score                     61676\n",
       "Years in current job             11476\n",
       "Home Ownership                       0\n",
       "Annual Income                    61676\n",
       "Purpose                              0\n",
       "Monthly Debt                         0\n",
       "Years of Credit History              0\n",
       "Months since last delinquent    140383\n",
       "Number of Open Accounts              0\n",
       "Number of Credit Problems            0\n",
       "Current Credit Balance               0\n",
       "Maximum Open Credit                  0\n",
       "Bankruptcies                       529\n",
       "Tax Liens                           23\n",
       "dtype: int64"
      ]
     },
     "execution_count": 7,
     "metadata": {},
     "output_type": "execute_result"
    }
   ],
   "source": [
    "df.isnull().sum()"
   ]
  },
  {
   "cell_type": "markdown",
   "metadata": {},
   "source": [
    "## change loan status from words to numbers"
   ]
  },
  {
   "cell_type": "code",
   "execution_count": 8,
   "metadata": {},
   "outputs": [],
   "source": [
    "df['Loan Status1']=df['Loan Status']"
   ]
  },
  {
   "cell_type": "code",
   "execution_count": 9,
   "metadata": {},
   "outputs": [],
   "source": [
    "df['Loan Status1']=df['Loan Status1'].map(lambda x:1 if x=='Fully Paid' else 0)"
   ]
  },
  {
   "cell_type": "code",
   "execution_count": 10,
   "metadata": {},
   "outputs": [
    {
     "data": {
      "text/plain": [
       "array(['Short Term', 'Long Term'], dtype=object)"
      ]
     },
     "execution_count": 10,
     "metadata": {},
     "output_type": "execute_result"
    }
   ],
   "source": [
    "df['Term'].unique()"
   ]
  },
  {
   "cell_type": "code",
   "execution_count": 11,
   "metadata": {},
   "outputs": [],
   "source": [
    "df['Term1']=df['Term']"
   ]
  },
  {
   "cell_type": "code",
   "execution_count": 12,
   "metadata": {},
   "outputs": [],
   "source": [
    "df['Term1']=df.Term1.astype(\"category\").cat.codes"
   ]
  },
  {
   "cell_type": "code",
   "execution_count": 13,
   "metadata": {},
   "outputs": [],
   "source": [
    "df['Purpose1']=df['Purpose']"
   ]
  },
  {
   "cell_type": "code",
   "execution_count": 14,
   "metadata": {},
   "outputs": [],
   "source": [
    "df['Purpose1']=df.Purpose1.astype(\"category\").cat.codes"
   ]
  },
  {
   "cell_type": "code",
   "execution_count": 15,
   "metadata": {
    "scrolled": true
   },
   "outputs": [],
   "source": [
    "df['Home_Ownership1']=df['Home Ownership']"
   ]
  },
  {
   "cell_type": "code",
   "execution_count": 16,
   "metadata": {},
   "outputs": [],
   "source": [
    "df['Home_Ownership1']=df.Home_Ownership1.astype(\"category\").cat.codes"
   ]
  },
  {
   "cell_type": "code",
   "execution_count": 17,
   "metadata": {
    "scrolled": true
   },
   "outputs": [
    {
     "data": {
      "text/html": [
       "<div>\n",
       "<style scoped>\n",
       "    .dataframe tbody tr th:only-of-type {\n",
       "        vertical-align: middle;\n",
       "    }\n",
       "\n",
       "    .dataframe tbody tr th {\n",
       "        vertical-align: top;\n",
       "    }\n",
       "\n",
       "    .dataframe thead th {\n",
       "        text-align: right;\n",
       "    }\n",
       "</style>\n",
       "<table border=\"1\" class=\"dataframe\">\n",
       "  <thead>\n",
       "    <tr style=\"text-align: right;\">\n",
       "      <th></th>\n",
       "      <th>Loan ID</th>\n",
       "      <th>Customer ID</th>\n",
       "      <th>Loan Status</th>\n",
       "      <th>Current Loan Amount</th>\n",
       "      <th>Term</th>\n",
       "      <th>Credit Score</th>\n",
       "      <th>Years in current job</th>\n",
       "      <th>Home Ownership</th>\n",
       "      <th>Annual Income</th>\n",
       "      <th>Purpose</th>\n",
       "      <th>...</th>\n",
       "      <th>Number of Open Accounts</th>\n",
       "      <th>Number of Credit Problems</th>\n",
       "      <th>Current Credit Balance</th>\n",
       "      <th>Maximum Open Credit</th>\n",
       "      <th>Bankruptcies</th>\n",
       "      <th>Tax Liens</th>\n",
       "      <th>Loan Status1</th>\n",
       "      <th>Term1</th>\n",
       "      <th>Purpose1</th>\n",
       "      <th>Home_Ownership1</th>\n",
       "    </tr>\n",
       "  </thead>\n",
       "  <tbody>\n",
       "    <tr>\n",
       "      <th>0</th>\n",
       "      <td>000025bb-5694-4cff-b17d-192b1a98ba44</td>\n",
       "      <td>5ebc8bb1-5eb9-4404-b11b-a6eebc401a19</td>\n",
       "      <td>Fully Paid</td>\n",
       "      <td>11520</td>\n",
       "      <td>Short Term</td>\n",
       "      <td>741.0</td>\n",
       "      <td>10+ years</td>\n",
       "      <td>Home Mortgage</td>\n",
       "      <td>33694.0</td>\n",
       "      <td>Debt Consolidation</td>\n",
       "      <td>...</td>\n",
       "      <td>10</td>\n",
       "      <td>0</td>\n",
       "      <td>6760</td>\n",
       "      <td>16056</td>\n",
       "      <td>0.0</td>\n",
       "      <td>0.0</td>\n",
       "      <td>1</td>\n",
       "      <td>1</td>\n",
       "      <td>3</td>\n",
       "      <td>1</td>\n",
       "    </tr>\n",
       "    <tr>\n",
       "      <th>1</th>\n",
       "      <td>00002c49-3a29-4bd4-8f67-c8f8fbc1048c</td>\n",
       "      <td>927b388d-2e01-423f-a8dc-f7e42d668f46</td>\n",
       "      <td>Fully Paid</td>\n",
       "      <td>3441</td>\n",
       "      <td>Short Term</td>\n",
       "      <td>734.0</td>\n",
       "      <td>4 years</td>\n",
       "      <td>Home Mortgage</td>\n",
       "      <td>42269.0</td>\n",
       "      <td>other</td>\n",
       "      <td>...</td>\n",
       "      <td>17</td>\n",
       "      <td>0</td>\n",
       "      <td>6262</td>\n",
       "      <td>19149</td>\n",
       "      <td>0.0</td>\n",
       "      <td>0.0</td>\n",
       "      <td>1</td>\n",
       "      <td>1</td>\n",
       "      <td>9</td>\n",
       "      <td>1</td>\n",
       "    </tr>\n",
       "    <tr>\n",
       "      <th>2</th>\n",
       "      <td>00002d89-27f3-409b-aa76-90834f359a65</td>\n",
       "      <td>defce609-c631-447d-aad6-1270615e89c4</td>\n",
       "      <td>Fully Paid</td>\n",
       "      <td>21029</td>\n",
       "      <td>Short Term</td>\n",
       "      <td>747.0</td>\n",
       "      <td>10+ years</td>\n",
       "      <td>Home Mortgage</td>\n",
       "      <td>90126.0</td>\n",
       "      <td>Debt Consolidation</td>\n",
       "      <td>...</td>\n",
       "      <td>5</td>\n",
       "      <td>0</td>\n",
       "      <td>20967</td>\n",
       "      <td>28335</td>\n",
       "      <td>0.0</td>\n",
       "      <td>0.0</td>\n",
       "      <td>1</td>\n",
       "      <td>1</td>\n",
       "      <td>3</td>\n",
       "      <td>1</td>\n",
       "    </tr>\n",
       "    <tr>\n",
       "      <th>3</th>\n",
       "      <td>00005222-b4d8-45a4-ad8c-186057e24233</td>\n",
       "      <td>070bcecb-aae7-4485-a26a-e0403e7bb6c5</td>\n",
       "      <td>Fully Paid</td>\n",
       "      <td>18743</td>\n",
       "      <td>Short Term</td>\n",
       "      <td>747.0</td>\n",
       "      <td>10+ years</td>\n",
       "      <td>Own Home</td>\n",
       "      <td>38072.0</td>\n",
       "      <td>Debt Consolidation</td>\n",
       "      <td>...</td>\n",
       "      <td>9</td>\n",
       "      <td>0</td>\n",
       "      <td>22529</td>\n",
       "      <td>43915</td>\n",
       "      <td>0.0</td>\n",
       "      <td>0.0</td>\n",
       "      <td>1</td>\n",
       "      <td>1</td>\n",
       "      <td>3</td>\n",
       "      <td>2</td>\n",
       "    </tr>\n",
       "    <tr>\n",
       "      <th>4</th>\n",
       "      <td>0000757f-a121-41ed-b17b-162e76647c1f</td>\n",
       "      <td>dde79588-12f0-4811-bab0-e2b07f633fcd</td>\n",
       "      <td>Fully Paid</td>\n",
       "      <td>11731</td>\n",
       "      <td>Short Term</td>\n",
       "      <td>746.0</td>\n",
       "      <td>4 years</td>\n",
       "      <td>Rent</td>\n",
       "      <td>50025.0</td>\n",
       "      <td>Debt Consolidation</td>\n",
       "      <td>...</td>\n",
       "      <td>12</td>\n",
       "      <td>0</td>\n",
       "      <td>17391</td>\n",
       "      <td>37081</td>\n",
       "      <td>0.0</td>\n",
       "      <td>0.0</td>\n",
       "      <td>1</td>\n",
       "      <td>1</td>\n",
       "      <td>3</td>\n",
       "      <td>3</td>\n",
       "    </tr>\n",
       "  </tbody>\n",
       "</table>\n",
       "<p>5 rows × 23 columns</p>\n",
       "</div>"
      ],
      "text/plain": [
       "                                Loan ID                           Customer ID  \\\n",
       "0  000025bb-5694-4cff-b17d-192b1a98ba44  5ebc8bb1-5eb9-4404-b11b-a6eebc401a19   \n",
       "1  00002c49-3a29-4bd4-8f67-c8f8fbc1048c  927b388d-2e01-423f-a8dc-f7e42d668f46   \n",
       "2  00002d89-27f3-409b-aa76-90834f359a65  defce609-c631-447d-aad6-1270615e89c4   \n",
       "3  00005222-b4d8-45a4-ad8c-186057e24233  070bcecb-aae7-4485-a26a-e0403e7bb6c5   \n",
       "4  0000757f-a121-41ed-b17b-162e76647c1f  dde79588-12f0-4811-bab0-e2b07f633fcd   \n",
       "\n",
       "  Loan Status  Current Loan Amount        Term  Credit Score  \\\n",
       "0  Fully Paid                11520  Short Term         741.0   \n",
       "1  Fully Paid                 3441  Short Term         734.0   \n",
       "2  Fully Paid                21029  Short Term         747.0   \n",
       "3  Fully Paid                18743  Short Term         747.0   \n",
       "4  Fully Paid                11731  Short Term         746.0   \n",
       "\n",
       "  Years in current job Home Ownership  Annual Income             Purpose  ...  \\\n",
       "0            10+ years  Home Mortgage        33694.0  Debt Consolidation  ...   \n",
       "1              4 years  Home Mortgage        42269.0               other  ...   \n",
       "2            10+ years  Home Mortgage        90126.0  Debt Consolidation  ...   \n",
       "3            10+ years       Own Home        38072.0  Debt Consolidation  ...   \n",
       "4              4 years           Rent        50025.0  Debt Consolidation  ...   \n",
       "\n",
       "  Number of Open Accounts  Number of Credit Problems  Current Credit Balance  \\\n",
       "0                      10                          0                    6760   \n",
       "1                      17                          0                    6262   \n",
       "2                       5                          0                   20967   \n",
       "3                       9                          0                   22529   \n",
       "4                      12                          0                   17391   \n",
       "\n",
       "   Maximum Open Credit  Bankruptcies  Tax Liens Loan Status1  Term1  Purpose1  \\\n",
       "0                16056           0.0        0.0            1      1         3   \n",
       "1                19149           0.0        0.0            1      1         9   \n",
       "2                28335           0.0        0.0            1      1         3   \n",
       "3                43915           0.0        0.0            1      1         3   \n",
       "4                37081           0.0        0.0            1      1         3   \n",
       "\n",
       "   Home_Ownership1  \n",
       "0                1  \n",
       "1                1  \n",
       "2                1  \n",
       "3                2  \n",
       "4                3  \n",
       "\n",
       "[5 rows x 23 columns]"
      ]
     },
     "execution_count": 17,
     "metadata": {},
     "output_type": "execute_result"
    }
   ],
   "source": [
    "df.head()"
   ]
  },
  {
   "cell_type": "markdown",
   "metadata": {},
   "source": [
    "# Data Exploration\n",
    "## Loan Status"
   ]
  },
  {
   "cell_type": "code",
   "execution_count": 18,
   "metadata": {},
   "outputs": [
    {
     "data": {
      "text/plain": [
       "<matplotlib.axes._subplots.AxesSubplot at 0x1a1887cdd8>"
      ]
     },
     "execution_count": 18,
     "metadata": {},
     "output_type": "execute_result"
    },
    {
     "data": {
      "image/png": "[encoded data removed]",
      "text/plain": [
       "<Figure size 432x288 with 1 Axes>"
      ]
     },
     "metadata": {
      "needs_background": "light"
     },
     "output_type": "display_data"
    }
   ],
   "source": [
    "df['Loan Status'].value_counts().plot(kind='bar')"
   ]
  },
  {
   "cell_type": "code",
   "execution_count": 19,
   "metadata": {},
   "outputs": [
    {
     "data": {
      "text/plain": [
       "(256984, 23)"
      ]
     },
     "execution_count": 19,
     "metadata": {},
     "output_type": "execute_result"
    }
   ],
   "source": [
    "df.shape"
   ]
  },
  {
   "cell_type": "code",
   "execution_count": 20,
   "metadata": {},
   "outputs": [
    {
     "data": {
      "text/plain": [
       "215700"
      ]
     },
     "execution_count": 20,
     "metadata": {},
     "output_type": "execute_result"
    }
   ],
   "source": [
    "df['Loan ID'].nunique()"
   ]
  },
  {
   "cell_type": "markdown",
   "metadata": {},
   "source": [
    "## Taking out duplicate Loan Id\n",
    "This splits the df into one with only object categories and the other that aree the integer categories (numerical)"
   ]
  },
  {
   "cell_type": "code",
   "execution_count": 21,
   "metadata": {},
   "outputs": [],
   "source": [
    "df1=df.select_dtypes(include=['object'])\n",
    "df2=df.select_dtypes(exclude=['object'])"
   ]
  },
  {
   "cell_type": "code",
   "execution_count": 22,
   "metadata": {},
   "outputs": [
    {
     "name": "stdout",
     "output_type": "stream",
     "text": [
      "<class 'pandas.core.frame.DataFrame'>\n",
      "RangeIndex: 256984 entries, 0 to 256983\n",
      "Data columns (total 9 columns):\n",
      "Loan ID                 256984 non-null object\n",
      "Customer ID             256984 non-null object\n",
      "Loan Status             256984 non-null object\n",
      "Term                    256984 non-null object\n",
      "Years in current job    245508 non-null object\n",
      "Home Ownership          256984 non-null object\n",
      "Purpose                 256984 non-null object\n",
      "Monthly Debt            256984 non-null object\n",
      "Maximum Open Credit     256984 non-null object\n",
      "dtypes: object(9)\n",
      "memory usage: 17.6+ MB\n"
     ]
    }
   ],
   "source": [
    "df1.info()"
   ]
  },
  {
   "cell_type": "code",
   "execution_count": 23,
   "metadata": {},
   "outputs": [
    {
     "name": "stdout",
     "output_type": "stream",
     "text": [
      "<class 'pandas.core.frame.DataFrame'>\n",
      "RangeIndex: 256984 entries, 0 to 256983\n",
      "Data columns (total 14 columns):\n",
      "Current Loan Amount             256984 non-null int64\n",
      "Credit Score                    195308 non-null float64\n",
      "Annual Income                   195308 non-null float64\n",
      "Years of Credit History         256984 non-null float64\n",
      "Months since last delinquent    116601 non-null float64\n",
      "Number of Open Accounts         256984 non-null int64\n",
      "Number of Credit Problems       256984 non-null int64\n",
      "Current Credit Balance          256984 non-null int64\n",
      "Bankruptcies                    256455 non-null float64\n",
      "Tax Liens                       256961 non-null float64\n",
      "Loan Status1                    256984 non-null int64\n",
      "Term1                           256984 non-null int8\n",
      "Purpose1                        256984 non-null int8\n",
      "Home_Ownership1                 256984 non-null int8\n",
      "dtypes: float64(6), int64(5), int8(3)\n",
      "memory usage: 22.3 MB\n"
     ]
    }
   ],
   "source": [
    "df2.info()"
   ]
  },
  {
   "cell_type": "markdown",
   "metadata": {},
   "source": [
    "**Placing Loan ID back into the df2 data frame**\n",
    "Since df2 is for integers and Loan ID isn't an int you need to re-insert. "
   ]
  },
  {
   "cell_type": "code",
   "execution_count": 24,
   "metadata": {},
   "outputs": [
    {
     "data": {
      "text/html": [
       "<div>\n",
       "<style scoped>\n",
       "    .dataframe tbody tr th:only-of-type {\n",
       "        vertical-align: middle;\n",
       "    }\n",
       "\n",
       "    .dataframe tbody tr th {\n",
       "        vertical-align: top;\n",
       "    }\n",
       "\n",
       "    .dataframe thead th {\n",
       "        text-align: right;\n",
       "    }\n",
       "</style>\n",
       "<table border=\"1\" class=\"dataframe\">\n",
       "  <thead>\n",
       "    <tr style=\"text-align: right;\">\n",
       "      <th></th>\n",
       "      <th>Current Loan Amount</th>\n",
       "      <th>Credit Score</th>\n",
       "      <th>Annual Income</th>\n",
       "      <th>Years of Credit History</th>\n",
       "      <th>Months since last delinquent</th>\n",
       "      <th>Number of Open Accounts</th>\n",
       "      <th>Number of Credit Problems</th>\n",
       "      <th>Current Credit Balance</th>\n",
       "      <th>Bankruptcies</th>\n",
       "      <th>Tax Liens</th>\n",
       "      <th>Loan Status1</th>\n",
       "      <th>Term1</th>\n",
       "      <th>Purpose1</th>\n",
       "      <th>Home_Ownership1</th>\n",
       "      <th>Loan ID</th>\n",
       "    </tr>\n",
       "  </thead>\n",
       "  <tbody>\n",
       "    <tr>\n",
       "      <th>256982</th>\n",
       "      <td>12116</td>\n",
       "      <td>746.0</td>\n",
       "      <td>52504.0</td>\n",
       "      <td>15.1</td>\n",
       "      <td>82.0</td>\n",
       "      <td>8</td>\n",
       "      <td>0</td>\n",
       "      <td>3315</td>\n",
       "      <td>0.0</td>\n",
       "      <td>0.0</td>\n",
       "      <td>0</td>\n",
       "      <td>1</td>\n",
       "      <td>3</td>\n",
       "      <td>1</td>\n",
       "      <td>ffffcb2e-e48e-4d2c-a0d6-ed6bce5bfdbe</td>\n",
       "    </tr>\n",
       "    <tr>\n",
       "      <th>256983</th>\n",
       "      <td>27902</td>\n",
       "      <td>678.0</td>\n",
       "      <td>117480.0</td>\n",
       "      <td>18.0</td>\n",
       "      <td>11.0</td>\n",
       "      <td>10</td>\n",
       "      <td>0</td>\n",
       "      <td>28317</td>\n",
       "      <td>0.0</td>\n",
       "      <td>0.0</td>\n",
       "      <td>1</td>\n",
       "      <td>0</td>\n",
       "      <td>3</td>\n",
       "      <td>1</td>\n",
       "      <td>ffffe32e-ed17-459f-9cfd-7b9ee7972933</td>\n",
       "    </tr>\n",
       "  </tbody>\n",
       "</table>\n",
       "</div>"
      ],
      "text/plain": [
       "        Current Loan Amount  Credit Score  Annual Income  \\\n",
       "256982                12116         746.0        52504.0   \n",
       "256983                27902         678.0       117480.0   \n",
       "\n",
       "        Years of Credit History  Months since last delinquent  \\\n",
       "256982                     15.1                          82.0   \n",
       "256983                     18.0                          11.0   \n",
       "\n",
       "        Number of Open Accounts  Number of Credit Problems  \\\n",
       "256982                        8                          0   \n",
       "256983                       10                          0   \n",
       "\n",
       "        Current Credit Balance  Bankruptcies  Tax Liens  Loan Status1  Term1  \\\n",
       "256982                    3315           0.0        0.0             0      1   \n",
       "256983                   28317           0.0        0.0             1      0   \n",
       "\n",
       "        Purpose1  Home_Ownership1                               Loan ID  \n",
       "256982         3                1  ffffcb2e-e48e-4d2c-a0d6-ed6bce5bfdbe  \n",
       "256983         3                1  ffffe32e-ed17-459f-9cfd-7b9ee7972933  "
      ]
     },
     "execution_count": 24,
     "metadata": {},
     "output_type": "execute_result"
    }
   ],
   "source": [
    "df2['Loan ID']=df['Loan ID']\n",
    "df2.tail(2)"
   ]
  },
  {
   "cell_type": "code",
   "execution_count": 25,
   "metadata": {},
   "outputs": [],
   "source": [
    "df1=df1.drop_duplicates(subset=['Loan ID'])\n",
    "df2=df2.groupby('Loan ID').max().reset_index()"
   ]
  },
  {
   "cell_type": "code",
   "execution_count": 26,
   "metadata": {},
   "outputs": [
    {
     "data": {
      "text/html": [
       "<div>\n",
       "<style scoped>\n",
       "    .dataframe tbody tr th:only-of-type {\n",
       "        vertical-align: middle;\n",
       "    }\n",
       "\n",
       "    .dataframe tbody tr th {\n",
       "        vertical-align: top;\n",
       "    }\n",
       "\n",
       "    .dataframe thead th {\n",
       "        text-align: right;\n",
       "    }\n",
       "</style>\n",
       "<table border=\"1\" class=\"dataframe\">\n",
       "  <thead>\n",
       "    <tr style=\"text-align: right;\">\n",
       "      <th></th>\n",
       "      <th>Loan ID</th>\n",
       "      <th>Customer ID</th>\n",
       "      <th>Loan Status</th>\n",
       "      <th>Term</th>\n",
       "      <th>Years in current job</th>\n",
       "      <th>Home Ownership</th>\n",
       "      <th>Purpose</th>\n",
       "      <th>Monthly Debt</th>\n",
       "      <th>Maximum Open Credit</th>\n",
       "    </tr>\n",
       "  </thead>\n",
       "  <tbody>\n",
       "    <tr>\n",
       "      <th>0</th>\n",
       "      <td>000025bb-5694-4cff-b17d-192b1a98ba44</td>\n",
       "      <td>5ebc8bb1-5eb9-4404-b11b-a6eebc401a19</td>\n",
       "      <td>Fully Paid</td>\n",
       "      <td>Short Term</td>\n",
       "      <td>10+ years</td>\n",
       "      <td>Home Mortgage</td>\n",
       "      <td>Debt Consolidation</td>\n",
       "      <td>$584.03</td>\n",
       "      <td>16056</td>\n",
       "    </tr>\n",
       "    <tr>\n",
       "      <th>1</th>\n",
       "      <td>00002c49-3a29-4bd4-8f67-c8f8fbc1048c</td>\n",
       "      <td>927b388d-2e01-423f-a8dc-f7e42d668f46</td>\n",
       "      <td>Fully Paid</td>\n",
       "      <td>Short Term</td>\n",
       "      <td>4 years</td>\n",
       "      <td>Home Mortgage</td>\n",
       "      <td>other</td>\n",
       "      <td>$1,106.04</td>\n",
       "      <td>19149</td>\n",
       "    </tr>\n",
       "  </tbody>\n",
       "</table>\n",
       "</div>"
      ],
      "text/plain": [
       "                                Loan ID                           Customer ID  \\\n",
       "0  000025bb-5694-4cff-b17d-192b1a98ba44  5ebc8bb1-5eb9-4404-b11b-a6eebc401a19   \n",
       "1  00002c49-3a29-4bd4-8f67-c8f8fbc1048c  927b388d-2e01-423f-a8dc-f7e42d668f46   \n",
       "\n",
       "  Loan Status        Term Years in current job Home Ownership  \\\n",
       "0  Fully Paid  Short Term            10+ years  Home Mortgage   \n",
       "1  Fully Paid  Short Term              4 years  Home Mortgage   \n",
       "\n",
       "              Purpose Monthly Debt Maximum Open Credit  \n",
       "0  Debt Consolidation      $584.03               16056  \n",
       "1               other   $1,106.04                19149  "
      ]
     },
     "execution_count": 26,
     "metadata": {},
     "output_type": "execute_result"
    }
   ],
   "source": [
    "df1.head(2)"
   ]
  },
  {
   "cell_type": "code",
   "execution_count": 27,
   "metadata": {},
   "outputs": [],
   "source": [
    "df=df1.merge(df2)"
   ]
  },
  {
   "cell_type": "markdown",
   "metadata": {},
   "source": [
    "## now the multiple loan id are gone"
   ]
  },
  {
   "cell_type": "code",
   "execution_count": 28,
   "metadata": {
    "scrolled": true
   },
   "outputs": [
    {
     "data": {
      "text/plain": [
       "Loan ID                              0\n",
       "Customer ID                          0\n",
       "Loan Status                          0\n",
       "Term                                 0\n",
       "Years in current job              8990\n",
       "Home Ownership                       0\n",
       "Purpose                              0\n",
       "Monthly Debt                         0\n",
       "Maximum Open Credit                  0\n",
       "Current Loan Amount                  0\n",
       "Credit Score                     44498\n",
       "Annual Income                    44498\n",
       "Years of Credit History              0\n",
       "Months since last delinquent    118262\n",
       "Number of Open Accounts              0\n",
       "Number of Credit Problems            0\n",
       "Current Credit Balance               0\n",
       "Bankruptcies                       452\n",
       "Tax Liens                           22\n",
       "Loan Status1                         0\n",
       "Term1                                0\n",
       "Purpose1                             0\n",
       "Home_Ownership1                      0\n",
       "dtype: int64"
      ]
     },
     "execution_count": 28,
     "metadata": {},
     "output_type": "execute_result"
    }
   ],
   "source": [
    "df.isnull().sum()"
   ]
  },
  {
   "cell_type": "markdown",
   "metadata": {},
   "source": [
    "## Credit Score"
   ]
  },
  {
   "cell_type": "code",
   "execution_count": 29,
   "metadata": {},
   "outputs": [
    {
     "data": {
      "text/plain": [
       "(585.0, 7510.0)"
      ]
     },
     "execution_count": 29,
     "metadata": {},
     "output_type": "execute_result"
    }
   ],
   "source": [
    "df['Credit Score'].min(),df['Credit Score'].max()"
   ]
  },
  {
   "cell_type": "markdown",
   "metadata": {},
   "source": [
    "##### Credit Score is suppose to only contain values ranging from 0 to 800, but the max is 7510. This needs to be further investigated"
   ]
  },
  {
   "cell_type": "code",
   "execution_count": 30,
   "metadata": {},
   "outputs": [
    {
     "data": {
      "text/html": [
       "<div>\n",
       "<style scoped>\n",
       "    .dataframe tbody tr th:only-of-type {\n",
       "        vertical-align: middle;\n",
       "    }\n",
       "\n",
       "    .dataframe tbody tr th {\n",
       "        vertical-align: top;\n",
       "    }\n",
       "\n",
       "    .dataframe thead th {\n",
       "        text-align: right;\n",
       "    }\n",
       "</style>\n",
       "<table border=\"1\" class=\"dataframe\">\n",
       "  <thead>\n",
       "    <tr style=\"text-align: right;\">\n",
       "      <th></th>\n",
       "      <th>Loan ID</th>\n",
       "      <th>Customer ID</th>\n",
       "      <th>Loan Status</th>\n",
       "      <th>Term</th>\n",
       "      <th>Years in current job</th>\n",
       "      <th>Home Ownership</th>\n",
       "      <th>Purpose</th>\n",
       "      <th>Monthly Debt</th>\n",
       "      <th>Maximum Open Credit</th>\n",
       "      <th>Current Loan Amount</th>\n",
       "      <th>...</th>\n",
       "      <th>Months since last delinquent</th>\n",
       "      <th>Number of Open Accounts</th>\n",
       "      <th>Number of Credit Problems</th>\n",
       "      <th>Current Credit Balance</th>\n",
       "      <th>Bankruptcies</th>\n",
       "      <th>Tax Liens</th>\n",
       "      <th>Loan Status1</th>\n",
       "      <th>Term1</th>\n",
       "      <th>Purpose1</th>\n",
       "      <th>Home_Ownership1</th>\n",
       "    </tr>\n",
       "  </thead>\n",
       "  <tbody>\n",
       "    <tr>\n",
       "      <th>6</th>\n",
       "      <td>0000afa6-8902-4f8f-b870-25a8fdad0aeb</td>\n",
       "      <td>e49c1a82-a0f7-45e8-9f46-2f75c43f9fbc</td>\n",
       "      <td>Charged Off</td>\n",
       "      <td>Long Term</td>\n",
       "      <td>6 years</td>\n",
       "      <td>Rent</td>\n",
       "      <td>Business Loan</td>\n",
       "      <td>$542.29</td>\n",
       "      <td>16954</td>\n",
       "      <td>24613</td>\n",
       "      <td>...</td>\n",
       "      <td>73.0</td>\n",
       "      <td>7</td>\n",
       "      <td>0</td>\n",
       "      <td>14123</td>\n",
       "      <td>0.0</td>\n",
       "      <td>0.0</td>\n",
       "      <td>0</td>\n",
       "      <td>0</td>\n",
       "      <td>0</td>\n",
       "      <td>3</td>\n",
       "    </tr>\n",
       "    <tr>\n",
       "      <th>45</th>\n",
       "      <td>000c0c27-1961-4336-b760-a300e1bce9b0</td>\n",
       "      <td>881edf98-387c-4eef-ab71-317a7a5e70c1</td>\n",
       "      <td>Charged Off</td>\n",
       "      <td>Short Term</td>\n",
       "      <td>1 year</td>\n",
       "      <td>Own Home</td>\n",
       "      <td>Debt Consolidation</td>\n",
       "      <td>$633.29</td>\n",
       "      <td>24317</td>\n",
       "      <td>6463</td>\n",
       "      <td>...</td>\n",
       "      <td>74.0</td>\n",
       "      <td>9</td>\n",
       "      <td>0</td>\n",
       "      <td>8025</td>\n",
       "      <td>0.0</td>\n",
       "      <td>0.0</td>\n",
       "      <td>0</td>\n",
       "      <td>1</td>\n",
       "      <td>3</td>\n",
       "      <td>2</td>\n",
       "    </tr>\n",
       "    <tr>\n",
       "      <th>60</th>\n",
       "      <td>000f1140-ef9f-42f9-9898-f9b3162bf0da</td>\n",
       "      <td>442c2d9b-3d95-44a9-bcb4-0dc80a941e3c</td>\n",
       "      <td>Charged Off</td>\n",
       "      <td>Short Term</td>\n",
       "      <td>10+ years</td>\n",
       "      <td>Home Mortgage</td>\n",
       "      <td>Debt Consolidation</td>\n",
       "      <td>$538.15</td>\n",
       "      <td>7811</td>\n",
       "      <td>6007</td>\n",
       "      <td>...</td>\n",
       "      <td>13.0</td>\n",
       "      <td>6</td>\n",
       "      <td>0</td>\n",
       "      <td>5077</td>\n",
       "      <td>0.0</td>\n",
       "      <td>0.0</td>\n",
       "      <td>0</td>\n",
       "      <td>1</td>\n",
       "      <td>3</td>\n",
       "      <td>1</td>\n",
       "    </tr>\n",
       "    <tr>\n",
       "      <th>61</th>\n",
       "      <td>000f5c35-dc3e-415f-9c22-e355ef96d78b</td>\n",
       "      <td>0ecf29b6-93eb-4c13-b853-a9cbdfc7f85b</td>\n",
       "      <td>Charged Off</td>\n",
       "      <td>Long Term</td>\n",
       "      <td>2 years</td>\n",
       "      <td>Rent</td>\n",
       "      <td>Debt Consolidation</td>\n",
       "      <td>$1,931.07</td>\n",
       "      <td>90199</td>\n",
       "      <td>12899</td>\n",
       "      <td>...</td>\n",
       "      <td>7.0</td>\n",
       "      <td>16</td>\n",
       "      <td>0</td>\n",
       "      <td>39417</td>\n",
       "      <td>0.0</td>\n",
       "      <td>0.0</td>\n",
       "      <td>0</td>\n",
       "      <td>0</td>\n",
       "      <td>3</td>\n",
       "      <td>3</td>\n",
       "    </tr>\n",
       "    <tr>\n",
       "      <th>66</th>\n",
       "      <td>001227a1-4490-47c6-ada7-20faf636e9a3</td>\n",
       "      <td>3d4a8985-0b72-4084-8b20-f441d9868483</td>\n",
       "      <td>Charged Off</td>\n",
       "      <td>Short Term</td>\n",
       "      <td>&lt; 1 year</td>\n",
       "      <td>Home Mortgage</td>\n",
       "      <td>Other</td>\n",
       "      <td>$711.03</td>\n",
       "      <td>12041</td>\n",
       "      <td>5060</td>\n",
       "      <td>...</td>\n",
       "      <td>22.0</td>\n",
       "      <td>6</td>\n",
       "      <td>0</td>\n",
       "      <td>10777</td>\n",
       "      <td>0.0</td>\n",
       "      <td>0.0</td>\n",
       "      <td>0</td>\n",
       "      <td>1</td>\n",
       "      <td>7</td>\n",
       "      <td>1</td>\n",
       "    </tr>\n",
       "  </tbody>\n",
       "</table>\n",
       "<p>5 rows × 23 columns</p>\n",
       "</div>"
      ],
      "text/plain": [
       "                                 Loan ID  \\\n",
       "6   0000afa6-8902-4f8f-b870-25a8fdad0aeb   \n",
       "45  000c0c27-1961-4336-b760-a300e1bce9b0   \n",
       "60  000f1140-ef9f-42f9-9898-f9b3162bf0da   \n",
       "61  000f5c35-dc3e-415f-9c22-e355ef96d78b   \n",
       "66  001227a1-4490-47c6-ada7-20faf636e9a3   \n",
       "\n",
       "                             Customer ID  Loan Status        Term  \\\n",
       "6   e49c1a82-a0f7-45e8-9f46-2f75c43f9fbc  Charged Off   Long Term   \n",
       "45  881edf98-387c-4eef-ab71-317a7a5e70c1  Charged Off  Short Term   \n",
       "60  442c2d9b-3d95-44a9-bcb4-0dc80a941e3c  Charged Off  Short Term   \n",
       "61  0ecf29b6-93eb-4c13-b853-a9cbdfc7f85b  Charged Off   Long Term   \n",
       "66  3d4a8985-0b72-4084-8b20-f441d9868483  Charged Off  Short Term   \n",
       "\n",
       "   Years in current job Home Ownership             Purpose Monthly Debt  \\\n",
       "6               6 years           Rent       Business Loan      $542.29   \n",
       "45               1 year       Own Home  Debt Consolidation      $633.29   \n",
       "60            10+ years  Home Mortgage  Debt Consolidation      $538.15   \n",
       "61              2 years           Rent  Debt Consolidation   $1,931.07    \n",
       "66             < 1 year  Home Mortgage               Other      $711.03   \n",
       "\n",
       "   Maximum Open Credit  Current Loan Amount  ...  \\\n",
       "6                16954                24613  ...   \n",
       "45               24317                 6463  ...   \n",
       "60                7811                 6007  ...   \n",
       "61               90199                12899  ...   \n",
       "66               12041                 5060  ...   \n",
       "\n",
       "    Months since last delinquent  Number of Open Accounts  \\\n",
       "6                           73.0                        7   \n",
       "45                          74.0                        9   \n",
       "60                          13.0                        6   \n",
       "61                           7.0                       16   \n",
       "66                          22.0                        6   \n",
       "\n",
       "    Number of Credit Problems  Current Credit Balance  Bankruptcies  \\\n",
       "6                           0                   14123           0.0   \n",
       "45                          0                    8025           0.0   \n",
       "60                          0                    5077           0.0   \n",
       "61                          0                   39417           0.0   \n",
       "66                          0                   10777           0.0   \n",
       "\n",
       "    Tax Liens  Loan Status1  Term1  Purpose1  Home_Ownership1  \n",
       "6         0.0             0      0         0                3  \n",
       "45        0.0             0      1         3                2  \n",
       "60        0.0             0      1         3                1  \n",
       "61        0.0             0      0         3                3  \n",
       "66        0.0             0      1         7                1  \n",
       "\n",
       "[5 rows x 23 columns]"
      ]
     },
     "execution_count": 30,
     "metadata": {},
     "output_type": "execute_result"
    }
   ],
   "source": [
    "#takes any credit score higher than 850 \n",
    "df[df['Credit Score']>850].head()"
   ]
  },
  {
   "cell_type": "markdown",
   "metadata": {},
   "source": [
    "We can see that htere is an additional 0, that changes the credit score into thousands. It is safe to assume these credit score values were incorrectly inputted as they all end with a 0. without the 0, the values of 'Credit Score' fall within the appropriate range. We will only altar the credit scores that are abbove 850 by dividing 'Credit Scores' by 10. "
   ]
  },
  {
   "cell_type": "code",
   "execution_count": 31,
   "metadata": {},
   "outputs": [
    {
     "data": {
      "text/plain": [
       "0     741.0\n",
       "1     734.0\n",
       "2     747.0\n",
       "3     747.0\n",
       "4     746.0\n",
       "5     716.0\n",
       "6     664.0\n",
       "7       NaN\n",
       "8     733.0\n",
       "9     742.0\n",
       "10    742.0\n",
       "11    701.0\n",
       "12    744.0\n",
       "13    744.0\n",
       "14    729.0\n",
       "15    734.0\n",
       "16      NaN\n",
       "17    745.0\n",
       "18    734.0\n",
       "19    733.0\n",
       "Name: Credit Score, dtype: float64"
      ]
     },
     "execution_count": 31,
     "metadata": {},
     "output_type": "execute_result"
    }
   ],
   "source": [
    "df['Credit Score']=df['Credit Score'].map(\n",
    "    lambda x: x/10 if x>850 else x)\n",
    "df['Credit Score'].head(20)"
   ]
  },
  {
   "cell_type": "markdown",
   "metadata": {},
   "source": [
    "from above we still have NaN values in 'Credit Score' column, we have two option:<br>\n",
    "1. Fill the NaN's\n",
    "2. Remove all NaN's<br></br>\n",
    "Let's check what type of distribution 'Credit Score' is to see how we can fill null values. This helps us decide what's the best option"
   ]
  },
  {
   "cell_type": "markdown",
   "metadata": {},
   "source": [
    "## filling credit score"
   ]
  },
  {
   "cell_type": "markdown",
   "metadata": {},
   "source": [
    "#### plot a histogram of credit scores without missing data"
   ]
  },
  {
   "cell_type": "code",
   "execution_count": 32,
   "metadata": {
    "scrolled": true
   },
   "outputs": [
    {
     "data": {
      "text/plain": [
       "<matplotlib.axes._subplots.AxesSubplot at 0x1a188e3438>"
      ]
     },
     "execution_count": 32,
     "metadata": {},
     "output_type": "execute_result"
    },
    {
     "data": {
      "image/png": "[encoded data removed]",
      "text/plain": [
       "<Figure size 432x288 with 1 Axes>"
      ]
     },
     "metadata": {
      "needs_background": "light"
     },
     "output_type": "display_data"
    }
   ],
   "source": [
    "df['Credit Score'].dropna().plot(kind='hist',bins=300)"
   ]
  },
  {
   "cell_type": "markdown",
   "metadata": {},
   "source": [
    "#### Mean Median mode of credit score"
   ]
  },
  {
   "cell_type": "code",
   "execution_count": 33,
   "metadata": {},
   "outputs": [
    {
     "data": {
      "text/plain": [
       "(722.7556979474539, 732.0, 0    747.0\n",
       " dtype: float64)"
      ]
     },
     "execution_count": 33,
     "metadata": {},
     "output_type": "execute_result"
    }
   ],
   "source": [
    "df['Credit Score'].mean(),df['Credit Score'].median(), df['Credit Score'].mode()"
   ]
  },
  {
   "cell_type": "code",
   "execution_count": 34,
   "metadata": {
    "scrolled": true
   },
   "outputs": [
    {
     "data": {
      "text/html": [
       "<div>\n",
       "<style scoped>\n",
       "    .dataframe tbody tr th:only-of-type {\n",
       "        vertical-align: middle;\n",
       "    }\n",
       "\n",
       "    .dataframe tbody tr th {\n",
       "        vertical-align: top;\n",
       "    }\n",
       "\n",
       "    .dataframe thead th {\n",
       "        text-align: right;\n",
       "    }\n",
       "</style>\n",
       "<table border=\"1\" class=\"dataframe\">\n",
       "  <thead>\n",
       "    <tr style=\"text-align: right;\">\n",
       "      <th></th>\n",
       "      <th>Current Loan Amount</th>\n",
       "      <th>Credit Score</th>\n",
       "      <th>Annual Income</th>\n",
       "      <th>Years of Credit History</th>\n",
       "      <th>Months since last delinquent</th>\n",
       "      <th>Number of Open Accounts</th>\n",
       "      <th>Number of Credit Problems</th>\n",
       "      <th>Current Credit Balance</th>\n",
       "      <th>Bankruptcies</th>\n",
       "      <th>Tax Liens</th>\n",
       "      <th>Loan Status1</th>\n",
       "      <th>Term1</th>\n",
       "      <th>Purpose1</th>\n",
       "      <th>Home_Ownership1</th>\n",
       "    </tr>\n",
       "  </thead>\n",
       "  <tbody>\n",
       "    <tr>\n",
       "      <th>Current Loan Amount</th>\n",
       "      <td>1.000000</td>\n",
       "      <td>0.062514</td>\n",
       "      <td>0.019233</td>\n",
       "      <td>0.012003</td>\n",
       "      <td>0.000861</td>\n",
       "      <td>-0.000897</td>\n",
       "      <td>0.001095</td>\n",
       "      <td>0.002305</td>\n",
       "      <td>0.003645</td>\n",
       "      <td>-0.001876</td>\n",
       "      <td>0.209140</td>\n",
       "      <td>0.031782</td>\n",
       "      <td>0.001380</td>\n",
       "      <td>-0.016000</td>\n",
       "    </tr>\n",
       "    <tr>\n",
       "      <th>Credit Score</th>\n",
       "      <td>0.062514</td>\n",
       "      <td>1.000000</td>\n",
       "      <td>0.014844</td>\n",
       "      <td>0.085461</td>\n",
       "      <td>0.044787</td>\n",
       "      <td>-0.038642</td>\n",
       "      <td>-0.062030</td>\n",
       "      <td>-0.014965</td>\n",
       "      <td>-0.048202</td>\n",
       "      <td>-0.027476</td>\n",
       "      <td>0.245848</td>\n",
       "      <td>0.483576</td>\n",
       "      <td>-0.051942</td>\n",
       "      <td>-0.053519</td>\n",
       "    </tr>\n",
       "    <tr>\n",
       "      <th>Annual Income</th>\n",
       "      <td>0.019233</td>\n",
       "      <td>0.014844</td>\n",
       "      <td>1.000000</td>\n",
       "      <td>0.155115</td>\n",
       "      <td>-0.058157</td>\n",
       "      <td>0.145422</td>\n",
       "      <td>-0.017196</td>\n",
       "      <td>0.305022</td>\n",
       "      <td>-0.047313</td>\n",
       "      <td>0.036216</td>\n",
       "      <td>0.064451</td>\n",
       "      <td>-0.066624</td>\n",
       "      <td>-0.004785</td>\n",
       "      <td>-0.174560</td>\n",
       "    </tr>\n",
       "    <tr>\n",
       "      <th>Years of Credit History</th>\n",
       "      <td>0.012003</td>\n",
       "      <td>0.085461</td>\n",
       "      <td>0.155115</td>\n",
       "      <td>1.000000</td>\n",
       "      <td>-0.039987</td>\n",
       "      <td>0.130020</td>\n",
       "      <td>0.060393</td>\n",
       "      <td>0.202269</td>\n",
       "      <td>0.061128</td>\n",
       "      <td>0.021056</td>\n",
       "      <td>0.030149</td>\n",
       "      <td>-0.034613</td>\n",
       "      <td>-0.015397</td>\n",
       "      <td>-0.199058</td>\n",
       "    </tr>\n",
       "    <tr>\n",
       "      <th>Months since last delinquent</th>\n",
       "      <td>0.000861</td>\n",
       "      <td>0.044787</td>\n",
       "      <td>-0.058157</td>\n",
       "      <td>-0.039987</td>\n",
       "      <td>1.000000</td>\n",
       "      <td>-0.037506</td>\n",
       "      <td>0.091436</td>\n",
       "      <td>-0.025878</td>\n",
       "      <td>0.116348</td>\n",
       "      <td>0.002201</td>\n",
       "      <td>0.019400</td>\n",
       "      <td>0.012539</td>\n",
       "      <td>-0.006694</td>\n",
       "      <td>0.048317</td>\n",
       "    </tr>\n",
       "    <tr>\n",
       "      <th>Number of Open Accounts</th>\n",
       "      <td>-0.000897</td>\n",
       "      <td>-0.038642</td>\n",
       "      <td>0.145422</td>\n",
       "      <td>0.130020</td>\n",
       "      <td>-0.037506</td>\n",
       "      <td>1.000000</td>\n",
       "      <td>-0.015721</td>\n",
       "      <td>0.221711</td>\n",
       "      <td>-0.024167</td>\n",
       "      <td>0.004558</td>\n",
       "      <td>-0.017602</td>\n",
       "      <td>-0.077691</td>\n",
       "      <td>-0.075553</td>\n",
       "      <td>-0.140325</td>\n",
       "    </tr>\n",
       "    <tr>\n",
       "      <th>Number of Credit Problems</th>\n",
       "      <td>0.001095</td>\n",
       "      <td>-0.062030</td>\n",
       "      <td>-0.017196</td>\n",
       "      <td>0.060393</td>\n",
       "      <td>0.091436</td>\n",
       "      <td>-0.015721</td>\n",
       "      <td>1.000000</td>\n",
       "      <td>-0.106362</td>\n",
       "      <td>0.763386</td>\n",
       "      <td>0.579014</td>\n",
       "      <td>-0.009090</td>\n",
       "      <td>0.018104</td>\n",
       "      <td>0.003519</td>\n",
       "      <td>-0.001937</td>\n",
       "    </tr>\n",
       "    <tr>\n",
       "      <th>Current Credit Balance</th>\n",
       "      <td>0.002305</td>\n",
       "      <td>-0.014965</td>\n",
       "      <td>0.305022</td>\n",
       "      <td>0.202269</td>\n",
       "      <td>-0.025878</td>\n",
       "      <td>0.221711</td>\n",
       "      <td>-0.106362</td>\n",
       "      <td>1.000000</td>\n",
       "      <td>-0.120069</td>\n",
       "      <td>-0.012301</td>\n",
       "      <td>0.007107</td>\n",
       "      <td>-0.088358</td>\n",
       "      <td>-0.061775</td>\n",
       "      <td>-0.164746</td>\n",
       "    </tr>\n",
       "    <tr>\n",
       "      <th>Bankruptcies</th>\n",
       "      <td>0.003645</td>\n",
       "      <td>-0.048202</td>\n",
       "      <td>-0.047313</td>\n",
       "      <td>0.061128</td>\n",
       "      <td>0.116348</td>\n",
       "      <td>-0.024167</td>\n",
       "      <td>0.763386</td>\n",
       "      <td>-0.120069</td>\n",
       "      <td>1.000000</td>\n",
       "      <td>0.049835</td>\n",
       "      <td>0.000139</td>\n",
       "      <td>0.019868</td>\n",
       "      <td>-0.001468</td>\n",
       "      <td>0.002270</td>\n",
       "    </tr>\n",
       "    <tr>\n",
       "      <th>Tax Liens</th>\n",
       "      <td>-0.001876</td>\n",
       "      <td>-0.027476</td>\n",
       "      <td>0.036216</td>\n",
       "      <td>0.021056</td>\n",
       "      <td>0.002201</td>\n",
       "      <td>0.004558</td>\n",
       "      <td>0.579014</td>\n",
       "      <td>-0.012301</td>\n",
       "      <td>0.049835</td>\n",
       "      <td>1.000000</td>\n",
       "      <td>-0.010736</td>\n",
       "      <td>0.003069</td>\n",
       "      <td>0.000673</td>\n",
       "      <td>-0.003302</td>\n",
       "    </tr>\n",
       "    <tr>\n",
       "      <th>Loan Status1</th>\n",
       "      <td>0.209140</td>\n",
       "      <td>0.245848</td>\n",
       "      <td>0.064451</td>\n",
       "      <td>0.030149</td>\n",
       "      <td>0.019400</td>\n",
       "      <td>-0.017602</td>\n",
       "      <td>-0.009090</td>\n",
       "      <td>0.007107</td>\n",
       "      <td>0.000139</td>\n",
       "      <td>-0.010736</td>\n",
       "      <td>1.000000</td>\n",
       "      <td>0.158569</td>\n",
       "      <td>0.004629</td>\n",
       "      <td>-0.056969</td>\n",
       "    </tr>\n",
       "    <tr>\n",
       "      <th>Term1</th>\n",
       "      <td>0.031782</td>\n",
       "      <td>0.483576</td>\n",
       "      <td>-0.066624</td>\n",
       "      <td>-0.034613</td>\n",
       "      <td>0.012539</td>\n",
       "      <td>-0.077691</td>\n",
       "      <td>0.018104</td>\n",
       "      <td>-0.088358</td>\n",
       "      <td>0.019868</td>\n",
       "      <td>0.003069</td>\n",
       "      <td>0.158569</td>\n",
       "      <td>1.000000</td>\n",
       "      <td>0.041201</td>\n",
       "      <td>0.100946</td>\n",
       "    </tr>\n",
       "    <tr>\n",
       "      <th>Purpose1</th>\n",
       "      <td>0.001380</td>\n",
       "      <td>-0.051942</td>\n",
       "      <td>-0.004785</td>\n",
       "      <td>-0.015397</td>\n",
       "      <td>-0.006694</td>\n",
       "      <td>-0.075553</td>\n",
       "      <td>0.003519</td>\n",
       "      <td>-0.061775</td>\n",
       "      <td>-0.001468</td>\n",
       "      <td>0.000673</td>\n",
       "      <td>0.004629</td>\n",
       "      <td>0.041201</td>\n",
       "      <td>1.000000</td>\n",
       "      <td>0.012849</td>\n",
       "    </tr>\n",
       "    <tr>\n",
       "      <th>Home_Ownership1</th>\n",
       "      <td>-0.016000</td>\n",
       "      <td>-0.053519</td>\n",
       "      <td>-0.174560</td>\n",
       "      <td>-0.199058</td>\n",
       "      <td>0.048317</td>\n",
       "      <td>-0.140325</td>\n",
       "      <td>-0.001937</td>\n",
       "      <td>-0.164746</td>\n",
       "      <td>0.002270</td>\n",
       "      <td>-0.003302</td>\n",
       "      <td>-0.056969</td>\n",
       "      <td>0.100946</td>\n",
       "      <td>0.012849</td>\n",
       "      <td>1.000000</td>\n",
       "    </tr>\n",
       "  </tbody>\n",
       "</table>\n",
       "</div>"
      ],
      "text/plain": [
       "                              Current Loan Amount  Credit Score  \\\n",
       "Current Loan Amount                      1.000000      0.062514   \n",
       "Credit Score                             0.062514      1.000000   \n",
       "Annual Income                            0.019233      0.014844   \n",
       "Years of Credit History                  0.012003      0.085461   \n",
       "Months since last delinquent             0.000861      0.044787   \n",
       "Number of Open Accounts                 -0.000897     -0.038642   \n",
       "Number of Credit Problems                0.001095     -0.062030   \n",
       "Current Credit Balance                   0.002305     -0.014965   \n",
       "Bankruptcies                             0.003645     -0.048202   \n",
       "Tax Liens                               -0.001876     -0.027476   \n",
       "Loan Status1                             0.209140      0.245848   \n",
       "Term1                                    0.031782      0.483576   \n",
       "Purpose1                                 0.001380     -0.051942   \n",
       "Home_Ownership1                         -0.016000     -0.053519   \n",
       "\n",
       "                              Annual Income  Years of Credit History  \\\n",
       "Current Loan Amount                0.019233                 0.012003   \n",
       "Credit Score                       0.014844                 0.085461   \n",
       "Annual Income                      1.000000                 0.155115   \n",
       "Years of Credit History            0.155115                 1.000000   \n",
       "Months since last delinquent      -0.058157                -0.039987   \n",
       "Number of Open Accounts            0.145422                 0.130020   \n",
       "Number of Credit Problems         -0.017196                 0.060393   \n",
       "Current Credit Balance             0.305022                 0.202269   \n",
       "Bankruptcies                      -0.047313                 0.061128   \n",
       "Tax Liens                          0.036216                 0.021056   \n",
       "Loan Status1                       0.064451                 0.030149   \n",
       "Term1                             -0.066624                -0.034613   \n",
       "Purpose1                          -0.004785                -0.015397   \n",
       "Home_Ownership1                   -0.174560                -0.199058   \n",
       "\n",
       "                              Months since last delinquent  \\\n",
       "Current Loan Amount                               0.000861   \n",
       "Credit Score                                      0.044787   \n",
       "Annual Income                                    -0.058157   \n",
       "Years of Credit History                          -0.039987   \n",
       "Months since last delinquent                      1.000000   \n",
       "Number of Open Accounts                          -0.037506   \n",
       "Number of Credit Problems                         0.091436   \n",
       "Current Credit Balance                           -0.025878   \n",
       "Bankruptcies                                      0.116348   \n",
       "Tax Liens                                         0.002201   \n",
       "Loan Status1                                      0.019400   \n",
       "Term1                                             0.012539   \n",
       "Purpose1                                         -0.006694   \n",
       "Home_Ownership1                                   0.048317   \n",
       "\n",
       "                              Number of Open Accounts  \\\n",
       "Current Loan Amount                         -0.000897   \n",
       "Credit Score                                -0.038642   \n",
       "Annual Income                                0.145422   \n",
       "Years of Credit History                      0.130020   \n",
       "Months since last delinquent                -0.037506   \n",
       "Number of Open Accounts                      1.000000   \n",
       "Number of Credit Problems                   -0.015721   \n",
       "Current Credit Balance                       0.221711   \n",
       "Bankruptcies                                -0.024167   \n",
       "Tax Liens                                    0.004558   \n",
       "Loan Status1                                -0.017602   \n",
       "Term1                                       -0.077691   \n",
       "Purpose1                                    -0.075553   \n",
       "Home_Ownership1                             -0.140325   \n",
       "\n",
       "                              Number of Credit Problems  \\\n",
       "Current Loan Amount                            0.001095   \n",
       "Credit Score                                  -0.062030   \n",
       "Annual Income                                 -0.017196   \n",
       "Years of Credit History                        0.060393   \n",
       "Months since last delinquent                   0.091436   \n",
       "Number of Open Accounts                       -0.015721   \n",
       "Number of Credit Problems                      1.000000   \n",
       "Current Credit Balance                        -0.106362   \n",
       "Bankruptcies                                   0.763386   \n",
       "Tax Liens                                      0.579014   \n",
       "Loan Status1                                  -0.009090   \n",
       "Term1                                          0.018104   \n",
       "Purpose1                                       0.003519   \n",
       "Home_Ownership1                               -0.001937   \n",
       "\n",
       "                              Current Credit Balance  Bankruptcies  Tax Liens  \\\n",
       "Current Loan Amount                         0.002305      0.003645  -0.001876   \n",
       "Credit Score                               -0.014965     -0.048202  -0.027476   \n",
       "Annual Income                               0.305022     -0.047313   0.036216   \n",
       "Years of Credit History                     0.202269      0.061128   0.021056   \n",
       "Months since last delinquent               -0.025878      0.116348   0.002201   \n",
       "Number of Open Accounts                     0.221711     -0.024167   0.004558   \n",
       "Number of Credit Problems                  -0.106362      0.763386   0.579014   \n",
       "Current Credit Balance                      1.000000     -0.120069  -0.012301   \n",
       "Bankruptcies                               -0.120069      1.000000   0.049835   \n",
       "Tax Liens                                  -0.012301      0.049835   1.000000   \n",
       "Loan Status1                                0.007107      0.000139  -0.010736   \n",
       "Term1                                      -0.088358      0.019868   0.003069   \n",
       "Purpose1                                   -0.061775     -0.001468   0.000673   \n",
       "Home_Ownership1                            -0.164746      0.002270  -0.003302   \n",
       "\n",
       "                              Loan Status1     Term1  Purpose1  \\\n",
       "Current Loan Amount               0.209140  0.031782  0.001380   \n",
       "Credit Score                      0.245848  0.483576 -0.051942   \n",
       "Annual Income                     0.064451 -0.066624 -0.004785   \n",
       "Years of Credit History           0.030149 -0.034613 -0.015397   \n",
       "Months since last delinquent      0.019400  0.012539 -0.006694   \n",
       "Number of Open Accounts          -0.017602 -0.077691 -0.075553   \n",
       "Number of Credit Problems        -0.009090  0.018104  0.003519   \n",
       "Current Credit Balance            0.007107 -0.088358 -0.061775   \n",
       "Bankruptcies                      0.000139  0.019868 -0.001468   \n",
       "Tax Liens                        -0.010736  0.003069  0.000673   \n",
       "Loan Status1                      1.000000  0.158569  0.004629   \n",
       "Term1                             0.158569  1.000000  0.041201   \n",
       "Purpose1                          0.004629  0.041201  1.000000   \n",
       "Home_Ownership1                  -0.056969  0.100946  0.012849   \n",
       "\n",
       "                              Home_Ownership1  \n",
       "Current Loan Amount                 -0.016000  \n",
       "Credit Score                        -0.053519  \n",
       "Annual Income                       -0.174560  \n",
       "Years of Credit History             -0.199058  \n",
       "Months since last delinquent         0.048317  \n",
       "Number of Open Accounts             -0.140325  \n",
       "Number of Credit Problems           -0.001937  \n",
       "Current Credit Balance              -0.164746  \n",
       "Bankruptcies                         0.002270  \n",
       "Tax Liens                           -0.003302  \n",
       "Loan Status1                        -0.056969  \n",
       "Term1                                0.100946  \n",
       "Purpose1                             0.012849  \n",
       "Home_Ownership1                      1.000000  "
      ]
     },
     "execution_count": 34,
     "metadata": {},
     "output_type": "execute_result"
    }
   ],
   "source": [
    "df.corr()"
   ]
  },
  {
   "cell_type": "code",
   "execution_count": 35,
   "metadata": {},
   "outputs": [
    {
     "name": "stdout",
     "output_type": "stream",
     "text": [
      "<class 'pandas.core.frame.DataFrame'>\n",
      "Int64Index: 215700 entries, 0 to 215699\n",
      "Data columns (total 23 columns):\n",
      "Loan ID                         215700 non-null object\n",
      "Customer ID                     215700 non-null object\n",
      "Loan Status                     215700 non-null object\n",
      "Term                            215700 non-null object\n",
      "Years in current job            206710 non-null object\n",
      "Home Ownership                  215700 non-null object\n",
      "Purpose                         215700 non-null object\n",
      "Monthly Debt                    215700 non-null object\n",
      "Maximum Open Credit             215700 non-null object\n",
      "Current Loan Amount             215700 non-null int64\n",
      "Credit Score                    171202 non-null float64\n",
      "Annual Income                   171202 non-null float64\n",
      "Years of Credit History         215700 non-null float64\n",
      "Months since last delinquent    97438 non-null float64\n",
      "Number of Open Accounts         215700 non-null int64\n",
      "Number of Credit Problems       215700 non-null int64\n",
      "Current Credit Balance          215700 non-null int64\n",
      "Bankruptcies                    215248 non-null float64\n",
      "Tax Liens                       215678 non-null float64\n",
      "Loan Status1                    215700 non-null int64\n",
      "Term1                           215700 non-null int8\n",
      "Purpose1                        215700 non-null int8\n",
      "Home_Ownership1                 215700 non-null int8\n",
      "dtypes: float64(6), int64(5), int8(3), object(9)\n",
      "memory usage: 35.2+ MB\n"
     ]
    }
   ],
   "source": [
    "df.info()"
   ]
  },
  {
   "cell_type": "markdown",
   "metadata": {},
   "source": [
    "#### use KNN to fill credit score\n",
    "first time: Since non of the int has any correlation with credit score I  will use only the object variables to fill Credit score\n",
    "second time: since when using the median to fill the missing numbers and rece"
   ]
  },
  {
   "cell_type": "code",
   "execution_count": 36,
   "metadata": {
    "scrolled": true
   },
   "outputs": [
    {
     "name": "stdout",
     "output_type": "stream",
     "text": [
      "<class 'pandas.core.frame.DataFrame'>\n",
      "RangeIndex: 215700 entries, 0 to 215699\n",
      "Data columns (total 15 columns):\n",
      "Loan ID                         215700 non-null object\n",
      "Current Loan Amount             215700 non-null int64\n",
      "Credit Score                    171202 non-null float64\n",
      "Annual Income                   171202 non-null float64\n",
      "Years of Credit History         215700 non-null float64\n",
      "Months since last delinquent    97438 non-null float64\n",
      "Number of Open Accounts         215700 non-null int64\n",
      "Number of Credit Problems       215700 non-null int64\n",
      "Current Credit Balance          215700 non-null int64\n",
      "Bankruptcies                    215248 non-null float64\n",
      "Tax Liens                       215678 non-null float64\n",
      "Loan Status1                    215700 non-null int64\n",
      "Term1                           215700 non-null int8\n",
      "Purpose1                        215700 non-null int8\n",
      "Home_Ownership1                 215700 non-null int8\n",
      "dtypes: float64(6), int64(5), int8(3), object(1)\n",
      "memory usage: 20.4+ MB\n"
     ]
    }
   ],
   "source": [
    "df2.info()"
   ]
  },
  {
   "cell_type": "code",
   "execution_count": 37,
   "metadata": {},
   "outputs": [
    {
     "name": "stdout",
     "output_type": "stream",
     "text": [
      "<class 'pandas.core.frame.DataFrame'>\n",
      "RangeIndex: 215700 entries, 0 to 215699\n",
      "Data columns (total 15 columns):\n",
      "Loan ID                         215700 non-null object\n",
      "Current Loan Amount             215700 non-null int64\n",
      "Credit Score                    171202 non-null float64\n",
      "Annual Income                   171202 non-null float64\n",
      "Years of Credit History         215700 non-null float64\n",
      "Months since last delinquent    97438 non-null float64\n",
      "Number of Open Accounts         215700 non-null int64\n",
      "Number of Credit Problems       215700 non-null int64\n",
      "Current Credit Balance          215700 non-null int64\n",
      "Bankruptcies                    215248 non-null float64\n",
      "Tax Liens                       215678 non-null float64\n",
      "Loan Status1                    215700 non-null int64\n",
      "Term1                           215700 non-null int8\n",
      "Purpose1                        215700 non-null int8\n",
      "Home_Ownership1                 215700 non-null int8\n",
      "dtypes: float64(6), int64(5), int8(3), object(1)\n",
      "memory usage: 20.4+ MB\n"
     ]
    }
   ],
   "source": [
    "df3=df2.copy()\n",
    "df3.info()"
   ]
  },
  {
   "cell_type": "raw",
   "metadata": {},
   "source": [
    "df3['Credit Score']=df['Credit Score']"
   ]
  },
  {
   "cell_type": "code",
   "execution_count": 38,
   "metadata": {},
   "outputs": [],
   "source": [
    "df3.drop('Loan ID', axis=1, inplace=True)"
   ]
  },
  {
   "cell_type": "raw",
   "metadata": {},
   "source": [
    "df3['Tax Liens'].describe()"
   ]
  },
  {
   "cell_type": "code",
   "execution_count": 39,
   "metadata": {},
   "outputs": [
    {
     "data": {
      "text/plain": [
       "<matplotlib.axes._subplots.AxesSubplot at 0x1a19c79b70>"
      ]
     },
     "execution_count": 39,
     "metadata": {},
     "output_type": "execute_result"
    },
    {
     "data": {
      "image/png": "[encoded data removed]",
      "text/plain": [
       "<Figure size 432x288 with 1 Axes>"
      ]
     },
     "metadata": {
      "needs_background": "light"
     },
     "output_type": "display_data"
    }
   ],
   "source": [
    "df['Tax Liens'].dropna().plot(kind='hist', bins=300)"
   ]
  },
  {
   "cell_type": "code",
   "execution_count": 40,
   "metadata": {},
   "outputs": [
    {
     "data": {
      "text/plain": [
       "<matplotlib.axes._subplots.AxesSubplot at 0x1a1c222470>"
      ]
     },
     "execution_count": 40,
     "metadata": {},
     "output_type": "execute_result"
    },
    {
     "data": {
      "image/png": "[encoded data removed]",
      "text/plain": [
       "<Figure size 432x288 with 1 Axes>"
      ]
     },
     "metadata": {
      "needs_background": "light"
     },
     "output_type": "display_data"
    }
   ],
   "source": [
    "df3['Bankruptcies'].dropna().plot(kind='hist',bins=300)"
   ]
  },
  {
   "cell_type": "code",
   "execution_count": 41,
   "metadata": {},
   "outputs": [
    {
     "data": {
      "text/plain": [
       "count    215248.000000\n",
       "mean          0.110556\n",
       "std           0.336853\n",
       "min           0.000000\n",
       "25%           0.000000\n",
       "50%           0.000000\n",
       "75%           0.000000\n",
       "max           7.000000\n",
       "Name: Bankruptcies, dtype: float64"
      ]
     },
     "execution_count": 41,
     "metadata": {},
     "output_type": "execute_result"
    }
   ],
   "source": [
    "df3['Bankruptcies'].describe()"
   ]
  },
  {
   "cell_type": "code",
   "execution_count": null,
   "metadata": {},
   "outputs": [],
   "source": []
  },
  {
   "cell_type": "code",
   "execution_count": 42,
   "metadata": {},
   "outputs": [],
   "source": [
    "df3.drop(['Months since last delinquent','Annual Income','Tax Liens','Bankruptcies'], axis= 1, inplace=True)"
   ]
  },
  {
   "cell_type": "code",
   "execution_count": 43,
   "metadata": {},
   "outputs": [
    {
     "data": {
      "text/plain": [
       "Current Loan Amount              0\n",
       "Credit Score                 44498\n",
       "Years of Credit History          0\n",
       "Number of Open Accounts          0\n",
       "Number of Credit Problems        0\n",
       "Current Credit Balance           0\n",
       "Loan Status1                     0\n",
       "Term1                            0\n",
       "Purpose1                         0\n",
       "Home_Ownership1                  0\n",
       "dtype: int64"
      ]
     },
     "execution_count": 43,
     "metadata": {},
     "output_type": "execute_result"
    }
   ],
   "source": [
    "df3.isnull().sum()"
   ]
  },
  {
   "cell_type": "code",
   "execution_count": 44,
   "metadata": {
    "scrolled": false
   },
   "outputs": [
    {
     "name": "stdout",
     "output_type": "stream",
     "text": [
      "<class 'pandas.core.frame.DataFrame'>\n",
      "RangeIndex: 215700 entries, 0 to 215699\n",
      "Data columns (total 10 columns):\n",
      "Current Loan Amount          215700 non-null int64\n",
      "Credit Score                 171202 non-null float64\n",
      "Years of Credit History      215700 non-null float64\n",
      "Number of Open Accounts      215700 non-null int64\n",
      "Number of Credit Problems    215700 non-null int64\n",
      "Current Credit Balance       215700 non-null int64\n",
      "Loan Status1                 215700 non-null int64\n",
      "Term1                        215700 non-null int8\n",
      "Purpose1                     215700 non-null int8\n",
      "Home_Ownership1              215700 non-null int8\n",
      "dtypes: float64(2), int64(5), int8(3)\n",
      "memory usage: 12.1 MB\n"
     ]
    }
   ],
   "source": [
    "df3.info()"
   ]
  },
  {
   "cell_type": "code",
   "execution_count": 45,
   "metadata": {},
   "outputs": [],
   "source": [
    "df3m=df3[df3['Credit Score'].isnull()]"
   ]
  },
  {
   "cell_type": "code",
   "execution_count": 46,
   "metadata": {},
   "outputs": [
    {
     "name": "stdout",
     "output_type": "stream",
     "text": [
      "<class 'pandas.core.frame.DataFrame'>\n",
      "Int64Index: 44498 entries, 7 to 215696\n",
      "Data columns (total 10 columns):\n",
      "Current Loan Amount          44498 non-null int64\n",
      "Credit Score                 0 non-null float64\n",
      "Years of Credit History      44498 non-null float64\n",
      "Number of Open Accounts      44498 non-null int64\n",
      "Number of Credit Problems    44498 non-null int64\n",
      "Current Credit Balance       44498 non-null int64\n",
      "Loan Status1                 44498 non-null int64\n",
      "Term1                        44498 non-null int8\n",
      "Purpose1                     44498 non-null int8\n",
      "Home_Ownership1              44498 non-null int8\n",
      "dtypes: float64(2), int64(5), int8(3)\n",
      "memory usage: 2.8 MB\n"
     ]
    }
   ],
   "source": [
    "df3m.info()"
   ]
  },
  {
   "cell_type": "code",
   "execution_count": 47,
   "metadata": {},
   "outputs": [],
   "source": [
    "df3f=df3[df3['Credit Score'].notnull()]"
   ]
  },
  {
   "cell_type": "code",
   "execution_count": 48,
   "metadata": {},
   "outputs": [
    {
     "name": "stdout",
     "output_type": "stream",
     "text": [
      "<class 'pandas.core.frame.DataFrame'>\n",
      "Int64Index: 171202 entries, 0 to 215699\n",
      "Data columns (total 10 columns):\n",
      "Current Loan Amount          171202 non-null int64\n",
      "Credit Score                 171202 non-null float64\n",
      "Years of Credit History      171202 non-null float64\n",
      "Number of Open Accounts      171202 non-null int64\n",
      "Number of Credit Problems    171202 non-null int64\n",
      "Current Credit Balance       171202 non-null int64\n",
      "Loan Status1                 171202 non-null int64\n",
      "Term1                        171202 non-null int8\n",
      "Purpose1                     171202 non-null int8\n",
      "Home_Ownership1              171202 non-null int8\n",
      "dtypes: float64(2), int64(5), int8(3)\n",
      "memory usage: 10.9 MB\n"
     ]
    }
   ],
   "source": [
    "df3f.info()"
   ]
  },
  {
   "cell_type": "code",
   "execution_count": 49,
   "metadata": {},
   "outputs": [],
   "source": [
    "from sklearn.neighbors import KNeighborsClassifier\n",
    "k=KNeighborsClassifier()"
   ]
  },
  {
   "cell_type": "code",
   "execution_count": 50,
   "metadata": {},
   "outputs": [
    {
     "data": {
      "text/plain": [
       "KNeighborsClassifier(algorithm='auto', leaf_size=30, metric='minkowski',\n",
       "           metric_params=None, n_jobs=None, n_neighbors=5, p=2,\n",
       "           weights='uniform')"
      ]
     },
     "execution_count": 50,
     "metadata": {},
     "output_type": "execute_result"
    }
   ],
   "source": [
    "k.fit(df3f.drop('Credit Score', axis=1),df3f['Credit Score'])"
   ]
  },
  {
   "cell_type": "code",
   "execution_count": 51,
   "metadata": {},
   "outputs": [],
   "source": [
    "from sklearn.metrics import r2_score,mean_squared_error,accuracy_score,precision_score"
   ]
  },
  {
   "cell_type": "code",
   "execution_count": 52,
   "metadata": {},
   "outputs": [],
   "source": [
    "cspred=k.predict(df3m.drop('Credit Score', axis=1))"
   ]
  },
  {
   "cell_type": "code",
   "execution_count": 53,
   "metadata": {},
   "outputs": [
    {
     "data": {
      "text/plain": [
       "(44498,)"
      ]
     },
     "execution_count": 53,
     "metadata": {},
     "output_type": "execute_result"
    }
   ],
   "source": [
    "cspred.shape"
   ]
  },
  {
   "cell_type": "code",
   "execution_count": 54,
   "metadata": {},
   "outputs": [],
   "source": [
    "df3m['Credit Score']=cspred"
   ]
  },
  {
   "cell_type": "code",
   "execution_count": 55,
   "metadata": {},
   "outputs": [
    {
     "name": "stdout",
     "output_type": "stream",
     "text": [
      "<class 'pandas.core.frame.DataFrame'>\n",
      "Int64Index: 44498 entries, 7 to 215696\n",
      "Data columns (total 10 columns):\n",
      "Current Loan Amount          44498 non-null int64\n",
      "Credit Score                 44498 non-null float64\n",
      "Years of Credit History      44498 non-null float64\n",
      "Number of Open Accounts      44498 non-null int64\n",
      "Number of Credit Problems    44498 non-null int64\n",
      "Current Credit Balance       44498 non-null int64\n",
      "Loan Status1                 44498 non-null int64\n",
      "Term1                        44498 non-null int8\n",
      "Purpose1                     44498 non-null int8\n",
      "Home_Ownership1              44498 non-null int8\n",
      "dtypes: float64(2), int64(5), int8(3)\n",
      "memory usage: 2.8 MB\n"
     ]
    }
   ],
   "source": [
    "df3m.info()"
   ]
  },
  {
   "cell_type": "code",
   "execution_count": 56,
   "metadata": {},
   "outputs": [],
   "source": [
    "df3a=df3m.append(df3f)"
   ]
  },
  {
   "cell_type": "code",
   "execution_count": 57,
   "metadata": {},
   "outputs": [
    {
     "name": "stdout",
     "output_type": "stream",
     "text": [
      "<class 'pandas.core.frame.DataFrame'>\n",
      "Int64Index: 215700 entries, 7 to 215699\n",
      "Data columns (total 10 columns):\n",
      "Current Loan Amount          215700 non-null int64\n",
      "Credit Score                 215700 non-null float64\n",
      "Years of Credit History      215700 non-null float64\n",
      "Number of Open Accounts      215700 non-null int64\n",
      "Number of Credit Problems    215700 non-null int64\n",
      "Current Credit Balance       215700 non-null int64\n",
      "Loan Status1                 215700 non-null int64\n",
      "Term1                        215700 non-null int8\n",
      "Purpose1                     215700 non-null int8\n",
      "Home_Ownership1              215700 non-null int8\n",
      "dtypes: float64(2), int64(5), int8(3)\n",
      "memory usage: 13.8 MB\n"
     ]
    }
   ],
   "source": [
    "df3a.info()"
   ]
  },
  {
   "cell_type": "code",
   "execution_count": 58,
   "metadata": {},
   "outputs": [
    {
     "data": {
      "text/plain": [
       "Loan ID                              0\n",
       "Customer ID                          0\n",
       "Loan Status                          0\n",
       "Term                                 0\n",
       "Years in current job              8990\n",
       "Home Ownership                       0\n",
       "Purpose                              0\n",
       "Monthly Debt                         0\n",
       "Maximum Open Credit                  0\n",
       "Current Loan Amount                  0\n",
       "Credit Score                     44498\n",
       "Annual Income                    44498\n",
       "Years of Credit History              0\n",
       "Months since last delinquent    118262\n",
       "Number of Open Accounts              0\n",
       "Number of Credit Problems            0\n",
       "Current Credit Balance               0\n",
       "Bankruptcies                       452\n",
       "Tax Liens                           22\n",
       "Loan Status1                         0\n",
       "Term1                                0\n",
       "Purpose1                             0\n",
       "Home_Ownership1                      0\n",
       "dtype: int64"
      ]
     },
     "execution_count": 58,
     "metadata": {},
     "output_type": "execute_result"
    }
   ],
   "source": [
    "df.isnull().sum()"
   ]
  },
  {
   "cell_type": "code",
   "execution_count": 59,
   "metadata": {
    "scrolled": true
   },
   "outputs": [],
   "source": [
    "dfm=df[df['Credit Score'].isnull()]"
   ]
  },
  {
   "cell_type": "code",
   "execution_count": 60,
   "metadata": {},
   "outputs": [],
   "source": [
    "dff=df[df['Credit Score'].notnull()]"
   ]
  },
  {
   "cell_type": "code",
   "execution_count": 61,
   "metadata": {},
   "outputs": [],
   "source": [
    "dfm['Credit Score']=cspred"
   ]
  },
  {
   "cell_type": "code",
   "execution_count": 62,
   "metadata": {},
   "outputs": [
    {
     "name": "stdout",
     "output_type": "stream",
     "text": [
      "<class 'pandas.core.frame.DataFrame'>\n",
      "Int64Index: 44498 entries, 7 to 215696\n",
      "Data columns (total 23 columns):\n",
      "Loan ID                         44498 non-null object\n",
      "Customer ID                     44498 non-null object\n",
      "Loan Status                     44498 non-null object\n",
      "Term                            44498 non-null object\n",
      "Years in current job            42831 non-null object\n",
      "Home Ownership                  44498 non-null object\n",
      "Purpose                         44498 non-null object\n",
      "Monthly Debt                    44498 non-null object\n",
      "Maximum Open Credit             44498 non-null object\n",
      "Current Loan Amount             44498 non-null int64\n",
      "Credit Score                    44498 non-null float64\n",
      "Annual Income                   0 non-null float64\n",
      "Years of Credit History         44498 non-null float64\n",
      "Months since last delinquent    20086 non-null float64\n",
      "Number of Open Accounts         44498 non-null int64\n",
      "Number of Credit Problems       44498 non-null int64\n",
      "Current Credit Balance          44498 non-null int64\n",
      "Bankruptcies                    44411 non-null float64\n",
      "Tax Liens                       44491 non-null float64\n",
      "Loan Status1                    44498 non-null int64\n",
      "Term1                           44498 non-null int8\n",
      "Purpose1                        44498 non-null int8\n",
      "Home_Ownership1                 44498 non-null int8\n",
      "dtypes: float64(6), int64(5), int8(3), object(9)\n",
      "memory usage: 7.3+ MB\n"
     ]
    }
   ],
   "source": [
    "dfm.info()"
   ]
  },
  {
   "cell_type": "code",
   "execution_count": 63,
   "metadata": {},
   "outputs": [
    {
     "data": {
      "text/plain": [
       "(44498, 23)"
      ]
     },
     "execution_count": 63,
     "metadata": {},
     "output_type": "execute_result"
    }
   ],
   "source": [
    "dfm.shape"
   ]
  },
  {
   "cell_type": "code",
   "execution_count": 64,
   "metadata": {},
   "outputs": [
    {
     "data": {
      "text/plain": [
       "(171202, 23)"
      ]
     },
     "execution_count": 64,
     "metadata": {},
     "output_type": "execute_result"
    }
   ],
   "source": [
    "dff.shape"
   ]
  },
  {
   "cell_type": "code",
   "execution_count": 65,
   "metadata": {},
   "outputs": [],
   "source": [
    "dfa=dfm.append(dff)"
   ]
  },
  {
   "cell_type": "code",
   "execution_count": 66,
   "metadata": {},
   "outputs": [
    {
     "name": "stdout",
     "output_type": "stream",
     "text": [
      "<class 'pandas.core.frame.DataFrame'>\n",
      "Int64Index: 215700 entries, 7 to 215699\n",
      "Data columns (total 23 columns):\n",
      "Loan ID                         215700 non-null object\n",
      "Customer ID                     215700 non-null object\n",
      "Loan Status                     215700 non-null object\n",
      "Term                            215700 non-null object\n",
      "Years in current job            206710 non-null object\n",
      "Home Ownership                  215700 non-null object\n",
      "Purpose                         215700 non-null object\n",
      "Monthly Debt                    215700 non-null object\n",
      "Maximum Open Credit             215700 non-null object\n",
      "Current Loan Amount             215700 non-null int64\n",
      "Credit Score                    215700 non-null float64\n",
      "Annual Income                   171202 non-null float64\n",
      "Years of Credit History         215700 non-null float64\n",
      "Months since last delinquent    97438 non-null float64\n",
      "Number of Open Accounts         215700 non-null int64\n",
      "Number of Credit Problems       215700 non-null int64\n",
      "Current Credit Balance          215700 non-null int64\n",
      "Bankruptcies                    215248 non-null float64\n",
      "Tax Liens                       215678 non-null float64\n",
      "Loan Status1                    215700 non-null int64\n",
      "Term1                           215700 non-null int8\n",
      "Purpose1                        215700 non-null int8\n",
      "Home_Ownership1                 215700 non-null int8\n",
      "dtypes: float64(6), int64(5), int8(3), object(9)\n",
      "memory usage: 35.2+ MB\n"
     ]
    }
   ],
   "source": [
    "dfa.info()"
   ]
  },
  {
   "cell_type": "code",
   "execution_count": 67,
   "metadata": {},
   "outputs": [
    {
     "data": {
      "text/plain": [
       "<matplotlib.axes._subplots.AxesSubplot at 0x1a1fe9c240>"
      ]
     },
     "execution_count": 67,
     "metadata": {},
     "output_type": "execute_result"
    },
    {
     "data": {
      "image/png": "[encoded data removed]",
      "text/plain": [
       "<Figure size 432x288 with 1 Axes>"
      ]
     },
     "metadata": {
      "needs_background": "light"
     },
     "output_type": "display_data"
    }
   ],
   "source": [
    "dfa['Credit Score'].dropna().plot(kind='hist',bins=300)"
   ]
  },
  {
   "cell_type": "markdown",
   "metadata": {},
   "source": [
    "## Annual Income"
   ]
  },
  {
   "cell_type": "code",
   "execution_count": 68,
   "metadata": {},
   "outputs": [
    {
     "data": {
      "text/plain": [
       "(nan, 8713547.0)"
      ]
     },
     "execution_count": 68,
     "metadata": {},
     "output_type": "execute_result"
    }
   ],
   "source": [
    "dfa['Annual Income'].min(skipna=False),df['Annual Income'].max()"
   ]
  },
  {
   "cell_type": "code",
   "execution_count": 69,
   "metadata": {},
   "outputs": [
    {
     "data": {
      "text/html": [
       "<div>\n",
       "<style scoped>\n",
       "    .dataframe tbody tr th:only-of-type {\n",
       "        vertical-align: middle;\n",
       "    }\n",
       "\n",
       "    .dataframe tbody tr th {\n",
       "        vertical-align: top;\n",
       "    }\n",
       "\n",
       "    .dataframe thead th {\n",
       "        text-align: right;\n",
       "    }\n",
       "</style>\n",
       "<table border=\"1\" class=\"dataframe\">\n",
       "  <thead>\n",
       "    <tr style=\"text-align: right;\">\n",
       "      <th></th>\n",
       "      <th>Loan ID</th>\n",
       "      <th>Customer ID</th>\n",
       "      <th>Loan Status</th>\n",
       "      <th>Term</th>\n",
       "      <th>Years in current job</th>\n",
       "      <th>Home Ownership</th>\n",
       "      <th>Purpose</th>\n",
       "      <th>Monthly Debt</th>\n",
       "      <th>Maximum Open Credit</th>\n",
       "      <th>Current Loan Amount</th>\n",
       "      <th>...</th>\n",
       "      <th>Months since last delinquent</th>\n",
       "      <th>Number of Open Accounts</th>\n",
       "      <th>Number of Credit Problems</th>\n",
       "      <th>Current Credit Balance</th>\n",
       "      <th>Bankruptcies</th>\n",
       "      <th>Tax Liens</th>\n",
       "      <th>Loan Status1</th>\n",
       "      <th>Term1</th>\n",
       "      <th>Purpose1</th>\n",
       "      <th>Home_Ownership1</th>\n",
       "    </tr>\n",
       "  </thead>\n",
       "  <tbody>\n",
       "    <tr>\n",
       "      <th>28599</th>\n",
       "      <td>21ea699e-4eea-4908-9d67-7ae36f31d221</td>\n",
       "      <td>4e0d2d18-db25-40f6-ab3a-7746cd676d2e</td>\n",
       "      <td>Fully Paid</td>\n",
       "      <td>Short Term</td>\n",
       "      <td>10+ years</td>\n",
       "      <td>Home Mortgage</td>\n",
       "      <td>Home Improvements</td>\n",
       "      <td>$783.92</td>\n",
       "      <td>9308</td>\n",
       "      <td>99999999</td>\n",
       "      <td>...</td>\n",
       "      <td>40.0</td>\n",
       "      <td>4</td>\n",
       "      <td>0</td>\n",
       "      <td>8917</td>\n",
       "      <td>0.0</td>\n",
       "      <td>0.0</td>\n",
       "      <td>1</td>\n",
       "      <td>1</td>\n",
       "      <td>5</td>\n",
       "      <td>1</td>\n",
       "    </tr>\n",
       "    <tr>\n",
       "      <th>33412</th>\n",
       "      <td>2790a78c-3405-4403-b9fa-c46dcb296c02</td>\n",
       "      <td>824b8012-5314-453d-aa28-b9ee9e4bfded</td>\n",
       "      <td>Fully Paid</td>\n",
       "      <td>Short Term</td>\n",
       "      <td>7 years</td>\n",
       "      <td>Home Mortgage</td>\n",
       "      <td>Home Improvements</td>\n",
       "      <td>$4,516.24</td>\n",
       "      <td>42017</td>\n",
       "      <td>99999999</td>\n",
       "      <td>...</td>\n",
       "      <td>NaN</td>\n",
       "      <td>8</td>\n",
       "      <td>0</td>\n",
       "      <td>40925</td>\n",
       "      <td>0.0</td>\n",
       "      <td>0.0</td>\n",
       "      <td>1</td>\n",
       "      <td>1</td>\n",
       "      <td>5</td>\n",
       "      <td>1</td>\n",
       "    </tr>\n",
       "    <tr>\n",
       "      <th>92786</th>\n",
       "      <td>6dfd2f9c-b796-4cb3-8f71-04d6ae8a8f92</td>\n",
       "      <td>ceee183a-9b02-4b82-ae53-14ccd5f785fd</td>\n",
       "      <td>Charged Off</td>\n",
       "      <td>Short Term</td>\n",
       "      <td>10+ years</td>\n",
       "      <td>Home Mortgage</td>\n",
       "      <td>Debt Consolidation</td>\n",
       "      <td>$798.74</td>\n",
       "      <td>30429</td>\n",
       "      <td>8006</td>\n",
       "      <td>...</td>\n",
       "      <td>NaN</td>\n",
       "      <td>11</td>\n",
       "      <td>0</td>\n",
       "      <td>16462</td>\n",
       "      <td>0.0</td>\n",
       "      <td>0.0</td>\n",
       "      <td>0</td>\n",
       "      <td>1</td>\n",
       "      <td>3</td>\n",
       "      <td>1</td>\n",
       "    </tr>\n",
       "    <tr>\n",
       "      <th>142086</th>\n",
       "      <td>a88c6d42-44b3-4a29-afdf-84e31a4ce246</td>\n",
       "      <td>419bfdfe-66fa-4e7e-a568-e4e090c39796</td>\n",
       "      <td>Fully Paid</td>\n",
       "      <td>Short Term</td>\n",
       "      <td>3 years</td>\n",
       "      <td>Home Mortgage</td>\n",
       "      <td>Home Improvements</td>\n",
       "      <td>$564.24</td>\n",
       "      <td>15725</td>\n",
       "      <td>9899</td>\n",
       "      <td>...</td>\n",
       "      <td>21.0</td>\n",
       "      <td>18</td>\n",
       "      <td>0</td>\n",
       "      <td>2469</td>\n",
       "      <td>0.0</td>\n",
       "      <td>0.0</td>\n",
       "      <td>1</td>\n",
       "      <td>1</td>\n",
       "      <td>5</td>\n",
       "      <td>1</td>\n",
       "    </tr>\n",
       "  </tbody>\n",
       "</table>\n",
       "<p>4 rows × 23 columns</p>\n",
       "</div>"
      ],
      "text/plain": [
       "                                     Loan ID  \\\n",
       "28599   21ea699e-4eea-4908-9d67-7ae36f31d221   \n",
       "33412   2790a78c-3405-4403-b9fa-c46dcb296c02   \n",
       "92786   6dfd2f9c-b796-4cb3-8f71-04d6ae8a8f92   \n",
       "142086  a88c6d42-44b3-4a29-afdf-84e31a4ce246   \n",
       "\n",
       "                                 Customer ID  Loan Status        Term  \\\n",
       "28599   4e0d2d18-db25-40f6-ab3a-7746cd676d2e   Fully Paid  Short Term   \n",
       "33412   824b8012-5314-453d-aa28-b9ee9e4bfded   Fully Paid  Short Term   \n",
       "92786   ceee183a-9b02-4b82-ae53-14ccd5f785fd  Charged Off  Short Term   \n",
       "142086  419bfdfe-66fa-4e7e-a568-e4e090c39796   Fully Paid  Short Term   \n",
       "\n",
       "       Years in current job Home Ownership             Purpose Monthly Debt  \\\n",
       "28599             10+ years  Home Mortgage   Home Improvements      $783.92   \n",
       "33412               7 years  Home Mortgage   Home Improvements   $4,516.24    \n",
       "92786             10+ years  Home Mortgage  Debt Consolidation      $798.74   \n",
       "142086              3 years  Home Mortgage   Home Improvements      $564.24   \n",
       "\n",
       "       Maximum Open Credit  Current Loan Amount  ...  \\\n",
       "28599                 9308             99999999  ...   \n",
       "33412                42017             99999999  ...   \n",
       "92786                30429                 8006  ...   \n",
       "142086               15725                 9899  ...   \n",
       "\n",
       "        Months since last delinquent  Number of Open Accounts  \\\n",
       "28599                           40.0                        4   \n",
       "33412                            NaN                        8   \n",
       "92786                            NaN                       11   \n",
       "142086                          21.0                       18   \n",
       "\n",
       "        Number of Credit Problems  Current Credit Balance  Bankruptcies  \\\n",
       "28599                           0                    8917           0.0   \n",
       "33412                           0                   40925           0.0   \n",
       "92786                           0                   16462           0.0   \n",
       "142086                          0                    2469           0.0   \n",
       "\n",
       "        Tax Liens  Loan Status1  Term1  Purpose1  Home_Ownership1  \n",
       "28599         0.0             1      1         5                1  \n",
       "33412         0.0             1      1         5                1  \n",
       "92786         0.0             0      1         3                1  \n",
       "142086        0.0             1      1         5                1  \n",
       "\n",
       "[4 rows x 23 columns]"
      ]
     },
     "execution_count": 69,
     "metadata": {},
     "output_type": "execute_result"
    }
   ],
   "source": [
    "dfa[dfa['Annual Income']>2000000]"
   ]
  },
  {
   "cell_type": "code",
   "execution_count": 70,
   "metadata": {},
   "outputs": [
    {
     "data": {
      "text/plain": [
       "<matplotlib.axes._subplots.AxesSubplot at 0x1a190fed30>"
      ]
     },
     "execution_count": 70,
     "metadata": {},
     "output_type": "execute_result"
    },
    {
     "data": {
      "image/png": "[encoded data removed]",
      "text/plain": [
       "<Figure size 432x288 with 1 Axes>"
      ]
     },
     "metadata": {
      "needs_background": "light"
     },
     "output_type": "display_data"
    }
   ],
   "source": [
    "dfa['Annual Income'].dropna().plot(kind='hist',bins=300)"
   ]
  },
  {
   "cell_type": "code",
   "execution_count": 71,
   "metadata": {},
   "outputs": [
    {
     "data": {
      "text/plain": [
       "44498"
      ]
     },
     "execution_count": 71,
     "metadata": {},
     "output_type": "execute_result"
    }
   ],
   "source": [
    "dfa['Annual Income'].isnull().sum()"
   ]
  },
  {
   "cell_type": "code",
   "execution_count": 72,
   "metadata": {},
   "outputs": [],
   "source": [
    "dfa['Annual Income']=dfa['Annual Income'].fillna(dfa[\n",
    "    'Annual Income'].median())"
   ]
  },
  {
   "cell_type": "code",
   "execution_count": 73,
   "metadata": {},
   "outputs": [
    {
     "data": {
      "text/plain": [
       "<matplotlib.axes._subplots.AxesSubplot at 0x1a29db5f60>"
      ]
     },
     "execution_count": 73,
     "metadata": {},
     "output_type": "execute_result"
    },
    {
     "data": {
      "image/png": "[encoded data removed]",
      "text/plain": [
       "<Figure size 432x288 with 1 Axes>"
      ]
     },
     "metadata": {
      "needs_background": "light"
     },
     "output_type": "display_data"
    }
   ],
   "source": [
    "dfa['Annual Income'].plot(kind='hist',bins=300)"
   ]
  },
  {
   "cell_type": "code",
   "execution_count": 74,
   "metadata": {},
   "outputs": [
    {
     "data": {
      "text/plain": [
       "Loan ID                          object\n",
       "Customer ID                      object\n",
       "Loan Status                      object\n",
       "Term                             object\n",
       "Years in current job             object\n",
       "Home Ownership                   object\n",
       "Purpose                          object\n",
       "Monthly Debt                     object\n",
       "Maximum Open Credit              object\n",
       "Current Loan Amount               int64\n",
       "Credit Score                    float64\n",
       "Annual Income                   float64\n",
       "Years of Credit History         float64\n",
       "Months since last delinquent    float64\n",
       "Number of Open Accounts           int64\n",
       "Number of Credit Problems         int64\n",
       "Current Credit Balance            int64\n",
       "Bankruptcies                    float64\n",
       "Tax Liens                       float64\n",
       "Loan Status1                      int64\n",
       "Term1                              int8\n",
       "Purpose1                           int8\n",
       "Home_Ownership1                    int8\n",
       "dtype: object"
      ]
     },
     "execution_count": 74,
     "metadata": {},
     "output_type": "execute_result"
    }
   ],
   "source": [
    "dfa.dtypes"
   ]
  },
  {
   "cell_type": "markdown",
   "metadata": {},
   "source": [
    "## Monthly Debt and Maximum Open Credit\n",
    "Monthly debt and maximum open credit shows an object, but they should be float 65 since they are numeric values"
   ]
  },
  {
   "cell_type": "code",
   "execution_count": 75,
   "metadata": {},
   "outputs": [
    {
     "data": {
      "text/plain": [
       "7     386.36\n",
       "16    439.56\n",
       "20    262.27\n",
       "30    206.97\n",
       "46    425.68\n",
       "Name: Monthly Debt, dtype: float64"
      ]
     },
     "execution_count": 75,
     "metadata": {},
     "output_type": "execute_result"
    }
   ],
   "source": [
    "#convert monthly debt to float\n",
    "dfa['Monthly Debt']=dfa['Monthly Debt'].replace( '[\\$, ]',\n",
    "                                             '', regex=True \n",
    "                                             ).astype(float)\n",
    "dfa['Monthly Debt'].head()"
   ]
  },
  {
   "cell_type": "code",
   "execution_count": 76,
   "metadata": {},
   "outputs": [
    {
     "data": {
      "text/html": [
       "<div>\n",
       "<style scoped>\n",
       "    .dataframe tbody tr th:only-of-type {\n",
       "        vertical-align: middle;\n",
       "    }\n",
       "\n",
       "    .dataframe tbody tr th {\n",
       "        vertical-align: top;\n",
       "    }\n",
       "\n",
       "    .dataframe thead th {\n",
       "        text-align: right;\n",
       "    }\n",
       "</style>\n",
       "<table border=\"1\" class=\"dataframe\">\n",
       "  <thead>\n",
       "    <tr style=\"text-align: right;\">\n",
       "      <th></th>\n",
       "      <th>Loan ID</th>\n",
       "      <th>Customer ID</th>\n",
       "      <th>Loan Status</th>\n",
       "      <th>Term</th>\n",
       "      <th>Years in current job</th>\n",
       "      <th>Home Ownership</th>\n",
       "      <th>Purpose</th>\n",
       "      <th>Monthly Debt</th>\n",
       "      <th>Maximum Open Credit</th>\n",
       "      <th>Current Loan Amount</th>\n",
       "      <th>...</th>\n",
       "      <th>Months since last delinquent</th>\n",
       "      <th>Number of Open Accounts</th>\n",
       "      <th>Number of Credit Problems</th>\n",
       "      <th>Current Credit Balance</th>\n",
       "      <th>Bankruptcies</th>\n",
       "      <th>Tax Liens</th>\n",
       "      <th>Loan Status1</th>\n",
       "      <th>Term1</th>\n",
       "      <th>Purpose1</th>\n",
       "      <th>Home_Ownership1</th>\n",
       "    </tr>\n",
       "  </thead>\n",
       "  <tbody>\n",
       "    <tr>\n",
       "      <th>154841</th>\n",
       "      <td>b798f46b-e27b-4823-af83-294b1ffc3490</td>\n",
       "      <td>f61890c5-e264-4b0f-a047-9cfa03b9d182</td>\n",
       "      <td>Charged Off</td>\n",
       "      <td>Short Term</td>\n",
       "      <td>2 years</td>\n",
       "      <td>Rent</td>\n",
       "      <td>Debt Consolidation</td>\n",
       "      <td>506.34</td>\n",
       "      <td>#VALUE!</td>\n",
       "      <td>1470</td>\n",
       "      <td>...</td>\n",
       "      <td>26.0</td>\n",
       "      <td>3</td>\n",
       "      <td>0</td>\n",
       "      <td>0</td>\n",
       "      <td>0.0</td>\n",
       "      <td>0.0</td>\n",
       "      <td>0</td>\n",
       "      <td>1</td>\n",
       "      <td>3</td>\n",
       "      <td>3</td>\n",
       "    </tr>\n",
       "    <tr>\n",
       "      <th>157242</th>\n",
       "      <td>ba8f310d-7688-40e9-aa1c-30237dcaf051</td>\n",
       "      <td>80acb6ec-105f-42e4-bdd0-6c4792b88e71</td>\n",
       "      <td>Charged Off</td>\n",
       "      <td>Long Term</td>\n",
       "      <td>7 years</td>\n",
       "      <td>Home Mortgage</td>\n",
       "      <td>Home Improvements</td>\n",
       "      <td>1306.86</td>\n",
       "      <td>#VALUE!</td>\n",
       "      <td>23897</td>\n",
       "      <td>...</td>\n",
       "      <td>NaN</td>\n",
       "      <td>6</td>\n",
       "      <td>0</td>\n",
       "      <td>0</td>\n",
       "      <td>0.0</td>\n",
       "      <td>0.0</td>\n",
       "      <td>0</td>\n",
       "      <td>0</td>\n",
       "      <td>5</td>\n",
       "      <td>1</td>\n",
       "    </tr>\n",
       "  </tbody>\n",
       "</table>\n",
       "<p>2 rows × 23 columns</p>\n",
       "</div>"
      ],
      "text/plain": [
       "                                     Loan ID  \\\n",
       "154841  b798f46b-e27b-4823-af83-294b1ffc3490   \n",
       "157242  ba8f310d-7688-40e9-aa1c-30237dcaf051   \n",
       "\n",
       "                                 Customer ID  Loan Status        Term  \\\n",
       "154841  f61890c5-e264-4b0f-a047-9cfa03b9d182  Charged Off  Short Term   \n",
       "157242  80acb6ec-105f-42e4-bdd0-6c4792b88e71  Charged Off   Long Term   \n",
       "\n",
       "       Years in current job Home Ownership             Purpose  Monthly Debt  \\\n",
       "154841              2 years           Rent  Debt Consolidation        506.34   \n",
       "157242              7 years  Home Mortgage   Home Improvements       1306.86   \n",
       "\n",
       "       Maximum Open Credit  Current Loan Amount  ...  \\\n",
       "154841             #VALUE!                 1470  ...   \n",
       "157242             #VALUE!                23897  ...   \n",
       "\n",
       "        Months since last delinquent  Number of Open Accounts  \\\n",
       "154841                          26.0                        3   \n",
       "157242                           NaN                        6   \n",
       "\n",
       "        Number of Credit Problems  Current Credit Balance  Bankruptcies  \\\n",
       "154841                          0                       0           0.0   \n",
       "157242                          0                       0           0.0   \n",
       "\n",
       "        Tax Liens  Loan Status1  Term1  Purpose1  Home_Ownership1  \n",
       "154841        0.0             0      1         3                3  \n",
       "157242        0.0             0      0         5                1  \n",
       "\n",
       "[2 rows x 23 columns]"
      ]
     },
     "execution_count": 76,
     "metadata": {},
     "output_type": "execute_result"
    }
   ],
   "source": [
    "dfa[dfa['Maximum Open Credit']=='#VALUE!']"
   ]
  },
  {
   "cell_type": "code",
   "execution_count": 77,
   "metadata": {},
   "outputs": [
    {
     "data": {
      "text/plain": [
       "7     16579.0\n",
       "16    15866.0\n",
       "20     9330.0\n",
       "30    13975.0\n",
       "46     6850.0\n",
       "Name: Maximum Open Credit, dtype: float64"
      ]
     },
     "execution_count": 77,
     "metadata": {},
     "output_type": "execute_result"
    }
   ],
   "source": [
    "dfa['Maximum Open Credit']=dfa[\n",
    "    'Maximum Open Credit'].convert_objects(convert_numeric=True)\n",
    "dfa['Maximum Open Credit'].head()"
   ]
  },
  {
   "cell_type": "code",
   "execution_count": 78,
   "metadata": {},
   "outputs": [
    {
     "name": "stdout",
     "output_type": "stream",
     "text": [
      "<class 'pandas.core.frame.DataFrame'>\n",
      "Int64Index: 215700 entries, 7 to 215699\n",
      "Data columns (total 23 columns):\n",
      "Loan ID                         215700 non-null object\n",
      "Customer ID                     215700 non-null object\n",
      "Loan Status                     215700 non-null object\n",
      "Term                            215700 non-null object\n",
      "Years in current job            206710 non-null object\n",
      "Home Ownership                  215700 non-null object\n",
      "Purpose                         215700 non-null object\n",
      "Monthly Debt                    215700 non-null float64\n",
      "Maximum Open Credit             215698 non-null float64\n",
      "Current Loan Amount             215700 non-null int64\n",
      "Credit Score                    215700 non-null float64\n",
      "Annual Income                   215700 non-null float64\n",
      "Years of Credit History         215700 non-null float64\n",
      "Months since last delinquent    97438 non-null float64\n",
      "Number of Open Accounts         215700 non-null int64\n",
      "Number of Credit Problems       215700 non-null int64\n",
      "Current Credit Balance          215700 non-null int64\n",
      "Bankruptcies                    215248 non-null float64\n",
      "Tax Liens                       215678 non-null float64\n",
      "Loan Status1                    215700 non-null int64\n",
      "Term1                           215700 non-null int8\n",
      "Purpose1                        215700 non-null int8\n",
      "Home_Ownership1                 215700 non-null int8\n",
      "dtypes: float64(8), int64(5), int8(3), object(7)\n",
      "memory usage: 35.2+ MB\n"
     ]
    }
   ],
   "source": [
    "dfa.info()"
   ]
  },
  {
   "cell_type": "markdown",
   "metadata": {},
   "source": [
    "## fill max open credit"
   ]
  },
  {
   "cell_type": "code",
   "execution_count": 79,
   "metadata": {},
   "outputs": [
    {
     "data": {
      "text/plain": [
       "count    2.156980e+05\n",
       "mean     3.698381e+04\n",
       "std      6.011805e+05\n",
       "min      0.000000e+00\n",
       "25%      1.296100e+04\n",
       "50%      2.206000e+04\n",
       "75%      3.681000e+04\n",
       "max      1.763322e+08\n",
       "Name: Maximum Open Credit, dtype: float64"
      ]
     },
     "execution_count": 79,
     "metadata": {},
     "output_type": "execute_result"
    }
   ],
   "source": [
    "dfa['Maximum Open Credit'].describe()"
   ]
  },
  {
   "cell_type": "code",
   "execution_count": 80,
   "metadata": {},
   "outputs": [
    {
     "data": {
      "text/plain": [
       "(36983.81481052212, 22060.0, 0    0.0\n",
       " dtype: float64)"
      ]
     },
     "execution_count": 80,
     "metadata": {},
     "output_type": "execute_result"
    }
   ],
   "source": [
    "dfa['Maximum Open Credit'].mean(),dfa['Maximum Open Credit'].median(),dfa['Maximum Open Credit'].mode()"
   ]
  },
  {
   "cell_type": "code",
   "execution_count": 81,
   "metadata": {},
   "outputs": [],
   "source": [
    "dfa['Maximum Open Credit']= dfa['Maximum Open Credit'].fillna(dfa['Maximum Open Credit'].median())"
   ]
  },
  {
   "cell_type": "code",
   "execution_count": 82,
   "metadata": {},
   "outputs": [
    {
     "data": {
      "text/plain": [
       "Loan ID                         215700\n",
       "Customer ID                     215700\n",
       "Loan Status                          2\n",
       "Term                                 2\n",
       "Years in current job                11\n",
       "Home Ownership                       4\n",
       "Purpose                             10\n",
       "Monthly Debt                    128755\n",
       "Maximum Open Credit              68883\n",
       "Current Loan Amount              27308\n",
       "Credit Score                       201\n",
       "Annual Income                    60412\n",
       "Years of Credit History            541\n",
       "Months since last delinquent       131\n",
       "Number of Open Accounts             59\n",
       "Number of Credit Problems           12\n",
       "Current Credit Balance           45630\n",
       "Bankruptcies                         8\n",
       "Tax Liens                           12\n",
       "Loan Status1                         2\n",
       "Term1                                2\n",
       "Purpose1                            10\n",
       "Home_Ownership1                      4\n",
       "dtype: int64"
      ]
     },
     "execution_count": 82,
     "metadata": {},
     "output_type": "execute_result"
    }
   ],
   "source": [
    "dfa.nunique()"
   ]
  },
  {
   "cell_type": "code",
   "execution_count": 83,
   "metadata": {},
   "outputs": [
    {
     "data": {
      "text/plain": [
       "(215700, 23)"
      ]
     },
     "execution_count": 83,
     "metadata": {},
     "output_type": "execute_result"
    }
   ],
   "source": [
    "dfa.shape"
   ]
  },
  {
   "cell_type": "code",
   "execution_count": 84,
   "metadata": {},
   "outputs": [
    {
     "name": "stdout",
     "output_type": "stream",
     "text": [
      "Loan Status ['Fully Paid' 'Charged Off']\n",
      "Term:  ['Short Term' 'Long Term']\n",
      "Years in current job:  ['10+ years' '4 years' '6 years' '5 years' nan '3 years' '2 years'\n",
      " '< 1 year' '1 year' '7 years' '9 years' '8 years']\n",
      "Home Ownership:  ['Home Mortgage' 'Own Home' 'Rent' 'HaveMortgage']\n",
      "Purpose:  ['Debt Consolidation' 'other' 'Business Loan' 'Home Improvements'\n",
      " 'Buy House' 'Other' 'Buy a Car' 'Medical Bills' 'Take a Trip'\n",
      " 'Educational Expenses']\n"
     ]
    }
   ],
   "source": [
    "print (\"Loan Status\", df['Loan Status'].unique())\n",
    "print(\"Term: \", df['Term'].unique())\n",
    "print(\"Years in current job: \",df['Years in current job'].unique())\n",
    "print(\"Home Ownership: \", df['Home Ownership'].unique())\n",
    "print(\"Purpose: \",df['Purpose'].unique())"
   ]
  },
  {
   "cell_type": "code",
   "execution_count": 85,
   "metadata": {},
   "outputs": [],
   "source": [
    "#conver havemortagage to home mortgage\n",
    "dfa['Home Ownership']=dfa['Home Ownership'].map(\n",
    "    lambda x: 'Home Mortgage' if x=='HaveMortgage' else x)"
   ]
  },
  {
   "cell_type": "code",
   "execution_count": 86,
   "metadata": {},
   "outputs": [],
   "source": [
    "#convert 'toher to 'Other'\n",
    "dfa['Purpose']=dfa['Purpose'].map(\n",
    "    lambda x:'Other' if x=='other' else x)"
   ]
  },
  {
   "cell_type": "code",
   "execution_count": 87,
   "metadata": {},
   "outputs": [
    {
     "name": "stdout",
     "output_type": "stream",
     "text": [
      "Home Ownership:  ['Rent' 'Home Mortgage' 'Own Home']\n",
      "Purpose:  ['Debt Consolidation' 'Other' 'Buy a Car' 'Buy House' 'Medical Bills'\n",
      " 'Home Improvements' 'Business Loan' 'Take a Trip' 'Educational Expenses']\n"
     ]
    }
   ],
   "source": [
    "#check unique values\n",
    "print(\"Home Ownership: \", dfa['Home Ownership'].unique())\n",
    "print(\"Purpose: \", dfa['Purpose'].unique())"
   ]
  },
  {
   "cell_type": "code",
   "execution_count": 88,
   "metadata": {},
   "outputs": [],
   "source": [
    "dfa.drop(['Home_Ownership1','Purpose1'],axis=1,inplace=True)"
   ]
  },
  {
   "cell_type": "markdown",
   "metadata": {},
   "source": [
    "## Months Since Last Delinquent"
   ]
  },
  {
   "cell_type": "code",
   "execution_count": 89,
   "metadata": {},
   "outputs": [
    {
     "data": {
      "text/plain": [
       "<matplotlib.axes._subplots.AxesSubplot at 0x1a2ef9d198>"
      ]
     },
     "execution_count": 89,
     "metadata": {},
     "output_type": "execute_result"
    },
    {
     "data": {
      "image/png": "[encoded data removed]",
      "text/plain": [
       "<Figure size 432x288 with 1 Axes>"
      ]
     },
     "metadata": {
      "needs_background": "light"
     },
     "output_type": "display_data"
    }
   ],
   "source": [
    "dfa['Months since last delinquent'].dropna().plot(kind='hist',bins=200)"
   ]
  },
  {
   "cell_type": "markdown",
   "metadata": {},
   "source": [
    "#### Prepare data for plotting"
   ]
  },
  {
   "cell_type": "code",
   "execution_count": 90,
   "metadata": {},
   "outputs": [
    {
     "data": {
      "text/plain": [
       "Text(0.5, 0, 'Months since last delinquent')"
      ]
     },
     "execution_count": 90,
     "metadata": {},
     "output_type": "execute_result"
    },
    {
     "data": {
      "image/png": "[encoded data removed]",
      "text/plain": [
       "<Figure size 432x288 with 1 Axes>"
      ]
     },
     "metadata": {
      "needs_background": "light"
     },
     "output_type": "display_data"
    }
   ],
   "source": [
    "#make new dataframe without null values\n",
    "df2=dfa[dfa['Months since last delinquent'].notnull()]\n",
    "x=df2['Months since last delinquent']\n",
    "y=df2['Loan Status'].map(lambda x:1 if x=='Fully Paid' else 0)\n",
    "\n",
    "#make the plot\n",
    "fig=plt.figure()\n",
    "ax=fig.add_subplot(111)\n",
    "ax.scatter(x,y)\n",
    "ax.set_ylabel('Loan Status', fontsize=20)\n",
    "ax.set_xlabel('Months since last delinquent',fontsize=20)"
   ]
  },
  {
   "cell_type": "markdown",
   "metadata": {},
   "source": [
    "By plotting the \"Months since last delinquent\" vs \"loan status\", we can see if there is any correlation between the months since last delinquent to the loan status being paid off or not. According to the plot, there is no distinguishable differences between the two variables, thus we can assume that \"Months since last delinquent\" may not contribute much to our prediction model. Therefore, we will drop this column."
   ]
  },
  {
   "cell_type": "code",
   "execution_count": 91,
   "metadata": {},
   "outputs": [],
   "source": [
    "dfa=dfa.drop(['Months since last delinquent'], axis=1)"
   ]
  },
  {
   "cell_type": "markdown",
   "metadata": {},
   "source": [
    "## Look at Remaining null Values in\n",
    "## \"Bankruptcies\" and \"Tax Liens\""
   ]
  },
  {
   "cell_type": "code",
   "execution_count": 92,
   "metadata": {},
   "outputs": [
    {
     "data": {
      "text/plain": [
       "<matplotlib.axes._subplots.AxesSubplot at 0x1a2ff67f98>"
      ]
     },
     "execution_count": 92,
     "metadata": {},
     "output_type": "execute_result"
    },
    {
     "data": {
      "image/png": "[encoded data removed]",
      "text/plain": [
       "<Figure size 432x288 with 1 Axes>"
      ]
     },
     "metadata": {
      "needs_background": "light"
     },
     "output_type": "display_data"
    }
   ],
   "source": [
    "dfa.Bankruptcies.value_counts(dropna=False).plot(kind='bar')"
   ]
  },
  {
   "cell_type": "markdown",
   "metadata": {},
   "source": [
    "**Plotting bankruptcies**"
   ]
  },
  {
   "cell_type": "code",
   "execution_count": 93,
   "metadata": {},
   "outputs": [
    {
     "data": {
      "text/plain": [
       "Text(0.5, 0, 'Bankruptcies')"
      ]
     },
     "execution_count": 93,
     "metadata": {},
     "output_type": "execute_result"
    },
    {
     "data": {
      "image/png": "[encoded data removed]",
      "text/plain": [
       "<Figure size 432x288 with 1 Axes>"
      ]
     },
     "metadata": {
      "needs_background": "light"
     },
     "output_type": "display_data"
    }
   ],
   "source": [
    "#makes new dataframe without null values\n",
    "df2= dfa[dfa['Bankruptcies'].notnull()]\n",
    "x= df2['Bankruptcies']\n",
    "y=df2['Loan Status'].map(lambda x:1 if x=='Fully Paid' else 0)\n",
    "\n",
    "# make the plot\n",
    "fig= plt.figure()\n",
    "ax= fig.add_subplot(111)\n",
    "ax.scatter(x,y)\n",
    "ax.set_ylabel('Loan Status', fontsize=20)\n",
    "ax.set_xlabel('Bankruptcies', fontsize=20)"
   ]
  },
  {
   "cell_type": "markdown",
   "metadata": {},
   "source": [
    "Looking at both Bankruptcies and tax liens, there does not seem to be much data missing relative to the number of rows. Also, plotting them against loan status does not show any noticeable correlations. Therefore, we will be dropping the null rows for htese vairables as well."
   ]
  },
  {
   "cell_type": "markdown",
   "metadata": {},
   "source": [
    "### Dropping the null values for \"Bankruptcies\" and \"Tax Liens\"\n",
    "* we do this by only including the data is not null in the dataframe"
   ]
  },
  {
   "cell_type": "code",
   "execution_count": 94,
   "metadata": {},
   "outputs": [
    {
     "name": "stdout",
     "output_type": "stream",
     "text": [
      "<class 'pandas.core.frame.DataFrame'>\n",
      "Int64Index: 215248 entries, 7 to 215699\n",
      "Data columns (total 20 columns):\n",
      "Loan ID                      215248 non-null object\n",
      "Customer ID                  215248 non-null object\n",
      "Loan Status                  215248 non-null object\n",
      "Term                         215248 non-null object\n",
      "Years in current job         206258 non-null object\n",
      "Home Ownership               215248 non-null object\n",
      "Purpose                      215248 non-null object\n",
      "Monthly Debt                 215248 non-null float64\n",
      "Maximum Open Credit          215248 non-null float64\n",
      "Current Loan Amount          215248 non-null int64\n",
      "Credit Score                 215248 non-null float64\n",
      "Annual Income                215248 non-null float64\n",
      "Years of Credit History      215248 non-null float64\n",
      "Number of Open Accounts      215248 non-null int64\n",
      "Number of Credit Problems    215248 non-null int64\n",
      "Current Credit Balance       215248 non-null int64\n",
      "Bankruptcies                 215248 non-null float64\n",
      "Tax Liens                    215248 non-null float64\n",
      "Loan Status1                 215248 non-null int64\n",
      "Term1                        215248 non-null int8\n",
      "dtypes: float64(7), int64(5), int8(1), object(7)\n",
      "memory usage: 33.0+ MB\n"
     ]
    }
   ],
   "source": [
    "dfa=dfa[dfa['Bankruptcies'].notnull()]\n",
    "dfa=dfa[dfa['Tax Liens'].notnull()]\n",
    "dfa.info(\n",
    ")"
   ]
  },
  {
   "cell_type": "code",
   "execution_count": 95,
   "metadata": {},
   "outputs": [
    {
     "data": {
      "text/plain": [
       "Loan ID                         0\n",
       "Customer ID                     0\n",
       "Loan Status                     0\n",
       "Term                            0\n",
       "Years in current job         8990\n",
       "Home Ownership                  0\n",
       "Purpose                         0\n",
       "Monthly Debt                    0\n",
       "Maximum Open Credit             0\n",
       "Current Loan Amount             0\n",
       "Credit Score                    0\n",
       "Annual Income                   0\n",
       "Years of Credit History         0\n",
       "Number of Open Accounts         0\n",
       "Number of Credit Problems       0\n",
       "Current Credit Balance          0\n",
       "Bankruptcies                    0\n",
       "Tax Liens                       0\n",
       "Loan Status1                    0\n",
       "Term1                           0\n",
       "dtype: int64"
      ]
     },
     "execution_count": 95,
     "metadata": {},
     "output_type": "execute_result"
    }
   ],
   "source": [
    "dfa.isnull().sum()"
   ]
  },
  {
   "cell_type": "markdown",
   "metadata": {},
   "source": [
    "### Now we are going to look at years at current job to fill in the last na values"
   ]
  },
  {
   "cell_type": "code",
   "execution_count": 96,
   "metadata": {},
   "outputs": [
    {
     "data": {
      "text/plain": [
       "10+ years    66628\n",
       "2 years      19778\n",
       "< 1 year     17432\n",
       "3 years      17388\n",
       "5 years      14967\n",
       "1 year       14069\n",
       "4 years      13601\n",
       "6 years      12208\n",
       "7 years      11702\n",
       "8 years      10224\n",
       "9 years       8261\n",
       "Name: Years in current job, dtype: int64"
      ]
     },
     "execution_count": 96,
     "metadata": {},
     "output_type": "execute_result"
    }
   ],
   "source": [
    "dfa['Years in current job'].value_counts()"
   ]
  },
  {
   "cell_type": "code",
   "execution_count": 97,
   "metadata": {},
   "outputs": [],
   "source": [
    "#takes out all the spaces and + - and the words 'year'\n",
    "dfa['Years in current job'].replace(\n",
    "to_replace=['years','year',\"<\",\"\\+\",\" \"], value=\"\", regex=True, inplace=True)"
   ]
  },
  {
   "cell_type": "code",
   "execution_count": 98,
   "metadata": {},
   "outputs": [
    {
     "data": {
      "text/plain": [
       "10    66628\n",
       "1     31501\n",
       "2     19778\n",
       "3     17388\n",
       "5     14967\n",
       "4     13601\n",
       "6     12208\n",
       "7     11702\n",
       "8     10224\n",
       "9      8261\n",
       "Name: Years in current job, dtype: int64"
      ]
     },
     "execution_count": 98,
     "metadata": {},
     "output_type": "execute_result"
    }
   ],
   "source": [
    "dfa['Years in current job'].value_counts()"
   ]
  },
  {
   "cell_type": "code",
   "execution_count": 99,
   "metadata": {},
   "outputs": [],
   "source": [
    "dfa['Years in current job']=dfa['Years in current job'].fillna(0)"
   ]
  },
  {
   "cell_type": "code",
   "execution_count": 100,
   "metadata": {},
   "outputs": [],
   "source": [
    "dfa['Years in current job']=pd.Categorical(\n",
    "    dfa['Years in current job'])"
   ]
  },
  {
   "cell_type": "code",
   "execution_count": 101,
   "metadata": {},
   "outputs": [
    {
     "data": {
      "text/html": [
       "<div>\n",
       "<style scoped>\n",
       "    .dataframe tbody tr th:only-of-type {\n",
       "        vertical-align: middle;\n",
       "    }\n",
       "\n",
       "    .dataframe tbody tr th {\n",
       "        vertical-align: top;\n",
       "    }\n",
       "\n",
       "    .dataframe thead th {\n",
       "        text-align: right;\n",
       "    }\n",
       "</style>\n",
       "<table border=\"1\" class=\"dataframe\">\n",
       "  <thead>\n",
       "    <tr style=\"text-align: right;\">\n",
       "      <th></th>\n",
       "      <th>Loan ID</th>\n",
       "      <th>Customer ID</th>\n",
       "      <th>Loan Status</th>\n",
       "      <th>Term</th>\n",
       "      <th>Years in current job</th>\n",
       "      <th>Home Ownership</th>\n",
       "      <th>Purpose</th>\n",
       "      <th>Monthly Debt</th>\n",
       "      <th>Maximum Open Credit</th>\n",
       "      <th>Current Loan Amount</th>\n",
       "      <th>Credit Score</th>\n",
       "      <th>Annual Income</th>\n",
       "      <th>Years of Credit History</th>\n",
       "      <th>Number of Open Accounts</th>\n",
       "      <th>Number of Credit Problems</th>\n",
       "      <th>Current Credit Balance</th>\n",
       "      <th>Bankruptcies</th>\n",
       "      <th>Tax Liens</th>\n",
       "      <th>Loan Status1</th>\n",
       "      <th>Term1</th>\n",
       "    </tr>\n",
       "  </thead>\n",
       "  <tbody>\n",
       "  </tbody>\n",
       "</table>\n",
       "</div>"
      ],
      "text/plain": [
       "Empty DataFrame\n",
       "Columns: [Loan ID, Customer ID, Loan Status, Term, Years in current job, Home Ownership, Purpose, Monthly Debt, Maximum Open Credit, Current Loan Amount, Credit Score, Annual Income, Years of Credit History, Number of Open Accounts, Number of Credit Problems, Current Credit Balance, Bankruptcies, Tax Liens, Loan Status1, Term1]\n",
       "Index: []"
      ]
     },
     "execution_count": 101,
     "metadata": {},
     "output_type": "execute_result"
    }
   ],
   "source": [
    "dfa[dfa['Years in current job'].isnull()]"
   ]
  },
  {
   "cell_type": "code",
   "execution_count": 102,
   "metadata": {},
   "outputs": [
    {
     "name": "stdout",
     "output_type": "stream",
     "text": [
      "<class 'pandas.core.frame.DataFrame'>\n",
      "Int64Index: 215248 entries, 7 to 215699\n",
      "Data columns (total 20 columns):\n",
      "Loan ID                      215248 non-null object\n",
      "Customer ID                  215248 non-null object\n",
      "Loan Status                  215248 non-null object\n",
      "Term                         215248 non-null object\n",
      "Years in current job         215248 non-null category\n",
      "Home Ownership               215248 non-null object\n",
      "Purpose                      215248 non-null object\n",
      "Monthly Debt                 215248 non-null float64\n",
      "Maximum Open Credit          215248 non-null float64\n",
      "Current Loan Amount          215248 non-null int64\n",
      "Credit Score                 215248 non-null float64\n",
      "Annual Income                215248 non-null float64\n",
      "Years of Credit History      215248 non-null float64\n",
      "Number of Open Accounts      215248 non-null int64\n",
      "Number of Credit Problems    215248 non-null int64\n",
      "Current Credit Balance       215248 non-null int64\n",
      "Bankruptcies                 215248 non-null float64\n",
      "Tax Liens                    215248 non-null float64\n",
      "Loan Status1                 215248 non-null int64\n",
      "Term1                        215248 non-null int8\n",
      "dtypes: category(1), float64(7), int64(5), int8(1), object(6)\n",
      "memory usage: 31.6+ MB\n"
     ]
    }
   ],
   "source": [
    "dfa.info()"
   ]
  },
  {
   "cell_type": "markdown",
   "metadata": {},
   "source": [
    "**double check that our data is cleaned**"
   ]
  },
  {
   "cell_type": "code",
   "execution_count": 103,
   "metadata": {},
   "outputs": [
    {
     "name": "stdout",
     "output_type": "stream",
     "text": [
      "Total unique Loan Ids:  215248\n",
      "Total unique Customer IDs:  215248\n",
      "Total Entries:  215248\n"
     ]
    }
   ],
   "source": [
    "print(\"Total unique Loan Ids: \", dfa['Loan ID'].nunique())\n",
    "print(\"Total unique Customer IDs: \", dfa['Customer ID'].nunique())\n",
    "print('Total Entries: ', len(dfa))"
   ]
  },
  {
   "cell_type": "code",
   "execution_count": 104,
   "metadata": {},
   "outputs": [],
   "source": [
    "dfa['Loan Status']=dfa['Loan Status1']"
   ]
  },
  {
   "cell_type": "code",
   "execution_count": 105,
   "metadata": {},
   "outputs": [],
   "source": [
    "dfa['Term']=dfa['Term1']"
   ]
  },
  {
   "cell_type": "code",
   "execution_count": 106,
   "metadata": {},
   "outputs": [],
   "source": [
    "dfa.drop('Term1', axis=1, inplace=True)"
   ]
  },
  {
   "cell_type": "code",
   "execution_count": 107,
   "metadata": {},
   "outputs": [],
   "source": [
    "#drop loan status1\n",
    "dfa.drop('Loan Status1', axis=1, inplace=True)"
   ]
  },
  {
   "cell_type": "code",
   "execution_count": 108,
   "metadata": {},
   "outputs": [
    {
     "name": "stdout",
     "output_type": "stream",
     "text": [
      "<class 'pandas.core.frame.DataFrame'>\n",
      "Int64Index: 215248 entries, 7 to 215699\n",
      "Data columns (total 18 columns):\n",
      "Loan ID                      215248 non-null object\n",
      "Customer ID                  215248 non-null object\n",
      "Loan Status                  215248 non-null int64\n",
      "Term                         215248 non-null int8\n",
      "Years in current job         215248 non-null category\n",
      "Home Ownership               215248 non-null object\n",
      "Purpose                      215248 non-null object\n",
      "Monthly Debt                 215248 non-null float64\n",
      "Maximum Open Credit          215248 non-null float64\n",
      "Current Loan Amount          215248 non-null int64\n",
      "Credit Score                 215248 non-null float64\n",
      "Annual Income                215248 non-null float64\n",
      "Years of Credit History      215248 non-null float64\n",
      "Number of Open Accounts      215248 non-null int64\n",
      "Number of Credit Problems    215248 non-null int64\n",
      "Current Credit Balance       215248 non-null int64\n",
      "Bankruptcies                 215248 non-null float64\n",
      "Tax Liens                    215248 non-null float64\n",
      "dtypes: category(1), float64(7), int64(5), int8(1), object(4)\n",
      "memory usage: 28.3+ MB\n"
     ]
    }
   ],
   "source": [
    "dfa.info()"
   ]
  },
  {
   "cell_type": "markdown",
   "metadata": {},
   "source": [
    "# Feature Engineering "
   ]
  },
  {
   "cell_type": "code",
   "execution_count": 109,
   "metadata": {},
   "outputs": [],
   "source": [
    "import seaborn as sns"
   ]
  },
  {
   "cell_type": "raw",
   "metadata": {},
   "source": [
    "dfa['Loan Status']=dfa['Loan Status'].map(lambda x: 1 if x=='Fully Paid' else 0)"
   ]
  },
  {
   "cell_type": "markdown",
   "metadata": {},
   "source": [
    "**Creating new features to lower dimensions**"
   ]
  },
  {
   "cell_type": "markdown",
   "metadata": {},
   "source": [
    "### Feature Engineering for Debt to income ratio and ratio loan paid"
   ]
  },
  {
   "cell_type": "code",
   "execution_count": 110,
   "metadata": {},
   "outputs": [],
   "source": [
    "dfa['debt_to_income']=(dfa['Monthly Debt']+1)/(\n",
    "(dfa['Annual Income']+1)/12)\n",
    "\n",
    "dfa['Ratio_loan_paid']=(dfa['Current Loan Amount']+1)/(\n",
    "dfa['Current Credit Balance']+1)"
   ]
  },
  {
   "cell_type": "code",
   "execution_count": 111,
   "metadata": {},
   "outputs": [
    {
     "data": {
      "text/html": [
       "<div>\n",
       "<style scoped>\n",
       "    .dataframe tbody tr th:only-of-type {\n",
       "        vertical-align: middle;\n",
       "    }\n",
       "\n",
       "    .dataframe tbody tr th {\n",
       "        vertical-align: top;\n",
       "    }\n",
       "\n",
       "    .dataframe thead th {\n",
       "        text-align: right;\n",
       "    }\n",
       "</style>\n",
       "<table border=\"1\" class=\"dataframe\">\n",
       "  <thead>\n",
       "    <tr style=\"text-align: right;\">\n",
       "      <th></th>\n",
       "      <th>Loan ID</th>\n",
       "      <th>Customer ID</th>\n",
       "      <th>Loan Status</th>\n",
       "      <th>Term</th>\n",
       "      <th>Years in current job</th>\n",
       "      <th>Home Ownership</th>\n",
       "      <th>Purpose</th>\n",
       "      <th>Monthly Debt</th>\n",
       "      <th>Maximum Open Credit</th>\n",
       "      <th>Current Loan Amount</th>\n",
       "      <th>Credit Score</th>\n",
       "      <th>Annual Income</th>\n",
       "      <th>Years of Credit History</th>\n",
       "      <th>Number of Open Accounts</th>\n",
       "      <th>Number of Credit Problems</th>\n",
       "      <th>Current Credit Balance</th>\n",
       "      <th>Bankruptcies</th>\n",
       "      <th>Tax Liens</th>\n",
       "      <th>debt_to_income</th>\n",
       "      <th>Ratio_loan_paid</th>\n",
       "    </tr>\n",
       "  </thead>\n",
       "  <tbody>\n",
       "    <tr>\n",
       "      <th>7</th>\n",
       "      <td>00011dfc-31c1-4178-932a-fbeb3f341efb</td>\n",
       "      <td>ef6e098c-6c83-4752-8d00-ff793e476b8c</td>\n",
       "      <td>1</td>\n",
       "      <td>1</td>\n",
       "      <td>5</td>\n",
       "      <td>Rent</td>\n",
       "      <td>Debt Consolidation</td>\n",
       "      <td>386.36</td>\n",
       "      <td>16579.0</td>\n",
       "      <td>10036</td>\n",
       "      <td>740.0</td>\n",
       "      <td>62112.0</td>\n",
       "      <td>17.7</td>\n",
       "      <td>7</td>\n",
       "      <td>0</td>\n",
       "      <td>11970</td>\n",
       "      <td>0.0</td>\n",
       "      <td>0.0</td>\n",
       "      <td>0.074837</td>\n",
       "      <td>0.838443</td>\n",
       "    </tr>\n",
       "    <tr>\n",
       "      <th>16</th>\n",
       "      <td>0003b749-307f-4830-9fb4-9db7ed1b1c48</td>\n",
       "      <td>998dc43c-f9ce-466e-bdaa-7057b0bbb9cd</td>\n",
       "      <td>1</td>\n",
       "      <td>1</td>\n",
       "      <td>3</td>\n",
       "      <td>Home Mortgage</td>\n",
       "      <td>Debt Consolidation</td>\n",
       "      <td>439.56</td>\n",
       "      <td>15866.0</td>\n",
       "      <td>7228</td>\n",
       "      <td>719.0</td>\n",
       "      <td>62112.0</td>\n",
       "      <td>17.8</td>\n",
       "      <td>13</td>\n",
       "      <td>1</td>\n",
       "      <td>8488</td>\n",
       "      <td>1.0</td>\n",
       "      <td>0.0</td>\n",
       "      <td>0.085115</td>\n",
       "      <td>0.851573</td>\n",
       "    </tr>\n",
       "  </tbody>\n",
       "</table>\n",
       "</div>"
      ],
      "text/plain": [
       "                                 Loan ID  \\\n",
       "7   00011dfc-31c1-4178-932a-fbeb3f341efb   \n",
       "16  0003b749-307f-4830-9fb4-9db7ed1b1c48   \n",
       "\n",
       "                             Customer ID  Loan Status  Term  \\\n",
       "7   ef6e098c-6c83-4752-8d00-ff793e476b8c            1     1   \n",
       "16  998dc43c-f9ce-466e-bdaa-7057b0bbb9cd            1     1   \n",
       "\n",
       "   Years in current job Home Ownership             Purpose  Monthly Debt  \\\n",
       "7                     5           Rent  Debt Consolidation        386.36   \n",
       "16                    3  Home Mortgage  Debt Consolidation        439.56   \n",
       "\n",
       "    Maximum Open Credit  Current Loan Amount  Credit Score  Annual Income  \\\n",
       "7               16579.0                10036         740.0        62112.0   \n",
       "16              15866.0                 7228         719.0        62112.0   \n",
       "\n",
       "    Years of Credit History  Number of Open Accounts  \\\n",
       "7                      17.7                        7   \n",
       "16                     17.8                       13   \n",
       "\n",
       "    Number of Credit Problems  Current Credit Balance  Bankruptcies  \\\n",
       "7                           0                   11970           0.0   \n",
       "16                          1                    8488           1.0   \n",
       "\n",
       "    Tax Liens  debt_to_income  Ratio_loan_paid  \n",
       "7         0.0        0.074837         0.838443  \n",
       "16        0.0        0.085115         0.851573  "
      ]
     },
     "execution_count": 111,
     "metadata": {},
     "output_type": "execute_result"
    }
   ],
   "source": [
    "dfa.head(2)"
   ]
  },
  {
   "cell_type": "code",
   "execution_count": 112,
   "metadata": {},
   "outputs": [],
   "source": [
    "# import our algorithms\n",
    "from sklearn.linear_model import LogisticRegression\n",
    "from sklearn.ensemble import RandomForestClassifier, GradientBoostingClassifier\n",
    "from sklearn.tree import DecisionTreeClassifier\n",
    "from sklearn.naive_bayes import GaussianNB\n",
    "from sklearn.metrics import accuracy_score, roc_auc_score,recall_score, precision_score, confusion_matrix"
   ]
  },
  {
   "cell_type": "code",
   "execution_count": null,
   "metadata": {},
   "outputs": [],
   "source": []
  },
  {
   "cell_type": "code",
   "execution_count": 113,
   "metadata": {
    "scrolled": true
   },
   "outputs": [
    {
     "name": "stdout",
     "output_type": "stream",
     "text": [
      "<class 'pandas.core.frame.DataFrame'>\n",
      "Int64Index: 215248 entries, 7 to 215699\n",
      "Data columns (total 18 columns):\n",
      "Loan Status                  215248 non-null int64\n",
      "Term                         215248 non-null int8\n",
      "Years in current job         215248 non-null category\n",
      "Home Ownership               215248 non-null object\n",
      "Purpose                      215248 non-null object\n",
      "Monthly Debt                 215248 non-null float64\n",
      "Maximum Open Credit          215248 non-null float64\n",
      "Current Loan Amount          215248 non-null int64\n",
      "Credit Score                 215248 non-null float64\n",
      "Annual Income                215248 non-null float64\n",
      "Years of Credit History      215248 non-null float64\n",
      "Number of Open Accounts      215248 non-null int64\n",
      "Number of Credit Problems    215248 non-null int64\n",
      "Current Credit Balance       215248 non-null int64\n",
      "Bankruptcies                 215248 non-null float64\n",
      "Tax Liens                    215248 non-null float64\n",
      "debt_to_income               215248 non-null float64\n",
      "Ratio_loan_paid              215248 non-null float64\n",
      "dtypes: category(1), float64(9), int64(5), int8(1), object(2)\n",
      "memory usage: 28.3+ MB\n"
     ]
    }
   ],
   "source": [
    "x=dfa.drop(['Loan ID','Customer ID'],axis=1)\n",
    "x.info()"
   ]
  },
  {
   "cell_type": "code",
   "execution_count": 114,
   "metadata": {},
   "outputs": [
    {
     "data": {
      "text/html": [
       "<div>\n",
       "<style scoped>\n",
       "    .dataframe tbody tr th:only-of-type {\n",
       "        vertical-align: middle;\n",
       "    }\n",
       "\n",
       "    .dataframe tbody tr th {\n",
       "        vertical-align: top;\n",
       "    }\n",
       "\n",
       "    .dataframe thead th {\n",
       "        text-align: right;\n",
       "    }\n",
       "</style>\n",
       "<table border=\"1\" class=\"dataframe\">\n",
       "  <thead>\n",
       "    <tr style=\"text-align: right;\">\n",
       "      <th></th>\n",
       "      <th>Loan Status</th>\n",
       "      <th>Term</th>\n",
       "      <th>Years in current job</th>\n",
       "      <th>Home Ownership</th>\n",
       "      <th>Purpose</th>\n",
       "      <th>Monthly Debt</th>\n",
       "      <th>Maximum Open Credit</th>\n",
       "      <th>Current Loan Amount</th>\n",
       "      <th>Credit Score</th>\n",
       "      <th>Annual Income</th>\n",
       "      <th>Years of Credit History</th>\n",
       "      <th>Number of Open Accounts</th>\n",
       "      <th>Number of Credit Problems</th>\n",
       "      <th>Current Credit Balance</th>\n",
       "      <th>Bankruptcies</th>\n",
       "      <th>Tax Liens</th>\n",
       "      <th>debt_to_income</th>\n",
       "      <th>Ratio_loan_paid</th>\n",
       "    </tr>\n",
       "  </thead>\n",
       "  <tbody>\n",
       "    <tr>\n",
       "      <th>7</th>\n",
       "      <td>1</td>\n",
       "      <td>1</td>\n",
       "      <td>5</td>\n",
       "      <td>Rent</td>\n",
       "      <td>Debt Consolidation</td>\n",
       "      <td>386.36</td>\n",
       "      <td>16579.0</td>\n",
       "      <td>10036</td>\n",
       "      <td>740.0</td>\n",
       "      <td>62112.0</td>\n",
       "      <td>17.7</td>\n",
       "      <td>7</td>\n",
       "      <td>0</td>\n",
       "      <td>11970</td>\n",
       "      <td>0.0</td>\n",
       "      <td>0.0</td>\n",
       "      <td>0.074837</td>\n",
       "      <td>0.838443</td>\n",
       "    </tr>\n",
       "    <tr>\n",
       "      <th>16</th>\n",
       "      <td>1</td>\n",
       "      <td>1</td>\n",
       "      <td>3</td>\n",
       "      <td>Home Mortgage</td>\n",
       "      <td>Debt Consolidation</td>\n",
       "      <td>439.56</td>\n",
       "      <td>15866.0</td>\n",
       "      <td>7228</td>\n",
       "      <td>719.0</td>\n",
       "      <td>62112.0</td>\n",
       "      <td>17.8</td>\n",
       "      <td>13</td>\n",
       "      <td>1</td>\n",
       "      <td>8488</td>\n",
       "      <td>1.0</td>\n",
       "      <td>0.0</td>\n",
       "      <td>0.085115</td>\n",
       "      <td>0.851573</td>\n",
       "    </tr>\n",
       "    <tr>\n",
       "      <th>20</th>\n",
       "      <td>1</td>\n",
       "      <td>1</td>\n",
       "      <td>10</td>\n",
       "      <td>Rent</td>\n",
       "      <td>Debt Consolidation</td>\n",
       "      <td>262.27</td>\n",
       "      <td>9330.0</td>\n",
       "      <td>4612</td>\n",
       "      <td>750.0</td>\n",
       "      <td>62112.0</td>\n",
       "      <td>14.0</td>\n",
       "      <td>4</td>\n",
       "      <td>0</td>\n",
       "      <td>8919</td>\n",
       "      <td>0.0</td>\n",
       "      <td>0.0</td>\n",
       "      <td>0.050863</td>\n",
       "      <td>0.517152</td>\n",
       "    </tr>\n",
       "    <tr>\n",
       "      <th>30</th>\n",
       "      <td>1</td>\n",
       "      <td>1</td>\n",
       "      <td>0</td>\n",
       "      <td>Home Mortgage</td>\n",
       "      <td>Debt Consolidation</td>\n",
       "      <td>206.97</td>\n",
       "      <td>13975.0</td>\n",
       "      <td>6114</td>\n",
       "      <td>728.0</td>\n",
       "      <td>62112.0</td>\n",
       "      <td>17.8</td>\n",
       "      <td>8</td>\n",
       "      <td>1</td>\n",
       "      <td>5772</td>\n",
       "      <td>1.0</td>\n",
       "      <td>0.0</td>\n",
       "      <td>0.040179</td>\n",
       "      <td>1.059241</td>\n",
       "    </tr>\n",
       "    <tr>\n",
       "      <th>46</th>\n",
       "      <td>1</td>\n",
       "      <td>1</td>\n",
       "      <td>0</td>\n",
       "      <td>Own Home</td>\n",
       "      <td>Other</td>\n",
       "      <td>425.68</td>\n",
       "      <td>6850.0</td>\n",
       "      <td>7068</td>\n",
       "      <td>699.0</td>\n",
       "      <td>62112.0</td>\n",
       "      <td>21.3</td>\n",
       "      <td>7</td>\n",
       "      <td>1</td>\n",
       "      <td>4178</td>\n",
       "      <td>1.0</td>\n",
       "      <td>0.0</td>\n",
       "      <td>0.082433</td>\n",
       "      <td>1.691553</td>\n",
       "    </tr>\n",
       "  </tbody>\n",
       "</table>\n",
       "</div>"
      ],
      "text/plain": [
       "    Loan Status  Term Years in current job Home Ownership             Purpose  \\\n",
       "7             1     1                    5           Rent  Debt Consolidation   \n",
       "16            1     1                    3  Home Mortgage  Debt Consolidation   \n",
       "20            1     1                   10           Rent  Debt Consolidation   \n",
       "30            1     1                    0  Home Mortgage  Debt Consolidation   \n",
       "46            1     1                    0       Own Home               Other   \n",
       "\n",
       "    Monthly Debt  Maximum Open Credit  Current Loan Amount  Credit Score  \\\n",
       "7         386.36              16579.0                10036         740.0   \n",
       "16        439.56              15866.0                 7228         719.0   \n",
       "20        262.27               9330.0                 4612         750.0   \n",
       "30        206.97              13975.0                 6114         728.0   \n",
       "46        425.68               6850.0                 7068         699.0   \n",
       "\n",
       "    Annual Income  Years of Credit History  Number of Open Accounts  \\\n",
       "7         62112.0                     17.7                        7   \n",
       "16        62112.0                     17.8                       13   \n",
       "20        62112.0                     14.0                        4   \n",
       "30        62112.0                     17.8                        8   \n",
       "46        62112.0                     21.3                        7   \n",
       "\n",
       "    Number of Credit Problems  Current Credit Balance  Bankruptcies  \\\n",
       "7                           0                   11970           0.0   \n",
       "16                          1                    8488           1.0   \n",
       "20                          0                    8919           0.0   \n",
       "30                          1                    5772           1.0   \n",
       "46                          1                    4178           1.0   \n",
       "\n",
       "    Tax Liens  debt_to_income  Ratio_loan_paid  \n",
       "7         0.0        0.074837         0.838443  \n",
       "16        0.0        0.085115         0.851573  \n",
       "20        0.0        0.050863         0.517152  \n",
       "30        0.0        0.040179         1.059241  \n",
       "46        0.0        0.082433         1.691553  "
      ]
     },
     "execution_count": 114,
     "metadata": {},
     "output_type": "execute_result"
    }
   ],
   "source": [
    "x.head()"
   ]
  },
  {
   "cell_type": "raw",
   "metadata": {},
   "source": [
    "s()"
   ]
  },
  {
   "cell_type": "code",
   "execution_count": 115,
   "metadata": {},
   "outputs": [],
   "source": [
    "X1=pd.get_dummies(x, drop_first=True)"
   ]
  },
  {
   "cell_type": "code",
   "execution_count": 116,
   "metadata": {},
   "outputs": [],
   "source": [
    "y1=X1[['Loan Status']]\n",
    "x1=X1.drop('Loan Status', axis= 1)"
   ]
  },
  {
   "cell_type": "code",
   "execution_count": 117,
   "metadata": {},
   "outputs": [],
   "source": [
    "#split the data into 70% training data and 30% testing data with seed(0)\n",
    "from sklearn.model_selection import train_test_split\n",
    "X_train, X_test, y_train, y_test= train_test_split(x1,y1, train_size=0.8, random_state=10)"
   ]
  },
  {
   "cell_type": "code",
   "execution_count": 118,
   "metadata": {},
   "outputs": [
    {
     "name": "stdout",
     "output_type": "stream",
     "text": [
      "(172198, 34) (43050, 34) (172198, 1) (43050, 1)\n"
     ]
    }
   ],
   "source": [
    "print(X_train.shape, X_test.shape, y_train.shape, y_test.shape)"
   ]
  },
  {
   "cell_type": "code",
   "execution_count": 119,
   "metadata": {},
   "outputs": [
    {
     "name": "stderr",
     "output_type": "stream",
     "text": [
      "/Users/andreafung/anaconda3/envs/jpy_37/lib/python3.7/site-packages/sklearn/utils/validation.py:761: DataConversionWarning: A column-vector y was passed when a 1d array was expected. Please change the shape of y to (n_samples, ), for example using ravel().\n",
      "  y = column_or_1d(y, warn=True)\n"
     ]
    },
    {
     "name": "stdout",
     "output_type": "stream",
     "text": [
      "0.8170034843205575\n"
     ]
    }
   ],
   "source": [
    "#sklearn Logistic Regression\n",
    "reg= LogisticRegression()\n",
    "logmodel= reg.fit(X_train, y_train)\n",
    "\n",
    "#make predictions and determine accuracy score\n",
    "y_predlog= logmodel.predict(X_test)\n",
    "acclog= accuracy_score(y_predlog, y_test)\n",
    "print(acclog)"
   ]
  },
  {
   "cell_type": "code",
   "execution_count": 120,
   "metadata": {},
   "outputs": [],
   "source": [
    "gbc=GradientBoostingClassifier()"
   ]
  },
  {
   "cell_type": "code",
   "execution_count": 121,
   "metadata": {},
   "outputs": [
    {
     "name": "stderr",
     "output_type": "stream",
     "text": [
      "/Users/andreafung/anaconda3/envs/jpy_37/lib/python3.7/site-packages/sklearn/utils/validation.py:761: DataConversionWarning: A column-vector y was passed when a 1d array was expected. Please change the shape of y to (n_samples, ), for example using ravel().\n",
      "  y = column_or_1d(y, warn=True)\n"
     ]
    },
    {
     "data": {
      "text/plain": [
       "GradientBoostingClassifier(criterion='friedman_mse', init=None,\n",
       "              learning_rate=0.1, loss='deviance', max_depth=3,\n",
       "              max_features=None, max_leaf_nodes=None,\n",
       "              min_impurity_decrease=0.0, min_impurity_split=None,\n",
       "              min_samples_leaf=1, min_samples_split=2,\n",
       "              min_weight_fraction_leaf=0.0, n_estimators=100,\n",
       "              n_iter_no_change=None, presort='auto', random_state=None,\n",
       "              subsample=1.0, tol=0.0001, validation_fraction=0.1,\n",
       "              verbose=0, warm_start=False)"
      ]
     },
     "execution_count": 121,
     "metadata": {},
     "output_type": "execute_result"
    }
   ],
   "source": [
    "gbc.fit(X_train, y_train)"
   ]
  },
  {
   "cell_type": "code",
   "execution_count": 122,
   "metadata": {},
   "outputs": [
    {
     "name": "stdout",
     "output_type": "stream",
     "text": [
      "0.8240418118466899\n"
     ]
    }
   ],
   "source": [
    "y_predgbc= gbc.predict(X_test)\n",
    "acclog= accuracy_score(y_predgbc, y_test)\n",
    "print(acclog)"
   ]
  },
  {
   "cell_type": "code",
   "execution_count": 123,
   "metadata": {},
   "outputs": [
    {
     "name": "stdout",
     "output_type": "stream",
     "text": [
      "0.9761173660866599\n"
     ]
    }
   ],
   "source": [
    "preclog=precision_score(y_predgbc, y_test)\n",
    "print(preclog)"
   ]
  },
  {
   "cell_type": "code",
   "execution_count": 124,
   "metadata": {},
   "outputs": [
    {
     "data": {
      "text/plain": [
       "array([[ 1143,  6735],\n",
       "       [  840, 34332]])"
      ]
     },
     "execution_count": 124,
     "metadata": {},
     "output_type": "execute_result"
    }
   ],
   "source": [
    "confm=confusion_matrix(y_test, y_predgbc)\n",
    "confm"
   ]
  },
  {
   "cell_type": "code",
   "execution_count": 125,
   "metadata": {},
   "outputs": [
    {
     "name": "stdout",
     "output_type": "stream",
     "text": [
      "0.9761173660866599\n"
     ]
    }
   ],
   "source": [
    "rec_log=recall_score(y_test, y_predgbc)\n",
    "print(rec_log)"
   ]
  },
  {
   "cell_type": "code",
   "execution_count": 126,
   "metadata": {},
   "outputs": [],
   "source": [
    "from sklearn.datasets import make_classification\n",
    "from sklearn.tree import DecisionTreeClassifier"
   ]
  },
  {
   "cell_type": "code",
   "execution_count": 127,
   "metadata": {},
   "outputs": [
    {
     "data": {
      "text/plain": [
       "array([1.03455003e-01, 6.14090444e-04, 1.08670661e-02, 2.79709466e-01,\n",
       "       1.27021499e-01, 4.22555971e-01, 3.44149824e-03, 1.36299698e-03,\n",
       "       2.70516041e-04, 4.41329227e-03, 1.70398185e-04, 3.06145110e-04,\n",
       "       2.49341971e-02, 1.12009581e-02, 9.85802919e-05, 4.32444639e-04,\n",
       "       2.49316827e-04, 0.00000000e+00, 0.00000000e+00, 0.00000000e+00,\n",
       "       0.00000000e+00, 0.00000000e+00, 0.00000000e+00, 0.00000000e+00,\n",
       "       0.00000000e+00, 8.21190724e-03, 0.00000000e+00, 6.94870670e-05,\n",
       "       6.15165725e-04, 0.00000000e+00, 0.00000000e+00, 0.00000000e+00,\n",
       "       0.00000000e+00, 0.00000000e+00])"
      ]
     },
     "execution_count": 127,
     "metadata": {},
     "output_type": "execute_result"
    }
   ],
   "source": [
    "gbc.feature_importances_"
   ]
  },
  {
   "cell_type": "code",
   "execution_count": 128,
   "metadata": {},
   "outputs": [
    {
     "data": {
      "text/plain": [
       "Index(['Term', 'Monthly Debt', 'Maximum Open Credit', 'Current Loan Amount',\n",
       "       'Credit Score', 'Annual Income', 'Years of Credit History',\n",
       "       'Number of Open Accounts', 'Number of Credit Problems',\n",
       "       'Current Credit Balance', 'Bankruptcies', 'Tax Liens', 'debt_to_income',\n",
       "       'Ratio_loan_paid', 'Years in current job_1', 'Years in current job_10',\n",
       "       'Years in current job_2', 'Years in current job_3',\n",
       "       'Years in current job_4', 'Years in current job_5',\n",
       "       'Years in current job_6', 'Years in current job_7',\n",
       "       'Years in current job_8', 'Years in current job_9',\n",
       "       'Home Ownership_Own Home', 'Home Ownership_Rent', 'Purpose_Buy House',\n",
       "       'Purpose_Buy a Car', 'Purpose_Debt Consolidation',\n",
       "       'Purpose_Educational Expenses', 'Purpose_Home Improvements',\n",
       "       'Purpose_Medical Bills', 'Purpose_Other', 'Purpose_Take a Trip'],\n",
       "      dtype='object')"
      ]
     },
     "execution_count": 128,
     "metadata": {},
     "output_type": "execute_result"
    }
   ],
   "source": [
    "X_train.columns"
   ]
  },
  {
   "cell_type": "code",
   "execution_count": 129,
   "metadata": {},
   "outputs": [],
   "source": [
    "dfb=pd.DataFrame(X_train.columns, gbc.feature_importances_)\n",
    "dfb.columns=['variable']\n",
    "dfb2=dfb.sort_index(ascending=False)"
   ]
  },
  {
   "cell_type": "code",
   "execution_count": 130,
   "metadata": {},
   "outputs": [
    {
     "data": {
      "text/html": [
       "<div>\n",
       "<style scoped>\n",
       "    .dataframe tbody tr th:only-of-type {\n",
       "        vertical-align: middle;\n",
       "    }\n",
       "\n",
       "    .dataframe tbody tr th {\n",
       "        vertical-align: top;\n",
       "    }\n",
       "\n",
       "    .dataframe thead th {\n",
       "        text-align: right;\n",
       "    }\n",
       "</style>\n",
       "<table border=\"1\" class=\"dataframe\">\n",
       "  <thead>\n",
       "    <tr style=\"text-align: right;\">\n",
       "      <th></th>\n",
       "      <th>variable</th>\n",
       "    </tr>\n",
       "  </thead>\n",
       "  <tbody>\n",
       "    <tr>\n",
       "      <th>0.422556</th>\n",
       "      <td>Annual Income</td>\n",
       "    </tr>\n",
       "    <tr>\n",
       "      <th>0.279709</th>\n",
       "      <td>Current Loan Amount</td>\n",
       "    </tr>\n",
       "    <tr>\n",
       "      <th>0.127021</th>\n",
       "      <td>Credit Score</td>\n",
       "    </tr>\n",
       "    <tr>\n",
       "      <th>0.103455</th>\n",
       "      <td>Term</td>\n",
       "    </tr>\n",
       "    <tr>\n",
       "      <th>0.024934</th>\n",
       "      <td>debt_to_income</td>\n",
       "    </tr>\n",
       "  </tbody>\n",
       "</table>\n",
       "</div>"
      ],
      "text/plain": [
       "                     variable\n",
       "0.422556        Annual Income\n",
       "0.279709  Current Loan Amount\n",
       "0.127021         Credit Score\n",
       "0.103455                 Term\n",
       "0.024934       debt_to_income"
      ]
     },
     "execution_count": 130,
     "metadata": {},
     "output_type": "execute_result"
    }
   ],
   "source": [
    "dfb2.head()"
   ]
  },
  {
   "cell_type": "markdown",
   "metadata": {},
   "source": [
    "## creating inputoutput questions for institution"
   ]
  },
  {
   "cell_type": "code",
   "execution_count": 131,
   "metadata": {},
   "outputs": [
    {
     "name": "stdout",
     "output_type": "stream",
     "text": [
      "<class 'pandas.core.frame.DataFrame'>\n",
      "Int64Index: 215248 entries, 7 to 215699\n",
      "Data columns (total 20 columns):\n",
      "Loan ID                      215248 non-null object\n",
      "Customer ID                  215248 non-null object\n",
      "Loan Status                  215248 non-null int64\n",
      "Term                         215248 non-null int8\n",
      "Years in current job         215248 non-null category\n",
      "Home Ownership               215248 non-null object\n",
      "Purpose                      215248 non-null object\n",
      "Monthly Debt                 215248 non-null float64\n",
      "Maximum Open Credit          215248 non-null float64\n",
      "Current Loan Amount          215248 non-null int64\n",
      "Credit Score                 215248 non-null float64\n",
      "Annual Income                215248 non-null float64\n",
      "Years of Credit History      215248 non-null float64\n",
      "Number of Open Accounts      215248 non-null int64\n",
      "Number of Credit Problems    215248 non-null int64\n",
      "Current Credit Balance       215248 non-null int64\n",
      "Bankruptcies                 215248 non-null float64\n",
      "Tax Liens                    215248 non-null float64\n",
      "debt_to_income               215248 non-null float64\n",
      "Ratio_loan_paid              215248 non-null float64\n",
      "dtypes: category(1), float64(9), int64(5), int8(1), object(4)\n",
      "memory usage: 31.6+ MB\n"
     ]
    }
   ],
   "source": [
    "dfa.info()"
   ]
  },
  {
   "cell_type": "code",
   "execution_count": 132,
   "metadata": {},
   "outputs": [],
   "source": [
    "ten_df=dfa.copy()"
   ]
  },
  {
   "cell_type": "code",
   "execution_count": 133,
   "metadata": {},
   "outputs": [],
   "source": [
    "df10=ten_df[['Annual Income', 'Current Loan Amount', \n",
    "        'Credit Score','Term',\n",
    "        'debt_to_income','Ratio_loan_paid',\n",
    "        'Maximum Open Credit','Home Ownership',\n",
    "        'Current Credit Balance','Years of Credit History',\n",
    "        'Monthly Debt','Loan Status'\n",
    "       ]]"
   ]
  },
  {
   "cell_type": "code",
   "execution_count": 134,
   "metadata": {},
   "outputs": [
    {
     "data": {
      "text/html": [
       "<div>\n",
       "<style scoped>\n",
       "    .dataframe tbody tr th:only-of-type {\n",
       "        vertical-align: middle;\n",
       "    }\n",
       "\n",
       "    .dataframe tbody tr th {\n",
       "        vertical-align: top;\n",
       "    }\n",
       "\n",
       "    .dataframe thead th {\n",
       "        text-align: right;\n",
       "    }\n",
       "</style>\n",
       "<table border=\"1\" class=\"dataframe\">\n",
       "  <thead>\n",
       "    <tr style=\"text-align: right;\">\n",
       "      <th></th>\n",
       "      <th>Annual Income</th>\n",
       "      <th>Current Loan Amount</th>\n",
       "      <th>Credit Score</th>\n",
       "      <th>Term</th>\n",
       "      <th>debt_to_income</th>\n",
       "      <th>Ratio_loan_paid</th>\n",
       "      <th>Maximum Open Credit</th>\n",
       "      <th>Home Ownership</th>\n",
       "      <th>Current Credit Balance</th>\n",
       "      <th>Years of Credit History</th>\n",
       "      <th>Monthly Debt</th>\n",
       "      <th>Loan Status</th>\n",
       "    </tr>\n",
       "  </thead>\n",
       "  <tbody>\n",
       "    <tr>\n",
       "      <th>7</th>\n",
       "      <td>62112.0</td>\n",
       "      <td>10036</td>\n",
       "      <td>740.0</td>\n",
       "      <td>1</td>\n",
       "      <td>0.074837</td>\n",
       "      <td>0.838443</td>\n",
       "      <td>16579.0</td>\n",
       "      <td>Rent</td>\n",
       "      <td>11970</td>\n",
       "      <td>17.7</td>\n",
       "      <td>386.36</td>\n",
       "      <td>1</td>\n",
       "    </tr>\n",
       "    <tr>\n",
       "      <th>16</th>\n",
       "      <td>62112.0</td>\n",
       "      <td>7228</td>\n",
       "      <td>719.0</td>\n",
       "      <td>1</td>\n",
       "      <td>0.085115</td>\n",
       "      <td>0.851573</td>\n",
       "      <td>15866.0</td>\n",
       "      <td>Home Mortgage</td>\n",
       "      <td>8488</td>\n",
       "      <td>17.8</td>\n",
       "      <td>439.56</td>\n",
       "      <td>1</td>\n",
       "    </tr>\n",
       "    <tr>\n",
       "      <th>20</th>\n",
       "      <td>62112.0</td>\n",
       "      <td>4612</td>\n",
       "      <td>750.0</td>\n",
       "      <td>1</td>\n",
       "      <td>0.050863</td>\n",
       "      <td>0.517152</td>\n",
       "      <td>9330.0</td>\n",
       "      <td>Rent</td>\n",
       "      <td>8919</td>\n",
       "      <td>14.0</td>\n",
       "      <td>262.27</td>\n",
       "      <td>1</td>\n",
       "    </tr>\n",
       "    <tr>\n",
       "      <th>30</th>\n",
       "      <td>62112.0</td>\n",
       "      <td>6114</td>\n",
       "      <td>728.0</td>\n",
       "      <td>1</td>\n",
       "      <td>0.040179</td>\n",
       "      <td>1.059241</td>\n",
       "      <td>13975.0</td>\n",
       "      <td>Home Mortgage</td>\n",
       "      <td>5772</td>\n",
       "      <td>17.8</td>\n",
       "      <td>206.97</td>\n",
       "      <td>1</td>\n",
       "    </tr>\n",
       "    <tr>\n",
       "      <th>46</th>\n",
       "      <td>62112.0</td>\n",
       "      <td>7068</td>\n",
       "      <td>699.0</td>\n",
       "      <td>1</td>\n",
       "      <td>0.082433</td>\n",
       "      <td>1.691553</td>\n",
       "      <td>6850.0</td>\n",
       "      <td>Own Home</td>\n",
       "      <td>4178</td>\n",
       "      <td>21.3</td>\n",
       "      <td>425.68</td>\n",
       "      <td>1</td>\n",
       "    </tr>\n",
       "    <tr>\n",
       "      <th>56</th>\n",
       "      <td>62112.0</td>\n",
       "      <td>21075</td>\n",
       "      <td>658.0</td>\n",
       "      <td>1</td>\n",
       "      <td>0.426023</td>\n",
       "      <td>0.997161</td>\n",
       "      <td>34366.0</td>\n",
       "      <td>Rent</td>\n",
       "      <td>21135</td>\n",
       "      <td>18.0</td>\n",
       "      <td>2204.13</td>\n",
       "      <td>1</td>\n",
       "    </tr>\n",
       "    <tr>\n",
       "      <th>63</th>\n",
       "      <td>62112.0</td>\n",
       "      <td>2355</td>\n",
       "      <td>723.0</td>\n",
       "      <td>1</td>\n",
       "      <td>0.187281</td>\n",
       "      <td>0.352536</td>\n",
       "      <td>9319.0</td>\n",
       "      <td>Home Mortgage</td>\n",
       "      <td>6682</td>\n",
       "      <td>17.1</td>\n",
       "      <td>968.38</td>\n",
       "      <td>1</td>\n",
       "    </tr>\n",
       "    <tr>\n",
       "      <th>67</th>\n",
       "      <td>62112.0</td>\n",
       "      <td>6288</td>\n",
       "      <td>719.0</td>\n",
       "      <td>1</td>\n",
       "      <td>0.107332</td>\n",
       "      <td>1.771050</td>\n",
       "      <td>4025.0</td>\n",
       "      <td>Rent</td>\n",
       "      <td>3550</td>\n",
       "      <td>7.8</td>\n",
       "      <td>554.56</td>\n",
       "      <td>1</td>\n",
       "    </tr>\n",
       "    <tr>\n",
       "      <th>85</th>\n",
       "      <td>62112.0</td>\n",
       "      <td>10444</td>\n",
       "      <td>709.0</td>\n",
       "      <td>1</td>\n",
       "      <td>0.022480</td>\n",
       "      <td>3.780311</td>\n",
       "      <td>10543.0</td>\n",
       "      <td>Rent</td>\n",
       "      <td>2762</td>\n",
       "      <td>21.4</td>\n",
       "      <td>115.36</td>\n",
       "      <td>1</td>\n",
       "    </tr>\n",
       "    <tr>\n",
       "      <th>90</th>\n",
       "      <td>62112.0</td>\n",
       "      <td>6053</td>\n",
       "      <td>750.0</td>\n",
       "      <td>1</td>\n",
       "      <td>0.207363</td>\n",
       "      <td>11.917323</td>\n",
       "      <td>14497.0</td>\n",
       "      <td>Own Home</td>\n",
       "      <td>507</td>\n",
       "      <td>32.5</td>\n",
       "      <td>1072.33</td>\n",
       "      <td>1</td>\n",
       "    </tr>\n",
       "    <tr>\n",
       "      <th>93</th>\n",
       "      <td>62112.0</td>\n",
       "      <td>5070</td>\n",
       "      <td>700.0</td>\n",
       "      <td>1</td>\n",
       "      <td>0.205814</td>\n",
       "      <td>0.269648</td>\n",
       "      <td>23216.0</td>\n",
       "      <td>Home Mortgage</td>\n",
       "      <td>18805</td>\n",
       "      <td>16.9</td>\n",
       "      <td>1064.31</td>\n",
       "      <td>1</td>\n",
       "    </tr>\n",
       "    <tr>\n",
       "      <th>94</th>\n",
       "      <td>62112.0</td>\n",
       "      <td>10371</td>\n",
       "      <td>718.0</td>\n",
       "      <td>1</td>\n",
       "      <td>0.122697</td>\n",
       "      <td>0.655916</td>\n",
       "      <td>35773.0</td>\n",
       "      <td>Home Mortgage</td>\n",
       "      <td>15812</td>\n",
       "      <td>22.0</td>\n",
       "      <td>634.09</td>\n",
       "      <td>1</td>\n",
       "    </tr>\n",
       "    <tr>\n",
       "      <th>96</th>\n",
       "      <td>62112.0</td>\n",
       "      <td>9978</td>\n",
       "      <td>672.0</td>\n",
       "      <td>1</td>\n",
       "      <td>0.150314</td>\n",
       "      <td>1.574968</td>\n",
       "      <td>19674.0</td>\n",
       "      <td>Rent</td>\n",
       "      <td>6335</td>\n",
       "      <td>19.4</td>\n",
       "      <td>777.04</td>\n",
       "      <td>1</td>\n",
       "    </tr>\n",
       "    <tr>\n",
       "      <th>102</th>\n",
       "      <td>62112.0</td>\n",
       "      <td>14198</td>\n",
       "      <td>716.0</td>\n",
       "      <td>1</td>\n",
       "      <td>0.355332</td>\n",
       "      <td>1.685741</td>\n",
       "      <td>19542.0</td>\n",
       "      <td>Home Mortgage</td>\n",
       "      <td>8422</td>\n",
       "      <td>14.0</td>\n",
       "      <td>1838.23</td>\n",
       "      <td>1</td>\n",
       "    </tr>\n",
       "    <tr>\n",
       "      <th>107</th>\n",
       "      <td>62112.0</td>\n",
       "      <td>11945</td>\n",
       "      <td>731.0</td>\n",
       "      <td>1</td>\n",
       "      <td>0.130641</td>\n",
       "      <td>2.271535</td>\n",
       "      <td>22278.0</td>\n",
       "      <td>Rent</td>\n",
       "      <td>5258</td>\n",
       "      <td>18.6</td>\n",
       "      <td>675.21</td>\n",
       "      <td>0</td>\n",
       "    </tr>\n",
       "    <tr>\n",
       "      <th>111</th>\n",
       "      <td>62112.0</td>\n",
       "      <td>14498</td>\n",
       "      <td>748.0</td>\n",
       "      <td>1</td>\n",
       "      <td>0.188123</td>\n",
       "      <td>0.722458</td>\n",
       "      <td>22524.0</td>\n",
       "      <td>Home Mortgage</td>\n",
       "      <td>20068</td>\n",
       "      <td>16.3</td>\n",
       "      <td>972.74</td>\n",
       "      <td>1</td>\n",
       "    </tr>\n",
       "    <tr>\n",
       "      <th>127</th>\n",
       "      <td>62112.0</td>\n",
       "      <td>6866</td>\n",
       "      <td>736.0</td>\n",
       "      <td>1</td>\n",
       "      <td>0.108493</td>\n",
       "      <td>0.916211</td>\n",
       "      <td>10555.0</td>\n",
       "      <td>Rent</td>\n",
       "      <td>7494</td>\n",
       "      <td>11.5</td>\n",
       "      <td>560.57</td>\n",
       "      <td>1</td>\n",
       "    </tr>\n",
       "    <tr>\n",
       "      <th>129</th>\n",
       "      <td>62112.0</td>\n",
       "      <td>10057</td>\n",
       "      <td>728.0</td>\n",
       "      <td>1</td>\n",
       "      <td>0.210752</td>\n",
       "      <td>0.865875</td>\n",
       "      <td>14234.0</td>\n",
       "      <td>Rent</td>\n",
       "      <td>11615</td>\n",
       "      <td>16.4</td>\n",
       "      <td>1089.87</td>\n",
       "      <td>0</td>\n",
       "    </tr>\n",
       "    <tr>\n",
       "      <th>141</th>\n",
       "      <td>62112.0</td>\n",
       "      <td>16008</td>\n",
       "      <td>627.0</td>\n",
       "      <td>1</td>\n",
       "      <td>0.194452</td>\n",
       "      <td>1.029054</td>\n",
       "      <td>25131.0</td>\n",
       "      <td>Rent</td>\n",
       "      <td>15556</td>\n",
       "      <td>26.3</td>\n",
       "      <td>1005.50</td>\n",
       "      <td>1</td>\n",
       "    </tr>\n",
       "    <tr>\n",
       "      <th>146</th>\n",
       "      <td>62112.0</td>\n",
       "      <td>19688</td>\n",
       "      <td>691.0</td>\n",
       "      <td>1</td>\n",
       "      <td>0.142988</td>\n",
       "      <td>7.782213</td>\n",
       "      <td>23201.0</td>\n",
       "      <td>Home Mortgage</td>\n",
       "      <td>2529</td>\n",
       "      <td>19.0</td>\n",
       "      <td>739.12</td>\n",
       "      <td>1</td>\n",
       "    </tr>\n",
       "    <tr>\n",
       "      <th>148</th>\n",
       "      <td>62112.0</td>\n",
       "      <td>10135</td>\n",
       "      <td>732.0</td>\n",
       "      <td>1</td>\n",
       "      <td>0.310721</td>\n",
       "      <td>0.385634</td>\n",
       "      <td>37547.0</td>\n",
       "      <td>Home Mortgage</td>\n",
       "      <td>26283</td>\n",
       "      <td>40.2</td>\n",
       "      <td>1607.32</td>\n",
       "      <td>1</td>\n",
       "    </tr>\n",
       "    <tr>\n",
       "      <th>151</th>\n",
       "      <td>62112.0</td>\n",
       "      <td>19438</td>\n",
       "      <td>687.0</td>\n",
       "      <td>0</td>\n",
       "      <td>0.073805</td>\n",
       "      <td>1.301225</td>\n",
       "      <td>18128.0</td>\n",
       "      <td>Home Mortgage</td>\n",
       "      <td>14938</td>\n",
       "      <td>27.7</td>\n",
       "      <td>381.02</td>\n",
       "      <td>1</td>\n",
       "    </tr>\n",
       "    <tr>\n",
       "      <th>157</th>\n",
       "      <td>62112.0</td>\n",
       "      <td>1012</td>\n",
       "      <td>727.0</td>\n",
       "      <td>1</td>\n",
       "      <td>0.093905</td>\n",
       "      <td>0.431615</td>\n",
       "      <td>8289.0</td>\n",
       "      <td>Rent</td>\n",
       "      <td>2346</td>\n",
       "      <td>14.3</td>\n",
       "      <td>485.06</td>\n",
       "      <td>1</td>\n",
       "    </tr>\n",
       "    <tr>\n",
       "      <th>158</th>\n",
       "      <td>62112.0</td>\n",
       "      <td>1009</td>\n",
       "      <td>732.0</td>\n",
       "      <td>1</td>\n",
       "      <td>0.021632</td>\n",
       "      <td>1.108672</td>\n",
       "      <td>6232.0</td>\n",
       "      <td>Rent</td>\n",
       "      <td>910</td>\n",
       "      <td>26.7</td>\n",
       "      <td>110.97</td>\n",
       "      <td>1</td>\n",
       "    </tr>\n",
       "    <tr>\n",
       "      <th>160</th>\n",
       "      <td>62112.0</td>\n",
       "      <td>7906</td>\n",
       "      <td>708.0</td>\n",
       "      <td>1</td>\n",
       "      <td>0.145767</td>\n",
       "      <td>0.901905</td>\n",
       "      <td>16115.0</td>\n",
       "      <td>Rent</td>\n",
       "      <td>8766</td>\n",
       "      <td>11.0</td>\n",
       "      <td>753.50</td>\n",
       "      <td>1</td>\n",
       "    </tr>\n",
       "    <tr>\n",
       "      <th>162</th>\n",
       "      <td>62112.0</td>\n",
       "      <td>9773</td>\n",
       "      <td>738.0</td>\n",
       "      <td>1</td>\n",
       "      <td>0.137554</td>\n",
       "      <td>0.822589</td>\n",
       "      <td>19736.0</td>\n",
       "      <td>Home Mortgage</td>\n",
       "      <td>11881</td>\n",
       "      <td>16.5</td>\n",
       "      <td>710.99</td>\n",
       "      <td>1</td>\n",
       "    </tr>\n",
       "    <tr>\n",
       "      <th>172</th>\n",
       "      <td>62112.0</td>\n",
       "      <td>9673</td>\n",
       "      <td>708.0</td>\n",
       "      <td>1</td>\n",
       "      <td>0.090323</td>\n",
       "      <td>0.838592</td>\n",
       "      <td>30197.0</td>\n",
       "      <td>Home Mortgage</td>\n",
       "      <td>11535</td>\n",
       "      <td>11.0</td>\n",
       "      <td>466.52</td>\n",
       "      <td>1</td>\n",
       "    </tr>\n",
       "    <tr>\n",
       "      <th>174</th>\n",
       "      <td>62112.0</td>\n",
       "      <td>12114</td>\n",
       "      <td>729.0</td>\n",
       "      <td>1</td>\n",
       "      <td>0.058716</td>\n",
       "      <td>3.606728</td>\n",
       "      <td>24155.0</td>\n",
       "      <td>Home Mortgage</td>\n",
       "      <td>3358</td>\n",
       "      <td>13.3</td>\n",
       "      <td>302.92</td>\n",
       "      <td>1</td>\n",
       "    </tr>\n",
       "    <tr>\n",
       "      <th>175</th>\n",
       "      <td>62112.0</td>\n",
       "      <td>9218</td>\n",
       "      <td>719.0</td>\n",
       "      <td>1</td>\n",
       "      <td>0.186687</td>\n",
       "      <td>1.010966</td>\n",
       "      <td>14851.0</td>\n",
       "      <td>Own Home</td>\n",
       "      <td>9118</td>\n",
       "      <td>15.0</td>\n",
       "      <td>965.31</td>\n",
       "      <td>1</td>\n",
       "    </tr>\n",
       "    <tr>\n",
       "      <th>177</th>\n",
       "      <td>62112.0</td>\n",
       "      <td>4961</td>\n",
       "      <td>747.0</td>\n",
       "      <td>1</td>\n",
       "      <td>0.108970</td>\n",
       "      <td>77.531250</td>\n",
       "      <td>12502.0</td>\n",
       "      <td>Rent</td>\n",
       "      <td>63</td>\n",
       "      <td>18.8</td>\n",
       "      <td>563.04</td>\n",
       "      <td>1</td>\n",
       "    </tr>\n",
       "    <tr>\n",
       "      <th>...</th>\n",
       "      <td>...</td>\n",
       "      <td>...</td>\n",
       "      <td>...</td>\n",
       "      <td>...</td>\n",
       "      <td>...</td>\n",
       "      <td>...</td>\n",
       "      <td>...</td>\n",
       "      <td>...</td>\n",
       "      <td>...</td>\n",
       "      <td>...</td>\n",
       "      <td>...</td>\n",
       "      <td>...</td>\n",
       "    </tr>\n",
       "    <tr>\n",
       "      <th>215667</th>\n",
       "      <td>94516.0</td>\n",
       "      <td>19898</td>\n",
       "      <td>732.0</td>\n",
       "      <td>1</td>\n",
       "      <td>0.088326</td>\n",
       "      <td>0.883105</td>\n",
       "      <td>44008.0</td>\n",
       "      <td>Own Home</td>\n",
       "      <td>22532</td>\n",
       "      <td>14.6</td>\n",
       "      <td>694.69</td>\n",
       "      <td>1</td>\n",
       "    </tr>\n",
       "    <tr>\n",
       "      <th>215668</th>\n",
       "      <td>121884.0</td>\n",
       "      <td>10157</td>\n",
       "      <td>744.0</td>\n",
       "      <td>1</td>\n",
       "      <td>0.058998</td>\n",
       "      <td>1.162376</td>\n",
       "      <td>11682.0</td>\n",
       "      <td>Home Mortgage</td>\n",
       "      <td>8738</td>\n",
       "      <td>14.3</td>\n",
       "      <td>598.25</td>\n",
       "      <td>1</td>\n",
       "    </tr>\n",
       "    <tr>\n",
       "      <th>215669</th>\n",
       "      <td>14349.0</td>\n",
       "      <td>5125</td>\n",
       "      <td>722.0</td>\n",
       "      <td>1</td>\n",
       "      <td>0.063429</td>\n",
       "      <td>1.482360</td>\n",
       "      <td>12617.0</td>\n",
       "      <td>Rent</td>\n",
       "      <td>3457</td>\n",
       "      <td>10.0</td>\n",
       "      <td>74.85</td>\n",
       "      <td>1</td>\n",
       "    </tr>\n",
       "    <tr>\n",
       "      <th>215670</th>\n",
       "      <td>25458.0</td>\n",
       "      <td>8019</td>\n",
       "      <td>742.0</td>\n",
       "      <td>1</td>\n",
       "      <td>0.095264</td>\n",
       "      <td>2.290120</td>\n",
       "      <td>4789.0</td>\n",
       "      <td>Rent</td>\n",
       "      <td>3501</td>\n",
       "      <td>11.0</td>\n",
       "      <td>201.11</td>\n",
       "      <td>1</td>\n",
       "    </tr>\n",
       "    <tr>\n",
       "      <th>215671</th>\n",
       "      <td>45963.0</td>\n",
       "      <td>20658</td>\n",
       "      <td>745.0</td>\n",
       "      <td>1</td>\n",
       "      <td>0.207256</td>\n",
       "      <td>1.565906</td>\n",
       "      <td>36143.0</td>\n",
       "      <td>Rent</td>\n",
       "      <td>13192</td>\n",
       "      <td>17.4</td>\n",
       "      <td>792.86</td>\n",
       "      <td>0</td>\n",
       "    </tr>\n",
       "    <tr>\n",
       "      <th>215672</th>\n",
       "      <td>52511.0</td>\n",
       "      <td>20492</td>\n",
       "      <td>722.0</td>\n",
       "      <td>1</td>\n",
       "      <td>0.266223</td>\n",
       "      <td>1.093952</td>\n",
       "      <td>24391.0</td>\n",
       "      <td>Rent</td>\n",
       "      <td>18732</td>\n",
       "      <td>19.0</td>\n",
       "      <td>1163.99</td>\n",
       "      <td>0</td>\n",
       "    </tr>\n",
       "    <tr>\n",
       "      <th>215673</th>\n",
       "      <td>107247.0</td>\n",
       "      <td>27578</td>\n",
       "      <td>712.0</td>\n",
       "      <td>0</td>\n",
       "      <td>0.108111</td>\n",
       "      <td>1.975432</td>\n",
       "      <td>26744.0</td>\n",
       "      <td>Rent</td>\n",
       "      <td>13960</td>\n",
       "      <td>14.0</td>\n",
       "      <td>965.22</td>\n",
       "      <td>1</td>\n",
       "    </tr>\n",
       "    <tr>\n",
       "      <th>215674</th>\n",
       "      <td>74159.0</td>\n",
       "      <td>8611</td>\n",
       "      <td>751.0</td>\n",
       "      <td>1</td>\n",
       "      <td>0.123160</td>\n",
       "      <td>1.334366</td>\n",
       "      <td>49263.0</td>\n",
       "      <td>Home Mortgage</td>\n",
       "      <td>6453</td>\n",
       "      <td>28.6</td>\n",
       "      <td>760.13</td>\n",
       "      <td>1</td>\n",
       "    </tr>\n",
       "    <tr>\n",
       "      <th>215675</th>\n",
       "      <td>40872.0</td>\n",
       "      <td>12262</td>\n",
       "      <td>741.0</td>\n",
       "      <td>0</td>\n",
       "      <td>0.207288</td>\n",
       "      <td>0.882675</td>\n",
       "      <td>22775.0</td>\n",
       "      <td>Home Mortgage</td>\n",
       "      <td>13892</td>\n",
       "      <td>16.5</td>\n",
       "      <td>705.04</td>\n",
       "      <td>0</td>\n",
       "    </tr>\n",
       "    <tr>\n",
       "      <th>215676</th>\n",
       "      <td>65941.0</td>\n",
       "      <td>99999999</td>\n",
       "      <td>698.0</td>\n",
       "      <td>1</td>\n",
       "      <td>0.248577</td>\n",
       "      <td>5234.231876</td>\n",
       "      <td>23556.0</td>\n",
       "      <td>Rent</td>\n",
       "      <td>19104</td>\n",
       "      <td>21.5</td>\n",
       "      <td>1364.97</td>\n",
       "      <td>1</td>\n",
       "    </tr>\n",
       "    <tr>\n",
       "      <th>215677</th>\n",
       "      <td>118128.0</td>\n",
       "      <td>99999999</td>\n",
       "      <td>742.0</td>\n",
       "      <td>1</td>\n",
       "      <td>0.265099</td>\n",
       "      <td>2849.814762</td>\n",
       "      <td>55520.0</td>\n",
       "      <td>Rent</td>\n",
       "      <td>35089</td>\n",
       "      <td>17.0</td>\n",
       "      <td>2608.66</td>\n",
       "      <td>1</td>\n",
       "    </tr>\n",
       "    <tr>\n",
       "      <th>215678</th>\n",
       "      <td>63328.0</td>\n",
       "      <td>11057</td>\n",
       "      <td>727.0</td>\n",
       "      <td>1</td>\n",
       "      <td>0.219185</td>\n",
       "      <td>1.093012</td>\n",
       "      <td>13071.0</td>\n",
       "      <td>Rent</td>\n",
       "      <td>10116</td>\n",
       "      <td>7.0</td>\n",
       "      <td>1155.73</td>\n",
       "      <td>1</td>\n",
       "    </tr>\n",
       "    <tr>\n",
       "      <th>215679</th>\n",
       "      <td>44924.0</td>\n",
       "      <td>5366</td>\n",
       "      <td>737.0</td>\n",
       "      <td>1</td>\n",
       "      <td>0.092565</td>\n",
       "      <td>1.455655</td>\n",
       "      <td>5191.0</td>\n",
       "      <td>Rent</td>\n",
       "      <td>3686</td>\n",
       "      <td>17.0</td>\n",
       "      <td>345.54</td>\n",
       "      <td>1</td>\n",
       "    </tr>\n",
       "    <tr>\n",
       "      <th>215680</th>\n",
       "      <td>83581.0</td>\n",
       "      <td>9833</td>\n",
       "      <td>743.0</td>\n",
       "      <td>1</td>\n",
       "      <td>0.236139</td>\n",
       "      <td>0.444756</td>\n",
       "      <td>27637.0</td>\n",
       "      <td>Home Mortgage</td>\n",
       "      <td>22110</td>\n",
       "      <td>32.8</td>\n",
       "      <td>1643.75</td>\n",
       "      <td>1</td>\n",
       "    </tr>\n",
       "    <tr>\n",
       "      <th>215681</th>\n",
       "      <td>30186.0</td>\n",
       "      <td>10414</td>\n",
       "      <td>742.0</td>\n",
       "      <td>1</td>\n",
       "      <td>0.114395</td>\n",
       "      <td>3.180153</td>\n",
       "      <td>11175.0</td>\n",
       "      <td>Own Home</td>\n",
       "      <td>3274</td>\n",
       "      <td>9.9</td>\n",
       "      <td>286.77</td>\n",
       "      <td>1</td>\n",
       "    </tr>\n",
       "    <tr>\n",
       "      <th>215683</th>\n",
       "      <td>161296.0</td>\n",
       "      <td>15903</td>\n",
       "      <td>687.0</td>\n",
       "      <td>0</td>\n",
       "      <td>0.032075</td>\n",
       "      <td>2.179227</td>\n",
       "      <td>25336.0</td>\n",
       "      <td>Rent</td>\n",
       "      <td>7297</td>\n",
       "      <td>27.0</td>\n",
       "      <td>430.13</td>\n",
       "      <td>1</td>\n",
       "    </tr>\n",
       "    <tr>\n",
       "      <th>215684</th>\n",
       "      <td>38649.0</td>\n",
       "      <td>8721</td>\n",
       "      <td>726.0</td>\n",
       "      <td>1</td>\n",
       "      <td>0.252304</td>\n",
       "      <td>2.259000</td>\n",
       "      <td>13592.0</td>\n",
       "      <td>Home Mortgage</td>\n",
       "      <td>3860</td>\n",
       "      <td>15.1</td>\n",
       "      <td>811.63</td>\n",
       "      <td>1</td>\n",
       "    </tr>\n",
       "    <tr>\n",
       "      <th>215686</th>\n",
       "      <td>34749.0</td>\n",
       "      <td>99999999</td>\n",
       "      <td>738.0</td>\n",
       "      <td>1</td>\n",
       "      <td>0.288338</td>\n",
       "      <td>31776.294884</td>\n",
       "      <td>16050.0</td>\n",
       "      <td>Rent</td>\n",
       "      <td>3146</td>\n",
       "      <td>11.0</td>\n",
       "      <td>833.98</td>\n",
       "      <td>1</td>\n",
       "    </tr>\n",
       "    <tr>\n",
       "      <th>215687</th>\n",
       "      <td>163376.0</td>\n",
       "      <td>30327</td>\n",
       "      <td>715.0</td>\n",
       "      <td>0</td>\n",
       "      <td>0.060373</td>\n",
       "      <td>3.266344</td>\n",
       "      <td>14644.0</td>\n",
       "      <td>Rent</td>\n",
       "      <td>9284</td>\n",
       "      <td>13.9</td>\n",
       "      <td>820.96</td>\n",
       "      <td>1</td>\n",
       "    </tr>\n",
       "    <tr>\n",
       "      <th>215688</th>\n",
       "      <td>50990.0</td>\n",
       "      <td>11524</td>\n",
       "      <td>725.0</td>\n",
       "      <td>1</td>\n",
       "      <td>0.186233</td>\n",
       "      <td>0.899056</td>\n",
       "      <td>19160.0</td>\n",
       "      <td>Home Mortgage</td>\n",
       "      <td>12818</td>\n",
       "      <td>21.4</td>\n",
       "      <td>790.35</td>\n",
       "      <td>0</td>\n",
       "    </tr>\n",
       "    <tr>\n",
       "      <th>215689</th>\n",
       "      <td>39924.0</td>\n",
       "      <td>9981</td>\n",
       "      <td>737.0</td>\n",
       "      <td>1</td>\n",
       "      <td>0.095997</td>\n",
       "      <td>0.939040</td>\n",
       "      <td>19793.0</td>\n",
       "      <td>Rent</td>\n",
       "      <td>10629</td>\n",
       "      <td>11.4</td>\n",
       "      <td>318.39</td>\n",
       "      <td>1</td>\n",
       "    </tr>\n",
       "    <tr>\n",
       "      <th>215690</th>\n",
       "      <td>36787.0</td>\n",
       "      <td>10782</td>\n",
       "      <td>738.0</td>\n",
       "      <td>1</td>\n",
       "      <td>0.239318</td>\n",
       "      <td>0.803742</td>\n",
       "      <td>16440.0</td>\n",
       "      <td>Rent</td>\n",
       "      <td>13415</td>\n",
       "      <td>9.5</td>\n",
       "      <td>732.67</td>\n",
       "      <td>0</td>\n",
       "    </tr>\n",
       "    <tr>\n",
       "      <th>215691</th>\n",
       "      <td>66809.0</td>\n",
       "      <td>99999999</td>\n",
       "      <td>734.0</td>\n",
       "      <td>1</td>\n",
       "      <td>0.188178</td>\n",
       "      <td>9986.019573</td>\n",
       "      <td>28690.0</td>\n",
       "      <td>Home Mortgage</td>\n",
       "      <td>10013</td>\n",
       "      <td>12.5</td>\n",
       "      <td>1046.68</td>\n",
       "      <td>1</td>\n",
       "    </tr>\n",
       "    <tr>\n",
       "      <th>215692</th>\n",
       "      <td>79568.0</td>\n",
       "      <td>5968</td>\n",
       "      <td>746.0</td>\n",
       "      <td>1</td>\n",
       "      <td>0.213148</td>\n",
       "      <td>1.408447</td>\n",
       "      <td>0.0</td>\n",
       "      <td>Own Home</td>\n",
       "      <td>4237</td>\n",
       "      <td>22.1</td>\n",
       "      <td>1412.33</td>\n",
       "      <td>0</td>\n",
       "    </tr>\n",
       "    <tr>\n",
       "      <th>215693</th>\n",
       "      <td>30854.0</td>\n",
       "      <td>10575</td>\n",
       "      <td>722.0</td>\n",
       "      <td>0</td>\n",
       "      <td>0.275384</td>\n",
       "      <td>0.523979</td>\n",
       "      <td>23496.0</td>\n",
       "      <td>Rent</td>\n",
       "      <td>20183</td>\n",
       "      <td>14.8</td>\n",
       "      <td>707.08</td>\n",
       "      <td>0</td>\n",
       "    </tr>\n",
       "    <tr>\n",
       "      <th>215694</th>\n",
       "      <td>148755.0</td>\n",
       "      <td>34710</td>\n",
       "      <td>700.0</td>\n",
       "      <td>1</td>\n",
       "      <td>0.003881</td>\n",
       "      <td>13.396758</td>\n",
       "      <td>37004.0</td>\n",
       "      <td>Rent</td>\n",
       "      <td>2590</td>\n",
       "      <td>34.0</td>\n",
       "      <td>47.11</td>\n",
       "      <td>0</td>\n",
       "    </tr>\n",
       "    <tr>\n",
       "      <th>215695</th>\n",
       "      <td>39844.0</td>\n",
       "      <td>11953</td>\n",
       "      <td>717.0</td>\n",
       "      <td>1</td>\n",
       "      <td>0.296294</td>\n",
       "      <td>2.861863</td>\n",
       "      <td>4783.0</td>\n",
       "      <td>Home Mortgage</td>\n",
       "      <td>4176</td>\n",
       "      <td>11.7</td>\n",
       "      <td>982.82</td>\n",
       "      <td>0</td>\n",
       "    </tr>\n",
       "    <tr>\n",
       "      <th>215697</th>\n",
       "      <td>77186.0</td>\n",
       "      <td>5078</td>\n",
       "      <td>737.0</td>\n",
       "      <td>1</td>\n",
       "      <td>0.214151</td>\n",
       "      <td>2.956345</td>\n",
       "      <td>9758.0</td>\n",
       "      <td>Own Home</td>\n",
       "      <td>1717</td>\n",
       "      <td>19.1</td>\n",
       "      <td>1376.47</td>\n",
       "      <td>1</td>\n",
       "    </tr>\n",
       "    <tr>\n",
       "      <th>215698</th>\n",
       "      <td>52504.0</td>\n",
       "      <td>12116</td>\n",
       "      <td>746.0</td>\n",
       "      <td>1</td>\n",
       "      <td>0.068327</td>\n",
       "      <td>3.654101</td>\n",
       "      <td>20090.0</td>\n",
       "      <td>Home Mortgage</td>\n",
       "      <td>3315</td>\n",
       "      <td>15.1</td>\n",
       "      <td>297.96</td>\n",
       "      <td>0</td>\n",
       "    </tr>\n",
       "    <tr>\n",
       "      <th>215699</th>\n",
       "      <td>117480.0</td>\n",
       "      <td>27902</td>\n",
       "      <td>678.0</td>\n",
       "      <td>0</td>\n",
       "      <td>0.258100</td>\n",
       "      <td>0.985345</td>\n",
       "      <td>62371.0</td>\n",
       "      <td>Home Mortgage</td>\n",
       "      <td>28317</td>\n",
       "      <td>18.0</td>\n",
       "      <td>2525.82</td>\n",
       "      <td>1</td>\n",
       "    </tr>\n",
       "  </tbody>\n",
       "</table>\n",
       "<p>215248 rows × 12 columns</p>\n",
       "</div>"
      ],
      "text/plain": [
       "        Annual Income  Current Loan Amount  Credit Score  Term  \\\n",
       "7             62112.0                10036         740.0     1   \n",
       "16            62112.0                 7228         719.0     1   \n",
       "20            62112.0                 4612         750.0     1   \n",
       "30            62112.0                 6114         728.0     1   \n",
       "46            62112.0                 7068         699.0     1   \n",
       "56            62112.0                21075         658.0     1   \n",
       "63            62112.0                 2355         723.0     1   \n",
       "67            62112.0                 6288         719.0     1   \n",
       "85            62112.0                10444         709.0     1   \n",
       "90            62112.0                 6053         750.0     1   \n",
       "93            62112.0                 5070         700.0     1   \n",
       "94            62112.0                10371         718.0     1   \n",
       "96            62112.0                 9978         672.0     1   \n",
       "102           62112.0                14198         716.0     1   \n",
       "107           62112.0                11945         731.0     1   \n",
       "111           62112.0                14498         748.0     1   \n",
       "127           62112.0                 6866         736.0     1   \n",
       "129           62112.0                10057         728.0     1   \n",
       "141           62112.0                16008         627.0     1   \n",
       "146           62112.0                19688         691.0     1   \n",
       "148           62112.0                10135         732.0     1   \n",
       "151           62112.0                19438         687.0     0   \n",
       "157           62112.0                 1012         727.0     1   \n",
       "158           62112.0                 1009         732.0     1   \n",
       "160           62112.0                 7906         708.0     1   \n",
       "162           62112.0                 9773         738.0     1   \n",
       "172           62112.0                 9673         708.0     1   \n",
       "174           62112.0                12114         729.0     1   \n",
       "175           62112.0                 9218         719.0     1   \n",
       "177           62112.0                 4961         747.0     1   \n",
       "...               ...                  ...           ...   ...   \n",
       "215667        94516.0                19898         732.0     1   \n",
       "215668       121884.0                10157         744.0     1   \n",
       "215669        14349.0                 5125         722.0     1   \n",
       "215670        25458.0                 8019         742.0     1   \n",
       "215671        45963.0                20658         745.0     1   \n",
       "215672        52511.0                20492         722.0     1   \n",
       "215673       107247.0                27578         712.0     0   \n",
       "215674        74159.0                 8611         751.0     1   \n",
       "215675        40872.0                12262         741.0     0   \n",
       "215676        65941.0             99999999         698.0     1   \n",
       "215677       118128.0             99999999         742.0     1   \n",
       "215678        63328.0                11057         727.0     1   \n",
       "215679        44924.0                 5366         737.0     1   \n",
       "215680        83581.0                 9833         743.0     1   \n",
       "215681        30186.0                10414         742.0     1   \n",
       "215683       161296.0                15903         687.0     0   \n",
       "215684        38649.0                 8721         726.0     1   \n",
       "215686        34749.0             99999999         738.0     1   \n",
       "215687       163376.0                30327         715.0     0   \n",
       "215688        50990.0                11524         725.0     1   \n",
       "215689        39924.0                 9981         737.0     1   \n",
       "215690        36787.0                10782         738.0     1   \n",
       "215691        66809.0             99999999         734.0     1   \n",
       "215692        79568.0                 5968         746.0     1   \n",
       "215693        30854.0                10575         722.0     0   \n",
       "215694       148755.0                34710         700.0     1   \n",
       "215695        39844.0                11953         717.0     1   \n",
       "215697        77186.0                 5078         737.0     1   \n",
       "215698        52504.0                12116         746.0     1   \n",
       "215699       117480.0                27902         678.0     0   \n",
       "\n",
       "        debt_to_income  Ratio_loan_paid  Maximum Open Credit Home Ownership  \\\n",
       "7             0.074837         0.838443              16579.0           Rent   \n",
       "16            0.085115         0.851573              15866.0  Home Mortgage   \n",
       "20            0.050863         0.517152               9330.0           Rent   \n",
       "30            0.040179         1.059241              13975.0  Home Mortgage   \n",
       "46            0.082433         1.691553               6850.0       Own Home   \n",
       "56            0.426023         0.997161              34366.0           Rent   \n",
       "63            0.187281         0.352536               9319.0  Home Mortgage   \n",
       "67            0.107332         1.771050               4025.0           Rent   \n",
       "85            0.022480         3.780311              10543.0           Rent   \n",
       "90            0.207363        11.917323              14497.0       Own Home   \n",
       "93            0.205814         0.269648              23216.0  Home Mortgage   \n",
       "94            0.122697         0.655916              35773.0  Home Mortgage   \n",
       "96            0.150314         1.574968              19674.0           Rent   \n",
       "102           0.355332         1.685741              19542.0  Home Mortgage   \n",
       "107           0.130641         2.271535              22278.0           Rent   \n",
       "111           0.188123         0.722458              22524.0  Home Mortgage   \n",
       "127           0.108493         0.916211              10555.0           Rent   \n",
       "129           0.210752         0.865875              14234.0           Rent   \n",
       "141           0.194452         1.029054              25131.0           Rent   \n",
       "146           0.142988         7.782213              23201.0  Home Mortgage   \n",
       "148           0.310721         0.385634              37547.0  Home Mortgage   \n",
       "151           0.073805         1.301225              18128.0  Home Mortgage   \n",
       "157           0.093905         0.431615               8289.0           Rent   \n",
       "158           0.021632         1.108672               6232.0           Rent   \n",
       "160           0.145767         0.901905              16115.0           Rent   \n",
       "162           0.137554         0.822589              19736.0  Home Mortgage   \n",
       "172           0.090323         0.838592              30197.0  Home Mortgage   \n",
       "174           0.058716         3.606728              24155.0  Home Mortgage   \n",
       "175           0.186687         1.010966              14851.0       Own Home   \n",
       "177           0.108970        77.531250              12502.0           Rent   \n",
       "...                ...              ...                  ...            ...   \n",
       "215667        0.088326         0.883105              44008.0       Own Home   \n",
       "215668        0.058998         1.162376              11682.0  Home Mortgage   \n",
       "215669        0.063429         1.482360              12617.0           Rent   \n",
       "215670        0.095264         2.290120               4789.0           Rent   \n",
       "215671        0.207256         1.565906              36143.0           Rent   \n",
       "215672        0.266223         1.093952              24391.0           Rent   \n",
       "215673        0.108111         1.975432              26744.0           Rent   \n",
       "215674        0.123160         1.334366              49263.0  Home Mortgage   \n",
       "215675        0.207288         0.882675              22775.0  Home Mortgage   \n",
       "215676        0.248577      5234.231876              23556.0           Rent   \n",
       "215677        0.265099      2849.814762              55520.0           Rent   \n",
       "215678        0.219185         1.093012              13071.0           Rent   \n",
       "215679        0.092565         1.455655               5191.0           Rent   \n",
       "215680        0.236139         0.444756              27637.0  Home Mortgage   \n",
       "215681        0.114395         3.180153              11175.0       Own Home   \n",
       "215683        0.032075         2.179227              25336.0           Rent   \n",
       "215684        0.252304         2.259000              13592.0  Home Mortgage   \n",
       "215686        0.288338     31776.294884              16050.0           Rent   \n",
       "215687        0.060373         3.266344              14644.0           Rent   \n",
       "215688        0.186233         0.899056              19160.0  Home Mortgage   \n",
       "215689        0.095997         0.939040              19793.0           Rent   \n",
       "215690        0.239318         0.803742              16440.0           Rent   \n",
       "215691        0.188178      9986.019573              28690.0  Home Mortgage   \n",
       "215692        0.213148         1.408447                  0.0       Own Home   \n",
       "215693        0.275384         0.523979              23496.0           Rent   \n",
       "215694        0.003881        13.396758              37004.0           Rent   \n",
       "215695        0.296294         2.861863               4783.0  Home Mortgage   \n",
       "215697        0.214151         2.956345               9758.0       Own Home   \n",
       "215698        0.068327         3.654101              20090.0  Home Mortgage   \n",
       "215699        0.258100         0.985345              62371.0  Home Mortgage   \n",
       "\n",
       "        Current Credit Balance  Years of Credit History  Monthly Debt  \\\n",
       "7                        11970                     17.7        386.36   \n",
       "16                        8488                     17.8        439.56   \n",
       "20                        8919                     14.0        262.27   \n",
       "30                        5772                     17.8        206.97   \n",
       "46                        4178                     21.3        425.68   \n",
       "56                       21135                     18.0       2204.13   \n",
       "63                        6682                     17.1        968.38   \n",
       "67                        3550                      7.8        554.56   \n",
       "85                        2762                     21.4        115.36   \n",
       "90                         507                     32.5       1072.33   \n",
       "93                       18805                     16.9       1064.31   \n",
       "94                       15812                     22.0        634.09   \n",
       "96                        6335                     19.4        777.04   \n",
       "102                       8422                     14.0       1838.23   \n",
       "107                       5258                     18.6        675.21   \n",
       "111                      20068                     16.3        972.74   \n",
       "127                       7494                     11.5        560.57   \n",
       "129                      11615                     16.4       1089.87   \n",
       "141                      15556                     26.3       1005.50   \n",
       "146                       2529                     19.0        739.12   \n",
       "148                      26283                     40.2       1607.32   \n",
       "151                      14938                     27.7        381.02   \n",
       "157                       2346                     14.3        485.06   \n",
       "158                        910                     26.7        110.97   \n",
       "160                       8766                     11.0        753.50   \n",
       "162                      11881                     16.5        710.99   \n",
       "172                      11535                     11.0        466.52   \n",
       "174                       3358                     13.3        302.92   \n",
       "175                       9118                     15.0        965.31   \n",
       "177                         63                     18.8        563.04   \n",
       "...                        ...                      ...           ...   \n",
       "215667                   22532                     14.6        694.69   \n",
       "215668                    8738                     14.3        598.25   \n",
       "215669                    3457                     10.0         74.85   \n",
       "215670                    3501                     11.0        201.11   \n",
       "215671                   13192                     17.4        792.86   \n",
       "215672                   18732                     19.0       1163.99   \n",
       "215673                   13960                     14.0        965.22   \n",
       "215674                    6453                     28.6        760.13   \n",
       "215675                   13892                     16.5        705.04   \n",
       "215676                   19104                     21.5       1364.97   \n",
       "215677                   35089                     17.0       2608.66   \n",
       "215678                   10116                      7.0       1155.73   \n",
       "215679                    3686                     17.0        345.54   \n",
       "215680                   22110                     32.8       1643.75   \n",
       "215681                    3274                      9.9        286.77   \n",
       "215683                    7297                     27.0        430.13   \n",
       "215684                    3860                     15.1        811.63   \n",
       "215686                    3146                     11.0        833.98   \n",
       "215687                    9284                     13.9        820.96   \n",
       "215688                   12818                     21.4        790.35   \n",
       "215689                   10629                     11.4        318.39   \n",
       "215690                   13415                      9.5        732.67   \n",
       "215691                   10013                     12.5       1046.68   \n",
       "215692                    4237                     22.1       1412.33   \n",
       "215693                   20183                     14.8        707.08   \n",
       "215694                    2590                     34.0         47.11   \n",
       "215695                    4176                     11.7        982.82   \n",
       "215697                    1717                     19.1       1376.47   \n",
       "215698                    3315                     15.1        297.96   \n",
       "215699                   28317                     18.0       2525.82   \n",
       "\n",
       "        Loan Status  \n",
       "7                 1  \n",
       "16                1  \n",
       "20                1  \n",
       "30                1  \n",
       "46                1  \n",
       "56                1  \n",
       "63                1  \n",
       "67                1  \n",
       "85                1  \n",
       "90                1  \n",
       "93                1  \n",
       "94                1  \n",
       "96                1  \n",
       "102               1  \n",
       "107               0  \n",
       "111               1  \n",
       "127               1  \n",
       "129               0  \n",
       "141               1  \n",
       "146               1  \n",
       "148               1  \n",
       "151               1  \n",
       "157               1  \n",
       "158               1  \n",
       "160               1  \n",
       "162               1  \n",
       "172               1  \n",
       "174               1  \n",
       "175               1  \n",
       "177               1  \n",
       "...             ...  \n",
       "215667            1  \n",
       "215668            1  \n",
       "215669            1  \n",
       "215670            1  \n",
       "215671            0  \n",
       "215672            0  \n",
       "215673            1  \n",
       "215674            1  \n",
       "215675            0  \n",
       "215676            1  \n",
       "215677            1  \n",
       "215678            1  \n",
       "215679            1  \n",
       "215680            1  \n",
       "215681            1  \n",
       "215683            1  \n",
       "215684            1  \n",
       "215686            1  \n",
       "215687            1  \n",
       "215688            0  \n",
       "215689            1  \n",
       "215690            0  \n",
       "215691            1  \n",
       "215692            0  \n",
       "215693            0  \n",
       "215694            0  \n",
       "215695            0  \n",
       "215697            1  \n",
       "215698            0  \n",
       "215699            1  \n",
       "\n",
       "[215248 rows x 12 columns]"
      ]
     },
     "execution_count": 134,
     "metadata": {},
     "output_type": "execute_result"
    }
   ],
   "source": [
    "df10"
   ]
  },
  {
   "cell_type": "code",
   "execution_count": 135,
   "metadata": {},
   "outputs": [],
   "source": [
    "X2=pd.get_dummies(df10, drop_first=True)"
   ]
  },
  {
   "cell_type": "code",
   "execution_count": 140,
   "metadata": {},
   "outputs": [],
   "source": [
    "df10.to_csv('loanw.csv', index=False)"
   ]
  },
  {
   "cell_type": "code",
   "execution_count": 137,
   "metadata": {},
   "outputs": [],
   "source": [
    "y1=X2[['Loan Status']]\n",
    "x1=X2.drop('Loan Status', axis=1)"
   ]
  },
  {
   "cell_type": "code",
   "execution_count": 138,
   "metadata": {},
   "outputs": [
    {
     "name": "stderr",
     "output_type": "stream",
     "text": [
      "/Users/andreafung/anaconda3/envs/jpy_37/lib/python3.7/site-packages/sklearn/utils/validation.py:761: DataConversionWarning: A column-vector y was passed when a 1d array was expected. Please change the shape of y to (n_samples, ), for example using ravel().\n",
      "  y = column_or_1d(y, warn=True)\n"
     ]
    },
    {
     "data": {
      "text/plain": [
       "GradientBoostingClassifier(criterion='friedman_mse', init=None,\n",
       "              learning_rate=0.1, loss='deviance', max_depth=3,\n",
       "              max_features=None, max_leaf_nodes=None,\n",
       "              min_impurity_decrease=0.0, min_impurity_split=None,\n",
       "              min_samples_leaf=1, min_samples_split=2,\n",
       "              min_weight_fraction_leaf=0.0, n_estimators=100,\n",
       "              n_iter_no_change=None, presort='auto', random_state=None,\n",
       "              subsample=1.0, tol=0.0001, validation_fraction=0.1,\n",
       "              verbose=0, warm_start=False)"
      ]
     },
     "execution_count": 138,
     "metadata": {},
     "output_type": "execute_result"
    }
   ],
   "source": [
    "gbc.fit(x1,y1)"
   ]
  },
  {
   "cell_type": "code",
   "execution_count": 139,
   "metadata": {},
   "outputs": [],
   "source": [
    "indf=pd.DataFrame(columns=['Annual Income', 'Current Loan Amount', \n",
    "        'Credit Score','Term',\n",
    "        'debt_to_income','Ratio_loan_paid',\n",
    "        'Maximum Open Credit','Home Ownership',\n",
    "        'Current Credit Balance','Years of Credit History',\n",
    "        'Monthly Debt','Loan Status'\n",
    "       ])"
   ]
  }
 ],
 "metadata": {
  "kernelspec": {
   "display_name": "Python 3",
   "language": "python",
   "name": "python3"
  },
  "language_info": {
   "codemirror_mode": {
    "name": "ipython",
    "version": 3
   },
   "file_extension": ".py",
   "mimetype": "text/x-python",
   "name": "python",
   "nbconvert_exporter": "python",
   "pygments_lexer": "ipython3",
   "version": "3.7.3"
  }
 },
 "nbformat": 4,
 "nbformat_minor": 2
}
