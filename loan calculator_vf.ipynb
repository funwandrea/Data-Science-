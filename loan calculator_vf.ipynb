{
 "cells": [
  {
   "cell_type": "markdown",
   "metadata": {},
   "source": [
    "# User interface to input data to prequalify loans\n",
    "using gradient boosting classifier from the previous dataa set to create predictions"
   ]
  },
  {
   "cell_type": "code",
   "execution_count": 1,
   "metadata": {},
   "outputs": [],
   "source": [
    "import pandas as pd\n",
    "import numpy as np"
   ]
  },
  {
   "cell_type": "code",
   "execution_count": 2,
   "metadata": {},
   "outputs": [],
   "source": [
    "from sklearn.model_selection import train_test_split\n",
    "# import our algorithms\n",
    "from sklearn.linear_model import LogisticRegression\n",
    "from sklearn.ensemble import RandomForestClassifier, GradientBoostingClassifier\n",
    "from sklearn.tree import DecisionTreeClassifier\n",
    "from sklearn.naive_bayes import GaussianNB\n",
    "from sklearn.metrics import accuracy_score, roc_auc_score,recall_score, precision_score, confusion_matrix\n",
    "from sklearn.datasets import make_classification\n",
    "from sklearn.tree import DecisionTreeClassifier"
   ]
  },
  {
   "cell_type": "markdown",
   "metadata": {},
   "source": [
    "## importing old data that contains top ten variables"
   ]
  },
  {
   "cell_type": "markdown",
   "metadata": {},
   "source": [
    "import csv file containing past data of the top ten variables."
   ]
  },
  {
   "cell_type": "code",
   "execution_count": 3,
   "metadata": {},
   "outputs": [],
   "source": [
    "df=pd.read_csv('loanw.csv')"
   ]
  },
  {
   "cell_type": "code",
   "execution_count": 4,
   "metadata": {},
   "outputs": [
    {
     "name": "stdout",
     "output_type": "stream",
     "text": [
      "<class 'pandas.core.frame.DataFrame'>\n",
      "RangeIndex: 215248 entries, 0 to 215247\n",
      "Data columns (total 12 columns):\n",
      "Annual Income              215248 non-null float64\n",
      "Current Loan Amount        215248 non-null int64\n",
      "Credit Score               215248 non-null float64\n",
      "Term                       215248 non-null int64\n",
      "debt_to_income             215248 non-null float64\n",
      "Ratio_loan_paid            215248 non-null float64\n",
      "Maximum Open Credit        215248 non-null float64\n",
      "Home Ownership             215248 non-null object\n",
      "Current Credit Balance     215248 non-null int64\n",
      "Years of Credit History    215248 non-null float64\n",
      "Monthly Debt               215248 non-null float64\n",
      "Loan Status                215248 non-null int64\n",
      "dtypes: float64(7), int64(4), object(1)\n",
      "memory usage: 19.7+ MB\n"
     ]
    }
   ],
   "source": [
    "df.info()"
   ]
  },
  {
   "cell_type": "code",
   "execution_count": 5,
   "metadata": {},
   "outputs": [
    {
     "data": {
      "text/html": [
       "<div>\n",
       "<style scoped>\n",
       "    .dataframe tbody tr th:only-of-type {\n",
       "        vertical-align: middle;\n",
       "    }\n",
       "\n",
       "    .dataframe tbody tr th {\n",
       "        vertical-align: top;\n",
       "    }\n",
       "\n",
       "    .dataframe thead th {\n",
       "        text-align: right;\n",
       "    }\n",
       "</style>\n",
       "<table border=\"1\" class=\"dataframe\">\n",
       "  <thead>\n",
       "    <tr style=\"text-align: right;\">\n",
       "      <th></th>\n",
       "      <th>Annual Income</th>\n",
       "      <th>Current Loan Amount</th>\n",
       "      <th>Credit Score</th>\n",
       "      <th>Term</th>\n",
       "      <th>debt_to_income</th>\n",
       "      <th>Ratio_loan_paid</th>\n",
       "      <th>Maximum Open Credit</th>\n",
       "      <th>Home Ownership</th>\n",
       "      <th>Current Credit Balance</th>\n",
       "      <th>Years of Credit History</th>\n",
       "      <th>Monthly Debt</th>\n",
       "      <th>Loan Status</th>\n",
       "    </tr>\n",
       "  </thead>\n",
       "  <tbody>\n",
       "    <tr>\n",
       "      <th>0</th>\n",
       "      <td>62112.0</td>\n",
       "      <td>10036</td>\n",
       "      <td>740.0</td>\n",
       "      <td>1</td>\n",
       "      <td>0.074837</td>\n",
       "      <td>0.838443</td>\n",
       "      <td>16579.0</td>\n",
       "      <td>Rent</td>\n",
       "      <td>11970</td>\n",
       "      <td>17.7</td>\n",
       "      <td>386.36</td>\n",
       "      <td>1</td>\n",
       "    </tr>\n",
       "    <tr>\n",
       "      <th>1</th>\n",
       "      <td>62112.0</td>\n",
       "      <td>7228</td>\n",
       "      <td>719.0</td>\n",
       "      <td>1</td>\n",
       "      <td>0.085115</td>\n",
       "      <td>0.851573</td>\n",
       "      <td>15866.0</td>\n",
       "      <td>Home Mortgage</td>\n",
       "      <td>8488</td>\n",
       "      <td>17.8</td>\n",
       "      <td>439.56</td>\n",
       "      <td>1</td>\n",
       "    </tr>\n",
       "    <tr>\n",
       "      <th>2</th>\n",
       "      <td>62112.0</td>\n",
       "      <td>4612</td>\n",
       "      <td>750.0</td>\n",
       "      <td>1</td>\n",
       "      <td>0.050863</td>\n",
       "      <td>0.517152</td>\n",
       "      <td>9330.0</td>\n",
       "      <td>Rent</td>\n",
       "      <td>8919</td>\n",
       "      <td>14.0</td>\n",
       "      <td>262.27</td>\n",
       "      <td>1</td>\n",
       "    </tr>\n",
       "    <tr>\n",
       "      <th>3</th>\n",
       "      <td>62112.0</td>\n",
       "      <td>6114</td>\n",
       "      <td>728.0</td>\n",
       "      <td>1</td>\n",
       "      <td>0.040179</td>\n",
       "      <td>1.059241</td>\n",
       "      <td>13975.0</td>\n",
       "      <td>Home Mortgage</td>\n",
       "      <td>5772</td>\n",
       "      <td>17.8</td>\n",
       "      <td>206.97</td>\n",
       "      <td>1</td>\n",
       "    </tr>\n",
       "    <tr>\n",
       "      <th>4</th>\n",
       "      <td>62112.0</td>\n",
       "      <td>7068</td>\n",
       "      <td>699.0</td>\n",
       "      <td>1</td>\n",
       "      <td>0.082433</td>\n",
       "      <td>1.691553</td>\n",
       "      <td>6850.0</td>\n",
       "      <td>Own Home</td>\n",
       "      <td>4178</td>\n",
       "      <td>21.3</td>\n",
       "      <td>425.68</td>\n",
       "      <td>1</td>\n",
       "    </tr>\n",
       "  </tbody>\n",
       "</table>\n",
       "</div>"
      ],
      "text/plain": [
       "   Annual Income  Current Loan Amount  Credit Score  Term  debt_to_income  \\\n",
       "0        62112.0                10036         740.0     1        0.074837   \n",
       "1        62112.0                 7228         719.0     1        0.085115   \n",
       "2        62112.0                 4612         750.0     1        0.050863   \n",
       "3        62112.0                 6114         728.0     1        0.040179   \n",
       "4        62112.0                 7068         699.0     1        0.082433   \n",
       "\n",
       "   Ratio_loan_paid  Maximum Open Credit Home Ownership  \\\n",
       "0         0.838443              16579.0           Rent   \n",
       "1         0.851573              15866.0  Home Mortgage   \n",
       "2         0.517152               9330.0           Rent   \n",
       "3         1.059241              13975.0  Home Mortgage   \n",
       "4         1.691553               6850.0       Own Home   \n",
       "\n",
       "   Current Credit Balance  Years of Credit History  Monthly Debt  Loan Status  \n",
       "0                   11970                     17.7        386.36            1  \n",
       "1                    8488                     17.8        439.56            1  \n",
       "2                    8919                     14.0        262.27            1  \n",
       "3                    5772                     17.8        206.97            1  \n",
       "4                    4178                     21.3        425.68            1  "
      ]
     },
     "execution_count": 5,
     "metadata": {},
     "output_type": "execute_result"
    }
   ],
   "source": [
    "df.head()"
   ]
  },
  {
   "cell_type": "raw",
   "metadata": {
    "scrolled": true
   },
   "source": [
    "df=df.drop(['Home Ownership'], axis=1)"
   ]
  },
  {
   "cell_type": "markdown",
   "metadata": {},
   "source": [
    "## Clean up data"
   ]
  },
  {
   "cell_type": "code",
   "execution_count": 6,
   "metadata": {},
   "outputs": [
    {
     "data": {
      "text/plain": [
       "array(['Rent', 'Home Mortgage', 'Own Home'], dtype=object)"
      ]
     },
     "execution_count": 6,
     "metadata": {},
     "output_type": "execute_result"
    }
   ],
   "source": [
    "df['Home Ownership'].unique()"
   ]
  },
  {
   "cell_type": "code",
   "execution_count": 7,
   "metadata": {},
   "outputs": [],
   "source": [
    "df['Home Ownership']=df[\"Home Ownership\"].map(\n",
    "lambda x: 'Own Home' if x=='Home Mortgage' else x)"
   ]
  },
  {
   "cell_type": "code",
   "execution_count": 8,
   "metadata": {},
   "outputs": [
    {
     "data": {
      "text/plain": [
       "array(['Rent', 'Own Home'], dtype=object)"
      ]
     },
     "execution_count": 8,
     "metadata": {},
     "output_type": "execute_result"
    }
   ],
   "source": [
    "df['Home Ownership'].unique()"
   ]
  },
  {
   "cell_type": "code",
   "execution_count": 9,
   "metadata": {
    "scrolled": true
   },
   "outputs": [
    {
     "data": {
      "text/plain": [
       "Index(['Annual Income', 'Current Loan Amount', 'Credit Score', 'Term',\n",
       "       'debt_to_income', 'Ratio_loan_paid', 'Maximum Open Credit',\n",
       "       'Home Ownership', 'Current Credit Balance', 'Years of Credit History',\n",
       "       'Monthly Debt', 'Loan Status'],\n",
       "      dtype='object')"
      ]
     },
     "execution_count": 9,
     "metadata": {},
     "output_type": "execute_result"
    }
   ],
   "source": [
    "df.columns"
   ]
  },
  {
   "cell_type": "markdown",
   "metadata": {},
   "source": [
    "## Get dummie variables.  "
   ]
  },
  {
   "cell_type": "code",
   "execution_count": 10,
   "metadata": {},
   "outputs": [],
   "source": [
    "x2=pd.get_dummies(df,drop_first=True)"
   ]
  },
  {
   "cell_type": "code",
   "execution_count": 11,
   "metadata": {
    "scrolled": true
   },
   "outputs": [
    {
     "data": {
      "text/plain": [
       "Index(['Annual Income', 'Current Loan Amount', 'Credit Score', 'Term',\n",
       "       'debt_to_income', 'Ratio_loan_paid', 'Maximum Open Credit',\n",
       "       'Current Credit Balance', 'Years of Credit History', 'Monthly Debt',\n",
       "       'Loan Status', 'Home Ownership_Rent'],\n",
       "      dtype='object')"
      ]
     },
     "execution_count": 11,
     "metadata": {},
     "output_type": "execute_result"
    }
   ],
   "source": [
    "x2.columns"
   ]
  },
  {
   "cell_type": "code",
   "execution_count": 12,
   "metadata": {},
   "outputs": [
    {
     "data": {
      "text/plain": [
       "(215248, 12)"
      ]
     },
     "execution_count": 12,
     "metadata": {},
     "output_type": "execute_result"
    }
   ],
   "source": [
    "x2.shape"
   ]
  },
  {
   "cell_type": "code",
   "execution_count": 13,
   "metadata": {},
   "outputs": [],
   "source": [
    "y1=x2[['Loan Status']]\n",
    "x1=x2.drop('Loan Status',axis=1)"
   ]
  },
  {
   "cell_type": "code",
   "execution_count": 14,
   "metadata": {},
   "outputs": [
    {
     "data": {
      "text/plain": [
       "((215248, 1), (215248, 11))"
      ]
     },
     "execution_count": 14,
     "metadata": {},
     "output_type": "execute_result"
    }
   ],
   "source": [
    "y1.shape, x1.shape"
   ]
  },
  {
   "cell_type": "code",
   "execution_count": 15,
   "metadata": {},
   "outputs": [],
   "source": [
    "gbc=GradientBoostingClassifier()"
   ]
  },
  {
   "cell_type": "markdown",
   "metadata": {},
   "source": [
    "## Create algorithm for training data "
   ]
  },
  {
   "cell_type": "code",
   "execution_count": 16,
   "metadata": {
    "scrolled": true
   },
   "outputs": [
    {
     "name": "stderr",
     "output_type": "stream",
     "text": [
      "/Users/andreafung/anaconda3/envs/jpy_37/lib/python3.7/site-packages/sklearn/utils/validation.py:761: DataConversionWarning: A column-vector y was passed when a 1d array was expected. Please change the shape of y to (n_samples, ), for example using ravel().\n",
      "  y = column_or_1d(y, warn=True)\n"
     ]
    }
   ],
   "source": [
    "gfit=gbc.fit(x1,y1)"
   ]
  },
  {
   "cell_type": "markdown",
   "metadata": {},
   "source": [
    "## create the variables to ask the clients.  "
   ]
  },
  {
   "cell_type": "code",
   "execution_count": 17,
   "metadata": {},
   "outputs": [],
   "source": [
    "dict_2=dict.fromkeys(['Annual Income', 'Current Loan Amount', \n",
    "        'Credit Score','Term',\n",
    "        'debt_to_income','Ratio_loan_paid',\n",
    "        'Maximum Open Credit','Home Ownership',\n",
    "        'Current Credit Balance','Years of Credit History',\n",
    "        'Monthly Debt','Loan Status'])"
   ]
  },
  {
   "cell_type": "markdown",
   "metadata": {},
   "source": [
    "## Create user input for test data"
   ]
  },
  {
   "cell_type": "code",
   "execution_count": 18,
   "metadata": {},
   "outputs": [
    {
     "name": "stdout",
     "output_type": "stream",
     "text": [
      "Annual Income 52000\n",
      "Current Loan Amount 1587\n",
      "Credit Score 569\n",
      "Term 12\n",
      "Maximum Open Credit 587456\n",
      "Home Ownership rent\n",
      "Current Credit Balance 283474\n",
      "Years of Credit History 15\n",
      "Monthly Debt 2000\n"
     ]
    }
   ],
   "source": [
    "ai=input('Annual Income ')\n",
    "cur_loan=input('Current Loan Amount ')\n",
    "cred_scor=input('Credit Score ')\n",
    "Trm=input('Term ')\n",
    "max_opcred=input('Maximum Open Credit ')\n",
    "ownership=input('Home Ownership ')\n",
    "cur_cred_bal=input('Current Credit Balance ')\n",
    "yearcred=input('Years of Credit History ')\n",
    "mont_deb=input('Monthly Debt ')\n",
    "dtr=(((int(mont_deb))+1)/(((int(ai))+1)/12))\n",
    "rlp=((int(cur_loan))+1)/((int(cur_cred_bal))+1)\n"
   ]
  },
  {
   "cell_type": "markdown",
   "metadata": {},
   "source": [
    "### create dictionary"
   ]
  },
  {
   "cell_type": "code",
   "execution_count": 19,
   "metadata": {},
   "outputs": [],
   "source": [
    "dict_2['Annual Income']=float(ai)\n",
    "dict_2['Current Loan Amount']=int(cur_loan)\n",
    "dict_2['Credit Score']=int(cred_scor)\n",
    "dict_2['Term']=int(Trm)\n",
    "dict_2['debt_to_income']=int(dtr)\n",
    "dict_2['Ratio_loan_paid']=int(rlp)\n",
    "dict_2['Maximum Open Credit']=int(max_opcred)\n",
    "dict_2['Home Ownership']=(ownership)\n",
    "dict_2['Current Credit Balance']=int(cur_cred_bal)\n",
    "dict_2['Years of Credit History']=int(yearcred)\n",
    "dict_2['Monthly Debt']=int(mont_deb)"
   ]
  },
  {
   "cell_type": "raw",
   "metadata": {},
   "source": [
    "dict_2['Annual Income']=[ai]\n",
    "dict_2['Current Loan Amount']=[cur_loan]\n",
    "dict_2['Credit Score']=[cred_scor]\n",
    "dict_2['Term']=[Trm]\n",
    "dict_2['debt_to_income']=[dtr]\n",
    "dict_2['Ratio_loan_paid']=[rlp]\n",
    "dict_2['Maximum Open Credit']=max_opcred\n",
    "dict_2['Home Ownership']=ownership\n",
    "dict_2['Current Credit Balance']=[cur_cred_bal]\n",
    "dict_2['Years of Credit History']=yearcred\n",
    "dict_2['Monthly Debt']=[mont_deb]"
   ]
  },
  {
   "cell_type": "raw",
   "metadata": {},
   "source": [
    "dict_2['debt_to_income']=(int(mont_deb))+1/((int(ai)+1)/12)"
   ]
  },
  {
   "cell_type": "code",
   "execution_count": 21,
   "metadata": {},
   "outputs": [
    {
     "data": {
      "text/plain": [
       "dict"
      ]
     },
     "execution_count": 21,
     "metadata": {},
     "output_type": "execute_result"
    }
   ],
   "source": [
    "type(dict_2)"
   ]
  },
  {
   "cell_type": "code",
   "execution_count": 22,
   "metadata": {
    "scrolled": false
   },
   "outputs": [
    {
     "data": {
      "text/plain": [
       "{'Annual Income': ['52000'],\n",
       " 'Current Loan Amount': ['1587'],\n",
       " 'Credit Score': ['569'],\n",
       " 'Term': ['12'],\n",
       " 'debt_to_income': [0.4617603507624853],\n",
       " 'Ratio_loan_paid': [0.005601904929887997],\n",
       " 'Maximum Open Credit': '587456',\n",
       " 'Home Ownership': 'rent',\n",
       " 'Current Credit Balance': ['283474'],\n",
       " 'Years of Credit History': '15',\n",
       " 'Monthly Debt': ['2000'],\n",
       " 'Loan Status': None}"
      ]
     },
     "execution_count": 22,
     "metadata": {},
     "output_type": "execute_result"
    }
   ],
   "source": [
    "dict_2"
   ]
  },
  {
   "cell_type": "code",
   "execution_count": 23,
   "metadata": {},
   "outputs": [],
   "source": [
    "# create dataframe\n",
    "x=pd.DataFrame.from_dict(dict_2)"
   ]
  },
  {
   "cell_type": "code",
   "execution_count": 24,
   "metadata": {},
   "outputs": [
    {
     "data": {
      "text/html": [
       "<div>\n",
       "<style scoped>\n",
       "    .dataframe tbody tr th:only-of-type {\n",
       "        vertical-align: middle;\n",
       "    }\n",
       "\n",
       "    .dataframe tbody tr th {\n",
       "        vertical-align: top;\n",
       "    }\n",
       "\n",
       "    .dataframe thead th {\n",
       "        text-align: right;\n",
       "    }\n",
       "</style>\n",
       "<table border=\"1\" class=\"dataframe\">\n",
       "  <thead>\n",
       "    <tr style=\"text-align: right;\">\n",
       "      <th></th>\n",
       "      <th>Annual Income</th>\n",
       "      <th>Current Loan Amount</th>\n",
       "      <th>Credit Score</th>\n",
       "      <th>Term</th>\n",
       "      <th>debt_to_income</th>\n",
       "      <th>Ratio_loan_paid</th>\n",
       "      <th>Maximum Open Credit</th>\n",
       "      <th>Home Ownership</th>\n",
       "      <th>Current Credit Balance</th>\n",
       "      <th>Years of Credit History</th>\n",
       "      <th>Monthly Debt</th>\n",
       "      <th>Loan Status</th>\n",
       "    </tr>\n",
       "  </thead>\n",
       "  <tbody>\n",
       "    <tr>\n",
       "      <th>0</th>\n",
       "      <td>52000</td>\n",
       "      <td>1587</td>\n",
       "      <td>569</td>\n",
       "      <td>12</td>\n",
       "      <td>0.46176</td>\n",
       "      <td>0.005602</td>\n",
       "      <td>587456</td>\n",
       "      <td>rent</td>\n",
       "      <td>283474</td>\n",
       "      <td>15</td>\n",
       "      <td>2000</td>\n",
       "      <td>None</td>\n",
       "    </tr>\n",
       "  </tbody>\n",
       "</table>\n",
       "</div>"
      ],
      "text/plain": [
       "  Annual Income Current Loan Amount Credit Score Term  debt_to_income  \\\n",
       "0         52000                1587          569   12         0.46176   \n",
       "\n",
       "   Ratio_loan_paid Maximum Open Credit Home Ownership Current Credit Balance  \\\n",
       "0         0.005602              587456           rent                 283474   \n",
       "\n",
       "  Years of Credit History Monthly Debt Loan Status  \n",
       "0                      15         2000        None  "
      ]
     },
     "execution_count": 24,
     "metadata": {},
     "output_type": "execute_result"
    }
   ],
   "source": [
    "x.head()"
   ]
  },
  {
   "cell_type": "code",
   "execution_count": 25,
   "metadata": {},
   "outputs": [
    {
     "name": "stdout",
     "output_type": "stream",
     "text": [
      "<class 'pandas.core.frame.DataFrame'>\n",
      "RangeIndex: 1 entries, 0 to 0\n",
      "Data columns (total 12 columns):\n",
      "Annual Income              1 non-null object\n",
      "Current Loan Amount        1 non-null object\n",
      "Credit Score               1 non-null object\n",
      "Term                       1 non-null object\n",
      "debt_to_income             1 non-null float64\n",
      "Ratio_loan_paid            1 non-null float64\n",
      "Maximum Open Credit        1 non-null object\n",
      "Home Ownership             1 non-null object\n",
      "Current Credit Balance     1 non-null object\n",
      "Years of Credit History    1 non-null object\n",
      "Monthly Debt               1 non-null object\n",
      "Loan Status                0 non-null object\n",
      "dtypes: float64(2), object(10)\n",
      "memory usage: 176.0+ bytes\n"
     ]
    }
   ],
   "source": [
    "x.info()"
   ]
  },
  {
   "cell_type": "raw",
   "metadata": {
    "scrolled": true
   },
   "source": [
    "# tells us wbat type of variables\n",
    "x.dtypes"
   ]
  },
  {
   "cell_type": "markdown",
   "metadata": {},
   "source": [
    "## creating the same type of data type as train"
   ]
  },
  {
   "cell_type": "code",
   "execution_count": 27,
   "metadata": {},
   "outputs": [],
   "source": [
    "x['Annual Income']=x[\"Annual Income\"].astype('float')\n",
    "x['Current Loan Amount']=x['Current Loan Amount'].astype('float')\n",
    "x['Credit Score']=x[\"Credit Score\"].astype('float')\n",
    "x['Term']=x['Term'].astype('float')\n",
    "x['debt_to_income']=x['debt_to_income'].astype('float')\n",
    "x['Ratio_loan_paid']=x['Ratio_loan_paid'].astype('float')\n",
    "x['Maximum Open Credit']=x['Maximum Open Credit'].astype('float')\n",
    "x['Current Credit Balance']=x['Current Credit Balance'].astype('float')\n",
    "x['Years of Credit History']=x['Years of Credit History'].astype('float')\n",
    "x['Monthly Debt']=x['Monthly Debt'].astype('float')\n",
    "x['Loan Status']=x['Loan Status'].astype('float')"
   ]
  },
  {
   "cell_type": "code",
   "execution_count": 28,
   "metadata": {
    "scrolled": true
   },
   "outputs": [
    {
     "name": "stdout",
     "output_type": "stream",
     "text": [
      "<class 'pandas.core.frame.DataFrame'>\n",
      "RangeIndex: 1 entries, 0 to 0\n",
      "Data columns (total 12 columns):\n",
      "Annual Income              1 non-null float64\n",
      "Current Loan Amount        1 non-null float64\n",
      "Credit Score               1 non-null float64\n",
      "Term                       1 non-null float64\n",
      "debt_to_income             1 non-null float64\n",
      "Ratio_loan_paid            1 non-null float64\n",
      "Maximum Open Credit        1 non-null float64\n",
      "Home Ownership             1 non-null object\n",
      "Current Credit Balance     1 non-null float64\n",
      "Years of Credit History    1 non-null float64\n",
      "Monthly Debt               1 non-null float64\n",
      "Loan Status                0 non-null float64\n",
      "dtypes: float64(11), object(1)\n",
      "memory usage: 176.0+ bytes\n"
     ]
    }
   ],
   "source": [
    "x.info()"
   ]
  },
  {
   "cell_type": "markdown",
   "metadata": {},
   "source": [
    "## ensureing same as train"
   ]
  },
  {
   "cell_type": "code",
   "execution_count": 29,
   "metadata": {},
   "outputs": [],
   "source": [
    "df['Annual Income']=df[\"Annual Income\"].astype('float')\n",
    "df['Current Loan Amount']=df['Current Loan Amount'].astype('float')\n",
    "df['Credit Score']=df[\"Credit Score\"].astype('float')\n",
    "df['Term']=df['Term'].astype('float')\n",
    "df['debt_to_income']=df['debt_to_income'].astype('float')\n",
    "df['Ratio_loan_paid']=df['Ratio_loan_paid'].astype('float')\n",
    "df['Maximum Open Credit']=df['Maximum Open Credit'].astype('float')\n",
    "df['Current Credit Balance']=df['Current Credit Balance'].astype('float')\n",
    "df['Years of Credit History']=df['Years of Credit History'].astype('float')\n",
    "df['Monthly Debt']=df['Monthly Debt'].astype('float')\n",
    "df['Loan Status']=df['Loan Status'].astype('float')"
   ]
  },
  {
   "cell_type": "code",
   "execution_count": 30,
   "metadata": {
    "scrolled": true
   },
   "outputs": [
    {
     "name": "stdout",
     "output_type": "stream",
     "text": [
      "<class 'pandas.core.frame.DataFrame'>\n",
      "RangeIndex: 215248 entries, 0 to 215247\n",
      "Data columns (total 12 columns):\n",
      "Annual Income              215248 non-null float64\n",
      "Current Loan Amount        215248 non-null float64\n",
      "Credit Score               215248 non-null float64\n",
      "Term                       215248 non-null float64\n",
      "debt_to_income             215248 non-null float64\n",
      "Ratio_loan_paid            215248 non-null float64\n",
      "Maximum Open Credit        215248 non-null float64\n",
      "Home Ownership             215248 non-null object\n",
      "Current Credit Balance     215248 non-null float64\n",
      "Years of Credit History    215248 non-null float64\n",
      "Monthly Debt               215248 non-null float64\n",
      "Loan Status                215248 non-null float64\n",
      "dtypes: float64(11), object(1)\n",
      "memory usage: 19.7+ MB\n"
     ]
    }
   ],
   "source": [
    "df.info()"
   ]
  },
  {
   "cell_type": "code",
   "execution_count": 31,
   "metadata": {},
   "outputs": [
    {
     "data": {
      "text/plain": [
       "(1, 12)"
      ]
     },
     "execution_count": 31,
     "metadata": {},
     "output_type": "execute_result"
    }
   ],
   "source": [
    "x.shape"
   ]
  },
  {
   "cell_type": "code",
   "execution_count": 32,
   "metadata": {},
   "outputs": [
    {
     "data": {
      "text/plain": [
       "(215248, 12)"
      ]
     },
     "execution_count": 32,
     "metadata": {},
     "output_type": "execute_result"
    }
   ],
   "source": [
    "df.shape"
   ]
  },
  {
   "cell_type": "markdown",
   "metadata": {},
   "source": [
    "## Now that we have our \"test\" set and \"train\" set\n",
    "we can use the imported data set as our train set \n",
    "the test set will be the filled in answers that the user inputed \n"
   ]
  },
  {
   "cell_type": "code",
   "execution_count": 33,
   "metadata": {},
   "outputs": [],
   "source": [
    "testdf=df.copy()"
   ]
  },
  {
   "cell_type": "code",
   "execution_count": 34,
   "metadata": {},
   "outputs": [
    {
     "data": {
      "text/plain": [
       "2"
      ]
     },
     "execution_count": 34,
     "metadata": {},
     "output_type": "execute_result"
    }
   ],
   "source": [
    "testdf['Home Ownership'].nunique()"
   ]
  },
  {
   "cell_type": "code",
   "execution_count": 36,
   "metadata": {},
   "outputs": [
    {
     "data": {
      "text/plain": [
       "array(['Rent', 'Own Home'], dtype=object)"
      ]
     },
     "execution_count": 36,
     "metadata": {},
     "output_type": "execute_result"
    }
   ],
   "source": [
    "testdf['Home Ownership'].unique()"
   ]
  },
  {
   "cell_type": "code",
   "execution_count": 37,
   "metadata": {},
   "outputs": [
    {
     "data": {
      "text/plain": [
       "array(['rent'], dtype=object)"
      ]
     },
     "execution_count": 37,
     "metadata": {},
     "output_type": "execute_result"
    }
   ],
   "source": [
    "x['Home Ownership'].unique()"
   ]
  },
  {
   "cell_type": "code",
   "execution_count": 38,
   "metadata": {},
   "outputs": [
    {
     "name": "stdout",
     "output_type": "stream",
     "text": [
      "(215248, 13) (1, 12)\n"
     ]
    }
   ],
   "source": [
    "xtrain=pd.get_dummies(testdf, drop_first=False)\n",
    "xtest=pd.get_dummies(x, drop_first=False)\n",
    "print(xtrain.shape, xtest.shape)"
   ]
  },
  {
   "cell_type": "code",
   "execution_count": 39,
   "metadata": {},
   "outputs": [
    {
     "data": {
      "text/plain": [
       "Index(['Annual Income', 'Current Loan Amount', 'Credit Score', 'Term',\n",
       "       'debt_to_income', 'Ratio_loan_paid', 'Maximum Open Credit',\n",
       "       'Current Credit Balance', 'Years of Credit History', 'Monthly Debt',\n",
       "       'Loan Status', 'Home Ownership_rent'],\n",
       "      dtype='object')"
      ]
     },
     "execution_count": 39,
     "metadata": {},
     "output_type": "execute_result"
    }
   ],
   "source": [
    "xtest.columns"
   ]
  },
  {
   "cell_type": "code",
   "execution_count": 40,
   "metadata": {
    "scrolled": true
   },
   "outputs": [
    {
     "data": {
      "text/plain": [
       "Index(['Annual Income', 'Current Loan Amount', 'Credit Score', 'Term',\n",
       "       'debt_to_income', 'Ratio_loan_paid', 'Maximum Open Credit',\n",
       "       'Current Credit Balance', 'Years of Credit History', 'Monthly Debt',\n",
       "       'Loan Status', 'Home Ownership_Own Home', 'Home Ownership_Rent'],\n",
       "      dtype='object')"
      ]
     },
     "execution_count": 40,
     "metadata": {},
     "output_type": "execute_result"
    }
   ],
   "source": [
    "xtrain.columns"
   ]
  },
  {
   "cell_type": "code",
   "execution_count": 41,
   "metadata": {},
   "outputs": [],
   "source": [
    "xtrain2=xtrain.drop('Home Ownership_Own Home',axis=1)"
   ]
  },
  {
   "cell_type": "code",
   "execution_count": 42,
   "metadata": {},
   "outputs": [
    {
     "data": {
      "text/plain": [
       "Index(['Annual Income', 'Current Loan Amount', 'Credit Score', 'Term',\n",
       "       'debt_to_income', 'Ratio_loan_paid', 'Maximum Open Credit',\n",
       "       'Current Credit Balance', 'Years of Credit History', 'Monthly Debt',\n",
       "       'Loan Status', 'Home Ownership_Rent'],\n",
       "      dtype='object')"
      ]
     },
     "execution_count": 42,
     "metadata": {},
     "output_type": "execute_result"
    }
   ],
   "source": [
    "xtrain2.columns"
   ]
  },
  {
   "cell_type": "code",
   "execution_count": 43,
   "metadata": {},
   "outputs": [
    {
     "data": {
      "text/plain": [
       "(215248, 12)"
      ]
     },
     "execution_count": 43,
     "metadata": {},
     "output_type": "execute_result"
    }
   ],
   "source": [
    "xtrain2.shape"
   ]
  },
  {
   "cell_type": "code",
   "execution_count": 44,
   "metadata": {},
   "outputs": [
    {
     "data": {
      "text/plain": [
       "(1, 12)"
      ]
     },
     "execution_count": 44,
     "metadata": {},
     "output_type": "execute_result"
    }
   ],
   "source": [
    "xtest.shape"
   ]
  },
  {
   "cell_type": "code",
   "execution_count": 45,
   "metadata": {},
   "outputs": [
    {
     "name": "stdout",
     "output_type": "stream",
     "text": [
      "(215248, 11) (1, 11)\n"
     ]
    }
   ],
   "source": [
    "x_train=xtrain2.drop('Loan Status',axis=1)\n",
    "x_test=xtest.drop('Loan Status', axis=1)\n",
    "print(x_train.shape, x_test.shape)"
   ]
  },
  {
   "cell_type": "code",
   "execution_count": 46,
   "metadata": {},
   "outputs": [],
   "source": [
    "ytrain=testdf[['Loan Status']]\n",
    "ytest=x[['Loan Status']]"
   ]
  },
  {
   "cell_type": "code",
   "execution_count": 47,
   "metadata": {},
   "outputs": [
    {
     "data": {
      "text/plain": [
       "((215248, 1), (1, 1))"
      ]
     },
     "execution_count": 47,
     "metadata": {},
     "output_type": "execute_result"
    }
   ],
   "source": [
    "ytrain.shape, ytest.shape"
   ]
  },
  {
   "cell_type": "code",
   "execution_count": 48,
   "metadata": {},
   "outputs": [
    {
     "name": "stderr",
     "output_type": "stream",
     "text": [
      "/Users/andreafung/anaconda3/envs/jpy_37/lib/python3.7/site-packages/sklearn/utils/validation.py:761: DataConversionWarning: A column-vector y was passed when a 1d array was expected. Please change the shape of y to (n_samples, ), for example using ravel().\n",
      "  y = column_or_1d(y, warn=True)\n"
     ]
    },
    {
     "data": {
      "text/plain": [
       "GradientBoostingClassifier(criterion='friedman_mse', init=None,\n",
       "              learning_rate=0.1, loss='deviance', max_depth=3,\n",
       "              max_features=None, max_leaf_nodes=None,\n",
       "              min_impurity_decrease=0.0, min_impurity_split=None,\n",
       "              min_samples_leaf=1, min_samples_split=2,\n",
       "              min_weight_fraction_leaf=0.0, n_estimators=100,\n",
       "              n_iter_no_change=None, presort='auto', random_state=None,\n",
       "              subsample=1.0, tol=0.0001, validation_fraction=0.1,\n",
       "              verbose=0, warm_start=False)"
      ]
     },
     "execution_count": 48,
     "metadata": {},
     "output_type": "execute_result"
    }
   ],
   "source": [
    "gbc=GradientBoostingClassifier()\n",
    "gbc.fit(x_train, ytrain)"
   ]
  },
  {
   "cell_type": "markdown",
   "metadata": {},
   "source": [
    "## I want this as an optupt so one means approval.  "
   ]
  },
  {
   "cell_type": "code",
   "execution_count": 49,
   "metadata": {},
   "outputs": [
    {
     "data": {
      "text/plain": [
       "array([0.])"
      ]
     },
     "execution_count": 49,
     "metadata": {},
     "output_type": "execute_result"
    }
   ],
   "source": [
    "y_pred=gbc.predict(x_test)\n",
    "y_pred"
   ]
  },
  {
   "cell_type": "code",
   "execution_count": 50,
   "metadata": {
    "scrolled": false
   },
   "outputs": [
    {
     "data": {
      "text/plain": [
       "array([[0.64794218, 0.35205782]])"
      ]
     },
     "execution_count": 50,
     "metadata": {},
     "output_type": "execute_result"
    }
   ],
   "source": [
    "gbc.predict_proba(x_test)"
   ]
  },
  {
   "cell_type": "markdown",
   "metadata": {},
   "source": [
    "# calculator and other ways to predict\n",
    "another way to get the prediction"
   ]
  },
  {
   "cell_type": "code",
   "execution_count": 51,
   "metadata": {
    "scrolled": false
   },
   "outputs": [
    {
     "data": {
      "text/plain": [
       "1.0"
      ]
     },
     "execution_count": 51,
     "metadata": {},
     "output_type": "execute_result"
    }
   ],
   "source": [
    "gbc.score(x_test,y_pred)"
   ]
  },
  {
   "cell_type": "code",
   "execution_count": 52,
   "metadata": {},
   "outputs": [],
   "source": [
    "dfcol=df.columns"
   ]
  },
  {
   "cell_type": "code",
   "execution_count": 53,
   "metadata": {},
   "outputs": [
    {
     "ename": "IndentationError",
     "evalue": "unexpected indent (<ipython-input-53-3f71db061e9a>, line 2)",
     "output_type": "error",
     "traceback": [
      "\u001b[0;36m  File \u001b[0;32m\"<ipython-input-53-3f71db061e9a>\"\u001b[0;36m, line \u001b[0;32m2\u001b[0m\n\u001b[0;31m    print(\"r\",r)\u001b[0m\n\u001b[0m    ^\u001b[0m\n\u001b[0;31mIndentationError\u001b[0m\u001b[0;31m:\u001b[0m unexpected indent\n"
     ]
    }
   ],
   "source": [
    "r=(float(entries['Annual Income'].get()))\n",
    "    print(\"r\",r)\n",
    "    trm=(float(entries['Term'].get()))\n",
    "    moc=(float(entries['Maximum Open Credit'].get()))\n",
    "    how=(object(entries[\"Home Ownership: (type:rent/own home)\"].get()))\n",
    "    ccb=(float(entries['Current Credit Balance'].get()))\n",
    "    mdbt=(float(entries['Monthly Debt'].get()))\n",
    "    ych=(float(entries['Years of Credit History'].get()))\n",
    "    #principal loan:\n",
    "    loan=float(entries['Current Loan Amount'].get())\n",
    "    ncs=float(entries['Credit Score'].get())"
   ]
  },
  {
   "cell_type": "markdown",
   "metadata": {},
   "source": [
    "# Using Tkinter to build gui"
   ]
  },
  {
   "cell_type": "code",
   "execution_count": null,
   "metadata": {},
   "outputs": [],
   "source": [
    "import tkinter as tk\n",
    "fields=('Annual Income', 'Current Loan Amount', \n",
    "        'Credit Score','Term',\n",
    "        'Debt to Income Ratio','Ratio_loan_paid',\n",
    "        'Maximum Open Credit','Home Ownership',\n",
    "        'Current Credit Balance','Years of Credit History',\n",
    "        'Monthly Debt','Loan Status')\n",
    "\n",
    "def DebttoInncome(entries):\n",
    "    #period rate:\n",
    "    \n",
    "       \n",
    "    #principal loan:\n",
    "    mont_deb=float(entries['Monthly Debt'].get())\n",
    "    ai=float(entries['Annual Income'].get())\n",
    "   # remaining_loan= float(entries['Remaining Loan'].get())\n",
    "    \n",
    "    dti=((((int(mont_deb))+1)/(((int(ai))+1)/12))\n",
    "    monthly=dti\n",
    "    monthly=(\"%8.2f\"% monthly).strip()\n",
    "    entries['Debt to Income Ratio'].delete(0, tk.END)\n",
    "    entries['Debt to Income Ratio'].insert(0,dti)\n",
    "    print(\"Debt to Income Ratio:\" %f %float(dti))\n",
    "    \n",
    "def final_balance(entries):\n",
    "        #period rate:\n",
    "        \n",
    "        r=(float(entries['Annual Rate'].get())/100)/12\n",
    "        print(\"r\",r)\n",
    "        #principal_loanl:\n",
    "        loan=float(entries['Loan Principle'].get())\n",
    "        n= float(entries['Number of Payments'].get())\n",
    "        monthly=float(entries['Monthly Payment'].get())\n",
    "        q=(1+r)**n\n",
    "        remaining= q*loan -((q-1)/r)*monthly \n",
    "           \n",
    "        remaining=(\"%8.2f\" %remaining).strip()\n",
    "        entries['Remaining Loan'].delete(0,tk.END)\n",
    "        entries['Remaining Loan'].insert(0,remaining)\n",
    "        print(\"Remaining Loan: %f\" % float(remaining))\n",
    "        \n",
    "def makeform(root, fields):\n",
    "    entries={}\n",
    "    for field in fields:\n",
    "        print(field)\n",
    "        row=tk.Frame(root)\n",
    "        lab=tk.Label(row, width=22, text=field+\": \", anchor='w')\n",
    "        ent=tk.Entry(row)\n",
    "        ent.insert(0,\"0\")\n",
    "        row.pack(side=tk.TOP, fill=tk.X, padx=5,pady=5)\n",
    "        lab.pack(side=tk.LEFT)\n",
    "        ent.pack(side=tk.RIGHT,\n",
    "                expand=tk.YES,\n",
    "                fill=tk.X)\n",
    "        entries[field]=ent\n",
    "    return entries\n",
    "    \n",
    "if __name__=='__main__':\n",
    "    root=tk.Tk()\n",
    "    ents=makeform(root,fields)\n",
    "    b1=tk.Button(root,text='Final Balance',\n",
    "               command=(lambda e=ents: final_balance(e)))\n",
    "    b1.pack(side=tk.LEFT,padx=5,pady=5)\n",
    "        \n",
    "    b2=tk.Button(root, text=\"Monthly Payment\",\n",
    "                 command=lambda e=ents: monthly_payment(e))\n",
    "    b2.pack(side=tk.LEFT, padx=5, pady=5)\n",
    "        \n",
    "    b3=tk.Button(root, text='Quit',\n",
    "                command=root.quit)\n",
    "    b3.pack(side=tk.LEFT,padx=5,pady=5)\n",
    "    root.mainloop()"
   ]
  }
 ],
 "metadata": {
  "kernelspec": {
   "display_name": "Python 3",
   "language": "python",
   "name": "python3"
  },
  "language_info": {
   "codemirror_mode": {
    "name": "ipython",
    "version": 3
   },
   "file_extension": ".py",
   "mimetype": "text/x-python",
   "name": "python",
   "nbconvert_exporter": "python",
   "pygments_lexer": "ipython3",
   "version": "3.7.3"
  }
 },
 "nbformat": 4,
 "nbformat_minor": 2
}
